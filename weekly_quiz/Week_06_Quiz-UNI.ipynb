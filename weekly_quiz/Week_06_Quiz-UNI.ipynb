{
 "cells": [
  {
   "cell_type": "markdown",
   "metadata": {},
   "source": [
    "# Week 6 Quiz\n",
    "\n",
    "## Name - UNI\n",
    "\n",
    "### Due Sunday Oct 25 11:59pm ET"
   ]
  },
  {
   "cell_type": "code",
   "execution_count": null,
   "metadata": {},
   "outputs": [],
   "source": [
    "import pandas as pd\n",
    "import numpy as np\n",
    "import matplotlib.pyplot as plt\n",
    "import seaborn as sns\n",
    "\n",
    "from sklearn import datasets\n",
    "\n",
    "sns.set_style('darkgrid')\n",
    "%matplotlib inline"
   ]
  },
  {
   "cell_type": "code",
   "execution_count": null,
   "metadata": {},
   "outputs": [],
   "source": [
    "# In addition to the included datasets, the datasets submodule from sklearn also contains\n",
    "# a function to download datasets from OpenML (https://www.openml.org/).\n",
    "# From it's website: [OpenML is] an open, collaborative, frictionless, automated machine learning environment.\n",
    "# One useful feature of OpenML is the ability to explore and retrieve many different datasets.\n",
    "\n",
    "# Here we'll fetch a dataset related to blood-transfusions.\n",
    "# To do that we can just pass the name of the dataset we're interested in.\n",
    "# What we get back is a dictionary containing the data, feature_names and a description of the task.\n",
    "blood_transfusion = datasets.fetch_openml(\"blood-transfusion-service-center\")\n",
    "\n",
    "# We can print out a description of the dataset using blood_transfusion.DESCR.\n",
    "# Note that the target here is \"did the person donate blood in March 2007\".\n",
    "print(blood_transfusion.DESCR)"
   ]
  },
  {
   "cell_type": "code",
   "execution_count": null,
   "metadata": {},
   "outputs": [],
   "source": [
    "# Create a dataframe from the numpy array blood_transfusion.data.\n",
    "# Name the columns using columns=blood_transfusion.feature_names\n",
    "# Store in X\n",
    "X = pd.DataFrame(blood_transfusion.data,\n",
    "                 columns=blood_transfusion.feature_names\n",
    "                )\n",
    "\n",
    "# Only keep 2 of the columns 'V1','V2' for ease of plotting the decision boundary later.\n",
    "X = X.loc[:,['V1','V2']]\n",
    "\n",
    "# Call .describe() on X to confirm that the features have similar scales.\n",
    "# Because of this, we won't standardize this data.\n",
    "X.describe()"
   ]
  },
  {
   "cell_type": "code",
   "execution_count": null,
   "metadata": {},
   "outputs": [],
   "source": [
    "# Create a Series from the numpy array blood_transfusion.target.\n",
    "# Store in y\n",
    "y = pd.Series(blood_transfusion.target)\n",
    "\n",
    "# The function plot_decision_regions() expects class labels as integers increasing from 0\n",
    "# The values in blood_transfusion.target are strings of '1' and '2'. \n",
    "# We'll convert them using .map() which takes a dictionary, mapping from one value to another.\n",
    "y = y.map({'1':0, '2':1})\n",
    "\n",
    "# Call value_counts() on y to see that there are more values of class 0 (not donating) than class 1 (donating)\n",
    "y.value_counts()"
   ]
  },
  {
   "cell_type": "code",
   "execution_count": null,
   "metadata": {},
   "outputs": [],
   "source": [
    "# We'll train a k-Nearest Neighbors Classifier on this data.\n",
    "\n",
    "# Import KNeighborsClassifier from sklear.neighbors\n",
    "____\n",
    "\n",
    "# Instantiate a KNeighborsClassifier \n",
    "#  with n_neighbors=3 \n",
    "#  and store in knn.\n",
    "knn = ____\n",
    "\n",
    "# Fit knn on the data X and targets y\n",
    "____"
   ]
  },
  {
   "cell_type": "code",
   "execution_count": null,
   "metadata": {},
   "outputs": [],
   "source": [
    "# We'll see how well the model is doing on the first three items it was trained on.\n",
    "\n",
    "# Print out the first 3 values in y.\n",
    "# Here we're using .values so that it is easily comparible to the output of knn.predict()\n",
    "print(f'    y = {y.iloc[:3].values}')\n",
    "\n",
    "# Print out the predictions knn makes on the the first 3 rows of data in X using .predict()\n",
    "# Note that sklearn models can take pandas dataframes directly. Do not need to convert to numpy arrays.\n",
    "# For example, if our data was stored in dataframe A, we could just call knn.predict(A).\n",
    "# In this case we only want the predicts on the first 3 rows of X.\n",
    "# We should see misclassifications on the 2nd and 3rd items.\n",
    "print(f'y_hat = {___}')"
   ]
  },
  {
   "cell_type": "code",
   "execution_count": null,
   "metadata": {},
   "outputs": [],
   "source": [
    "# Plot the learned decision boundaries\n",
    "\n",
    "# Import plot_decision_regions from mlxtend.plotting\n",
    "____\n",
    "\n",
    "# Call plot_decision_region using the data and the trained classifier.\n",
    "# Note that plot_decision_region expects numpy arrays, so use X=X.values and y=y.values\n",
    "____"
   ]
  }
 ],
 "metadata": {
  "kernelspec": {
   "display_name": "eods-f20",
   "language": "python",
   "name": "eods-f20"
  },
  "language_info": {
   "codemirror_mode": {
    "name": "ipython",
    "version": 3
   },
   "file_extension": ".py",
   "mimetype": "text/x-python",
   "name": "python",
   "nbconvert_exporter": "python",
   "pygments_lexer": "ipython3",
   "version": "3.8.5"
  }
 },
 "nbformat": 4,
 "nbformat_minor": 4
}
