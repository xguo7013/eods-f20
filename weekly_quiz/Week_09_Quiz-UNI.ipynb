{
 "cells": [
  {
   "cell_type": "markdown",
   "metadata": {},
   "source": [
    "# Week 9 Quiz\n",
    "\n",
    "## [Name] - [UNI]\n",
    "\n",
    "### Due Sun. Nov 22nd, 11:59pm"
   ]
  },
  {
   "cell_type": "markdown",
   "metadata": {},
   "source": [
    "In this quiz we'll practice scaling data and using PCA for dimensionality reduction."
   ]
  },
  {
   "cell_type": "markdown",
   "metadata": {},
   "source": [
    "### Load Standard Libraries"
   ]
  },
  {
   "cell_type": "code",
   "execution_count": null,
   "metadata": {},
   "outputs": [],
   "source": [
    "# Import numpy, pandas, matplotlib.pyplot and seaborn\n",
    "____\n",
    "\n",
    "# Set matplotlib to display inline\n",
    "____"
   ]
  },
  {
   "cell_type": "markdown",
   "metadata": {},
   "source": [
    "### Load the Dataset"
   ]
  },
  {
   "cell_type": "code",
   "execution_count": null,
   "metadata": {},
   "outputs": [],
   "source": [
    "# Import the datasets submodule from sklearn.\n",
    "____\n",
    "\n",
    "# Load the breast cancer dataset using the load_breast_cancer function.\n",
    "# Store in the variable 'cancer'.\n",
    "____\n",
    "\n",
    "# Create a new dataframe df with values from cancer.data and with columns named using cancer.feature_names.\n",
    "____\n",
    "\n",
    "# Print out the shape of df and note the number of rows and columns\n",
    "____"
   ]
  },
  {
   "cell_type": "markdown",
   "metadata": {},
   "source": [
    "### Calculate Summary Stats"
   ]
  },
  {
   "cell_type": "code",
   "execution_count": null,
   "metadata": {},
   "outputs": [],
   "source": [
    "# The distribution of features in this dataset vary quite a bit, affecting PCA performance.\n",
    "# To get a sense of the difference, display the mean and standard deviation of each feature.\n",
    "# An easy way to do this is using the .agg() function, which takes a list of strings describing the functions to apply.\n",
    "# Call .agg() on df with the list ['mean','std']\n",
    "____"
   ]
  },
  {
   "cell_type": "code",
   "execution_count": null,
   "metadata": {},
   "outputs": [],
   "source": [
    "# This dataframe has many columns and few rows, so many columns that all of them cannot be displayed.\n",
    "# For dataframes like this, it can be helpful to transpose them (turn rows into columns and columns into rows).\n",
    "# To do this we can call transpose() on the dataframe, or .T for short.\n",
    "# Print out the transposed version of the results of the .agg() from above.\n",
    "____"
   ]
  },
  {
   "cell_type": "markdown",
   "metadata": {},
   "source": [
    "### Scale the Data"
   ]
  },
  {
   "cell_type": "code",
   "execution_count": null,
   "metadata": {},
   "outputs": [],
   "source": [
    "# Scale the data to mean 0, standard deviation of 1 using sklearn StandardScaler\n",
    "\n",
    "#Import StandardScaler from sklearn\n",
    "____\n",
    "\n",
    "# Using StandardScaler with default settings create a new matrix X_scaled that is a scaled version of df.\n",
    "____\n",
    "\n",
    "# Store X_scaled as a dataframe df_scaled, with the same column names as the original dataframe\n",
    "____\n",
    "\n",
    "# Print the shape of df_scaled. It should match the values found for the original dataframe\n",
    "____"
   ]
  },
  {
   "cell_type": "markdown",
   "metadata": {},
   "source": [
    "### Plot the First 2 Features From the Dataset"
   ]
  },
  {
   "cell_type": "code",
   "execution_count": null,
   "metadata": {},
   "outputs": [],
   "source": [
    "# Using seaborn, create a scatterplot with 'mean radius' on the x-axis and 'mean texture' on the y-axis.\n",
    "# Color the points by their class assignment by setting hue=cancer.target.\n",
    "____\n",
    "\n",
    "# Set the title to 'First Two Features of Dataset'.\n",
    "____"
   ]
  },
  {
   "cell_type": "markdown",
   "metadata": {},
   "source": [
    "### Reduce Data to 2 Dimensions Using PCA"
   ]
  },
  {
   "cell_type": "code",
   "execution_count": null,
   "metadata": {},
   "outputs": [],
   "source": [
    "# Import PCA from sklearn.\n",
    "____\n",
    "\n",
    "# Create a 2D transformation of the dataframe df_scaled using PCA and fit_transform and store in X_pca.\n",
    "____\n",
    "\n",
    "# Print the shape of X_pca.\n",
    "# Note: it should have 2 columns.\n",
    "____"
   ]
  },
  {
   "cell_type": "markdown",
   "metadata": {},
   "source": [
    "### Plot the Reduced Representation"
   ]
  },
  {
   "cell_type": "code",
   "execution_count": null,
   "metadata": {},
   "outputs": [],
   "source": [
    "# Using seaborn, create a scatterplot with the first column of X_pca on the x-axis\n",
    "#    and the second column pf X_pca on the y-axis.\n",
    "# Color the points by their class assignment by setting hue as cancer.target.\n",
    "____\n",
    "\n",
    "# Set the title to '2D PCA'.\n",
    "____\n",
    "\n",
    "# Note that the plot won't look radically different, but there should be more than just \n",
    "# a rotation of the points seen in the plot above of the first 2 dimensions of the dataset"
   ]
  }
 ],
 "metadata": {
  "kernelspec": {
   "display_name": "eods-f20",
   "language": "python",
   "name": "eods-f20"
  },
  "language_info": {
   "codemirror_mode": {
    "name": "ipython",
    "version": 3
   },
   "file_extension": ".py",
   "mimetype": "text/x-python",
   "name": "python",
   "nbconvert_exporter": "python",
   "pygments_lexer": "ipython3",
   "version": "3.8.5"
  }
 },
 "nbformat": 4,
 "nbformat_minor": 2
}
