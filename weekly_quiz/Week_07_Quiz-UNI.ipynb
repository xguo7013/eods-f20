{
 "cells": [
  {
   "cell_type": "markdown",
   "metadata": {},
   "source": [
    "# Week 7 Quiz\n",
    "\n",
    "## Name - UNI"
   ]
  },
  {
   "cell_type": "code",
   "execution_count": null,
   "metadata": {},
   "outputs": [],
   "source": [
    "import numpy as np\n",
    "from sklearn.datasets import load_breast_cancer\n",
    "from sklearn.dummy import DummyClassifier\n",
    "from sklearn.neighbors import KNeighborsClassifier"
   ]
  },
  {
   "cell_type": "code",
   "execution_count": null,
   "metadata": {},
   "outputs": [],
   "source": [
    "# Load the sample breast_cancer dataset from Scikit-Learn\n",
    "#   returning just the X features matrix and y label vector (instead of the full Bunch data-structure)\n",
    "#   This is a common binary classification task dataset used for demonstration.\n",
    "#   For more information, see https://scikit-learn.org/stable/datasets/index.html#breast-cancer-dataset\n",
    "X,y = load_breast_cancer(return_X_y=True)"
   ]
  },
  {
   "cell_type": "code",
   "execution_count": null,
   "metadata": {},
   "outputs": [],
   "source": [
    "# Import the train_test_split function from sklearn.model_selection\n",
    "____\n",
    "\n",
    "# We'll split X and y into X_train,X_test,y_train,y_test \n",
    "#   using train_test_split, stratify using y, using the default test_size.\n",
    "____"
   ]
  },
  {
   "cell_type": "code",
   "execution_count": null,
   "metadata": {},
   "outputs": [],
   "source": [
    "# Get a baseline \n",
    "#   using a DummyClassifier with strategy=\"most_frequent\"\n",
    "#   fit on X_train, y_train\n",
    "____\n",
    "\n",
    "# print out the training set accuracy using dummyc.score()\n",
    "print(f'dummy training set accuracy: {____:0.2f}')\n",
    "\n",
    "# print out the test set accuracy using dummyc.score()\n",
    "print(f'    dummy test set accuracy: {____:0.2f}')"
   ]
  },
  {
   "cell_type": "code",
   "execution_count": null,
   "metadata": {},
   "outputs": [],
   "source": [
    "# Train a k Nearest Neighbors Classifier with n_neighbors=3 on X_train, y_train\n",
    "____\n",
    "\n",
    "# print out the training set accuracy using dummyc.score()\n",
    "print(f'knn training set accuracy: {____:0.2f}')\n",
    "\n",
    "# print out the test set accuracy using dummyc.score()\n",
    "print(f'    knn test set accuracy: {____:0.2f}')"
   ]
  },
  {
   "cell_type": "code",
   "execution_count": null,
   "metadata": {},
   "outputs": [],
   "source": [
    "# To expose the different errors that our knn model is makeing,\n",
    "#  print out a confusion matrix using y_test the predictions of the knn model on X_test\n",
    "\n",
    "# Import the confusion_matrix function from sklearn.metrics\n",
    "____\n",
    "\n",
    "# call confusion_matrix() on the target in y_test and the predictions of knn on X_test\n",
    "____"
   ]
  },
  {
   "cell_type": "markdown",
   "metadata": {},
   "source": [
    "### Question to think about (don't need to answer): \n",
    "**Does our KNeighborsClassifier model seem to be overfitting, underfitting or performing well?**"
   ]
  }
 ],
 "metadata": {
  "kernelspec": {
   "display_name": "eods-f20",
   "language": "python",
   "name": "eods-f20"
  },
  "language_info": {
   "codemirror_mode": {
    "name": "ipython",
    "version": 3
   },
   "file_extension": ".py",
   "mimetype": "text/x-python",
   "name": "python",
   "nbconvert_exporter": "python",
   "pygments_lexer": "ipython3",
   "version": "3.8.5"
  }
 },
 "nbformat": 4,
 "nbformat_minor": 2
}
