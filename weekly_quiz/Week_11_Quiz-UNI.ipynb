{
 "cells": [
  {
   "cell_type": "markdown",
   "metadata": {},
   "source": [
    "# Week 11 Quiz\n",
    "\n",
    "## Name - UNI\n",
    "\n",
    "### Due Sun. Dec 4, 11:59pm"
   ]
  },
  {
   "cell_type": "markdown",
   "metadata": {},
   "source": [
    "The MNIST digits dataset is a dataset commonly used to demonstrate image recognition. \n",
    "\n",
    "The dataset is composed of a set of images of handwritten digits from 0 to 9. There are 1797\n",
    "images, each 8x8 pixels. If we flatten each image we get a dataset of 1797 observations, each with 64\n",
    "features, each belonging to one of 10 classes.\n",
    "\n",
    "In this quiz we'll see how well these images cluster after reducing to each image to 2 dimensions using PCA.\n",
    "\n",
    "\n",
    "We'll compare clustering in 2D to assignments generated on the full 64 dimensional feature space."
   ]
  },
  {
   "cell_type": "markdown",
   "metadata": {},
   "source": [
    "### Setup Environment"
   ]
  },
  {
   "cell_type": "code",
   "execution_count": null,
   "metadata": {},
   "outputs": [],
   "source": [
    "import numpy as np\n",
    "import pandas as pd\n",
    "import seaborn as sns\n",
    "import matplotlib.pyplot as plt\n",
    "\n",
    "%matplotlib inline"
   ]
  },
  {
   "cell_type": "markdown",
   "metadata": {},
   "source": [
    "### Load the Dataset"
   ]
  },
  {
   "cell_type": "code",
   "execution_count": null,
   "metadata": {},
   "outputs": [],
   "source": [
    "# From sklearn datasets import load_digits.\n",
    "from sklearn.datasets import load_digits\n",
    "\n",
    "# Load the dataset into 'digits' using load_digits\n",
    "digits = load_digits()\n",
    "\n",
    "# Extract digits['data'] to X_digits. No need to reshape as each image has already been flattened to 1x64\n",
    "X_digits = digits['data']\n",
    "\n",
    "# Extract the labels in digits['target'] to y_digits\n",
    "y_digits = digits['target']\n",
    "\n",
    "# Assert that the shape of X_digits is 1797 rows, 64 columns\n",
    "assert X_digits.shape == (1797,64)"
   ]
  },
  {
   "cell_type": "code",
   "execution_count": null,
   "metadata": {},
   "outputs": [],
   "source": [
    "# We can use plt.imshow() to display one of the images as an example.\n",
    "# 'digits['images']' is a list of images of size 8x8 pixels.\n",
    "# We can plot the first image using plt.imshow with cmap=plt.cm.gray_r\n",
    "# You should see a black '0' on a white background.\n",
    "plt.imshow(digits['images'][0], cmap=plt.cm.gray_r);"
   ]
  },
  {
   "cell_type": "code",
   "execution_count": null,
   "metadata": {},
   "outputs": [],
   "source": [
    "# First we'll reduce our dataset from 64 to 2 dimensions using PCA\n",
    "\n",
    "# Import PCA from sklearn\n",
    "____\n",
    "\n",
    "# Instantiate a pca object that will result in 2 components being returned.\n",
    "#   Also use random_state=123, all other arguments as their default.\n",
    "# Store as 'pca'.\n",
    "____\n",
    "\n",
    "# Transform X_digits to 2D using fit_transform.\n",
    "# Store as X_2D.\n",
    "____\n",
    "\n",
    "# assert that the dataset has been reduced to 2 dimensions\n",
    "____"
   ]
  },
  {
   "cell_type": "code",
   "execution_count": null,
   "metadata": {},
   "outputs": [],
   "source": [
    "# Create a scatterplot of X_2D\n",
    "# First, create a fig and axis with figsize=(8,8)\n",
    "# Use sns.scatterplot to plot X_2D with \n",
    "#   s=80 to make each point a larger size\n",
    "#   alpha=.8 to make points slightly transparent\n",
    "____\n",
    "____"
   ]
  },
  {
   "cell_type": "code",
   "execution_count": null,
   "metadata": {},
   "outputs": [],
   "source": [
    "# Cluster the data using KMeans\n",
    "\n",
    "# Import KMeans from sklearn\n",
    "____\n",
    "\n",
    "# Intantiate a KMeans object which will generate 10 clusters.\n",
    "# Use random_state=123, all other arguments as their default.\n",
    "# Store as 'km'.\n",
    "____\n",
    "\n",
    "# Use .fit_predict() on X_2D to both fit our k-means model and generate cluster assignments.\n",
    "# Store the result as cluster_assignments_2D.\n",
    "____\n",
    "\n",
    "# print the first 10 cluster assignments\n",
    "____"
   ]
  },
  {
   "cell_type": "code",
   "execution_count": null,
   "metadata": {},
   "outputs": [],
   "source": [
    "# Plot X_2D colored by their cluster assignments\n",
    "# Note that the legend shows cluster assignment, not digit label\n",
    "# Use the same argument settings as above, but additionally set\n",
    "#   hue=cluster_assignments_2D to color each point by it's cluster assignment\n",
    "#   palette='bright' to use a brighter color palette than the seaborn default\n",
    "____\n",
    "____"
   ]
  },
  {
   "cell_type": "code",
   "execution_count": null,
   "metadata": {},
   "outputs": [],
   "source": [
    "# Which digits were placed in cluster 0?\n",
    "# Since we actually have labels for these images we can see which \n",
    "#   digits were placed in cluster 0 without looking at the images themselves.\n",
    "y_digits[cluster_assignments_2D == 0]"
   ]
  },
  {
   "cell_type": "code",
   "execution_count": null,
   "metadata": {},
   "outputs": [],
   "source": [
    "# This clustering doesn't seem to working very well in 2D.\n",
    "# We're seeing many different digits clustered together\n",
    "\n",
    "# Try generating 10 new clusters (with random_state=123) in the original 64 dimensional space using X_digits.\n",
    "# Store the assignments in cluster_assignments_64D\n",
    "____\n",
    "\n",
    "# Plot a scatterplot of X_2D again, this time colored by cluster_assignments_64D\n",
    "# Use the same argument settings as above, but with hue=cluster_assignments_64D\n",
    "____\n",
    "____"
   ]
  },
  {
   "cell_type": "code",
   "execution_count": null,
   "metadata": {},
   "outputs": [],
   "source": [
    "# Which digits were placed in cluster 0 when clustered in the full feature-space?\n",
    "# One of the methods mentioned for judging the quality of cluster assignments was homogeneity.\n",
    "# This cluster is much more \"homogeneous\" than the cluster we saw above\n",
    "y_digits[cluster_assignments_64D == 0]"
   ]
  },
  {
   "cell_type": "code",
   "execution_count": null,
   "metadata": {},
   "outputs": [],
   "source": [
    "# Optional:\n",
    "\n",
    "# sklearn has a metric homogeneity_score which measures the homogeneity of clusters\n",
    "# It returns a value between 0 and 1, where higher means more homogeneous.\n",
    "# Using y_digits, cluster_assignments_2D and cluster_assignments_64D, confirm that the assignments \n",
    "#   predicted using the full ^4D feature-space is more homogenous than the \n",
    "#   assignments made using the 2D representation\n",
    "#\n",
    "# Refer to the documentation here:\n",
    "#   https://scikit-learn.org/stable/modules/generated/sklearn.metrics.homogeneity_score.html\n",
    "\n",
    "# import homogeneity_score\n",
    "____\n",
    "\n",
    "print(f'homogeneity score for 2D : {____}')\n",
    "print(f'homogeneity score for 64D: {____)}')"
   ]
  }
 ],
 "metadata": {
  "kernelspec": {
   "display_name": "eods-f20",
   "language": "python",
   "name": "eods-f20"
  },
  "language_info": {
   "codemirror_mode": {
    "name": "ipython",
    "version": 3
   },
   "file_extension": ".py",
   "mimetype": "text/x-python",
   "name": "python",
   "nbconvert_exporter": "python",
   "pygments_lexer": "ipython3",
   "version": "3.8.5"
  }
 },
 "nbformat": 4,
 "nbformat_minor": 2
}
