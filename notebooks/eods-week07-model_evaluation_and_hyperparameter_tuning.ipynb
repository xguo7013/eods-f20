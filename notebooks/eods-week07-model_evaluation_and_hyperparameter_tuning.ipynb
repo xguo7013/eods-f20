{
 "cells": [
  {
   "cell_type": "markdown",
   "metadata": {
    "slideshow": {
     "slide_type": "slide"
    }
   },
   "source": [
    "## <center>Elements Of Data Science - F2020</center>\n",
    "# <center>Week 7: Model Evaluation and Hyperparameter Tuning<center>\n",
    "### <center>10/26/2020</center>"
   ]
  },
  {
   "cell_type": "code",
   "execution_count": 1,
   "metadata": {
    "slideshow": {
     "slide_type": "skip"
    }
   },
   "outputs": [],
   "source": [
    "import numpy\n",
    "import numpy as np\n",
    "import pandas as pd\n",
    "import matplotlib.pyplot as plt\n",
    "import seaborn as sns\n",
    "\n",
    "from mlxtend.plotting import plot_decision_regions\n",
    "\n",
    "sns.set_style('darkgrid')\n",
    "%matplotlib inline"
   ]
  },
  {
   "cell_type": "markdown",
   "metadata": {
    "slideshow": {
     "slide_type": "slide"
    }
   },
   "source": [
    "# TODOs\n",
    "\n",
    "- Readings:\n",
    " - [PDSH Chapter 5: Feature Engineering](https://jakevdp.github.io/PythonDataScienceHandbook/05.04-feature-engineering.html)\n",
    " - (Recommended) PML Chapter 4\n",
    "    \n",
    "- HW2, Out this week?\n",
    "\n",
    "- Answer and submit Quiz 7, **Sunday Nov 8th, 11:59pm ET**\n",
    "\n",
    "- **Midterm**\n",
    " - Release **Monday Oct 26th, 11:59pm ET**\n",
    " - Due **Saturday Oct 31st, 11:59pm ET**\n",
    " - Have 24hrs after starting exam to finish\n",
    " - 30 questions (fill in the blank/multiple choice/short answer)\n",
    " - Online via Gradescope\n",
    " - Questions asked/answered **privately** via Piazza\n",
    " - Open-book, open-note, open-python"
   ]
  },
  {
   "cell_type": "markdown",
   "metadata": {
    "slideshow": {
     "slide_type": "slide"
    }
   },
   "source": [
    "# Generating Predictions for a Single Value"
   ]
  },
  {
   "cell_type": "code",
   "execution_count": 2,
   "metadata": {
    "slideshow": {
     "slide_type": "fragment"
    }
   },
   "outputs": [],
   "source": [
    "from sklearn.linear_model import LogisticRegression"
   ]
  },
  {
   "cell_type": "code",
   "execution_count": 3,
   "metadata": {
    "slideshow": {
     "slide_type": "fragment"
    }
   },
   "outputs": [
    {
     "data": {
      "text/plain": [
       "array([0])"
      ]
     },
     "execution_count": 3,
     "metadata": {},
     "output_type": "execute_result"
    }
   ],
   "source": [
    "X = np.random.rand(5,2)\n",
    "y = (np.random.rand(5) > .5).astype(int)\n",
    "\n",
    "lr = LogisticRegression().fit(X,y)\n",
    "\n",
    "# use reshape(1,-1) when generating a single prediction\n",
    "# recall that sklearn expects X to be two dimensional\n",
    "lr.predict(np.array([.2,.3]).reshape(1,-1))"
   ]
  },
  {
   "cell_type": "code",
   "execution_count": 4,
   "metadata": {
    "slideshow": {
     "slide_type": "fragment"
    }
   },
   "outputs": [
    {
     "data": {
      "text/plain": [
       "array([0])"
      ]
     },
     "execution_count": 4,
     "metadata": {},
     "output_type": "execute_result"
    }
   ],
   "source": [
    "# Note: this is different from when training on a single feature: .reshape(-1,1)\n",
    "lr.fit(X[:,0].reshape(-1,1),y)\n",
    "\n",
    "lr.predict(np.array(.2).reshape(1,-1))"
   ]
  },
  {
   "cell_type": "markdown",
   "metadata": {
    "slideshow": {
     "slide_type": "slide"
    }
   },
   "source": [
    "# Today\n",
    "\n",
    "- Model Evaluation and Selection\n",
    "- Hyperparameter Tuning\n",
    "- Regularization"
   ]
  },
  {
   "cell_type": "markdown",
   "metadata": {
    "slideshow": {
     "slide_type": "slide"
    }
   },
   "source": [
    "<br>\n",
    "<br>\n",
    "\n",
    "# <center>Questions?</center>\n",
    "<br>\n",
    "<br>"
   ]
  },
  {
   "cell_type": "markdown",
   "metadata": {
    "slideshow": {
     "slide_type": "slide"
    }
   },
   "source": [
    "# Model Evaluation and Hyperparameter Tuning\n",
    "<br>\n",
    "\n",
    "- How well are any of our models working?\n",
    "- How can we compare different models?\n",
    "- How do we decide on hyperparameter settings?\n",
    "- How can we keep our models from \"overfitting\"?\n",
    "- How do we do all this both for Regression and Classification?"
   ]
  },
  {
   "cell_type": "markdown",
   "metadata": {
    "slideshow": {
     "slide_type": "slide"
    }
   },
   "source": [
    "# How well are our models performing?\n",
    "\n",
    "## Regression\n",
    "\n",
    "- Mean Squared Error (MSE) and Root Mean Squared Error (RMSE)\n",
    "- $R^2$\n",
    "- Adjusted $R^2$\n",
    "\n",
    "## Classification\n",
    "\n",
    "- Accuracy\n",
    "- Precision/Recall/F1\n",
    "- ROC Area Under the Curve (AUC)"
   ]
  },
  {
   "cell_type": "markdown",
   "metadata": {
    "slideshow": {
     "slide_type": "slide"
    }
   },
   "source": [
    "# Data Setup for Regression"
   ]
  },
  {
   "cell_type": "code",
   "execution_count": 5,
   "metadata": {
    "slideshow": {
     "slide_type": "fragment"
    }
   },
   "outputs": [],
   "source": [
    "zscore = lambda x: (x - x.mean()) / x.std()\n",
    "\n",
    "df_wine = pd.read_csv('../data/wine_dataset.csv',\n",
    "                      usecols=['alcalinity_of_ash','magnesium','alcohol','ash','proline','hue','class'])\n",
    "numeric_cols = ['alcalinity_of_ash','magnesium','alcohol','ash','proline','hue']\n",
    "\n",
    "df_wine[numeric_cols] = df_wine[numeric_cols].apply(zscore)  # standardize numeric feature cols\n",
    "\n",
    "X_r = df_wine[['proline','hue','ash']]                       # multiple features for regression task\n",
    "\n",
    "X_1d = X_r.proline.values.reshape(-1,1)                      # create single feature vector using reshape\n",
    "\n",
    "y_r = df_wine['alcohol']                                     # pull out regression target"
   ]
  },
  {
   "cell_type": "code",
   "execution_count": 6,
   "metadata": {},
   "outputs": [
    {
     "data": {
      "text/html": [
       "<div>\n",
       "<style scoped>\n",
       "    .dataframe tbody tr th:only-of-type {\n",
       "        vertical-align: middle;\n",
       "    }\n",
       "\n",
       "    .dataframe tbody tr th {\n",
       "        vertical-align: top;\n",
       "    }\n",
       "\n",
       "    .dataframe thead th {\n",
       "        text-align: right;\n",
       "    }\n",
       "</style>\n",
       "<table border=\"1\" class=\"dataframe\">\n",
       "  <thead>\n",
       "    <tr style=\"text-align: right;\">\n",
       "      <th></th>\n",
       "      <th>alcohol</th>\n",
       "      <th>ash</th>\n",
       "      <th>alcalinity_of_ash</th>\n",
       "      <th>magnesium</th>\n",
       "      <th>hue</th>\n",
       "      <th>proline</th>\n",
       "      <th>class</th>\n",
       "    </tr>\n",
       "  </thead>\n",
       "  <tbody>\n",
       "    <tr>\n",
       "      <th>0</th>\n",
       "      <td>1.514341</td>\n",
       "      <td>0.231400</td>\n",
       "      <td>-1.166303</td>\n",
       "      <td>1.908522</td>\n",
       "      <td>0.361158</td>\n",
       "      <td>1.010159</td>\n",
       "      <td>0</td>\n",
       "    </tr>\n",
       "    <tr>\n",
       "      <th>1</th>\n",
       "      <td>0.245597</td>\n",
       "      <td>-0.825667</td>\n",
       "      <td>-2.483841</td>\n",
       "      <td>0.018094</td>\n",
       "      <td>0.404908</td>\n",
       "      <td>0.962526</td>\n",
       "      <td>0</td>\n",
       "    </tr>\n",
       "    <tr>\n",
       "      <th>2</th>\n",
       "      <td>0.196325</td>\n",
       "      <td>1.106214</td>\n",
       "      <td>-0.267982</td>\n",
       "      <td>0.088110</td>\n",
       "      <td>0.317409</td>\n",
       "      <td>1.391224</td>\n",
       "      <td>0</td>\n",
       "    </tr>\n",
       "    <tr>\n",
       "      <th>3</th>\n",
       "      <td>1.686791</td>\n",
       "      <td>0.486554</td>\n",
       "      <td>-0.806975</td>\n",
       "      <td>0.928300</td>\n",
       "      <td>-0.426341</td>\n",
       "      <td>2.328007</td>\n",
       "      <td>0</td>\n",
       "    </tr>\n",
       "    <tr>\n",
       "      <th>4</th>\n",
       "      <td>0.294868</td>\n",
       "      <td>1.835226</td>\n",
       "      <td>0.450674</td>\n",
       "      <td>1.278379</td>\n",
       "      <td>0.361158</td>\n",
       "      <td>-0.037767</td>\n",
       "      <td>0</td>\n",
       "    </tr>\n",
       "    <tr>\n",
       "      <th>...</th>\n",
       "      <td>...</td>\n",
       "      <td>...</td>\n",
       "      <td>...</td>\n",
       "      <td>...</td>\n",
       "      <td>...</td>\n",
       "      <td>...</td>\n",
       "      <td>...</td>\n",
       "    </tr>\n",
       "    <tr>\n",
       "      <th>173</th>\n",
       "      <td>0.873810</td>\n",
       "      <td>0.304301</td>\n",
       "      <td>0.300954</td>\n",
       "      <td>-0.331985</td>\n",
       "      <td>-1.388840</td>\n",
       "      <td>-0.021890</td>\n",
       "      <td>2</td>\n",
       "    </tr>\n",
       "    <tr>\n",
       "      <th>174</th>\n",
       "      <td>0.491955</td>\n",
       "      <td>0.413653</td>\n",
       "      <td>1.049555</td>\n",
       "      <td>0.158126</td>\n",
       "      <td>-1.126341</td>\n",
       "      <td>0.009866</td>\n",
       "      <td>2</td>\n",
       "    </tr>\n",
       "    <tr>\n",
       "      <th>175</th>\n",
       "      <td>0.331822</td>\n",
       "      <td>-0.388260</td>\n",
       "      <td>0.151234</td>\n",
       "      <td>1.418411</td>\n",
       "      <td>-1.607590</td>\n",
       "      <td>0.279786</td>\n",
       "      <td>2</td>\n",
       "    </tr>\n",
       "    <tr>\n",
       "      <th>176</th>\n",
       "      <td>0.208643</td>\n",
       "      <td>0.012696</td>\n",
       "      <td>0.151234</td>\n",
       "      <td>1.418411</td>\n",
       "      <td>-1.563840</td>\n",
       "      <td>0.295664</td>\n",
       "      <td>2</td>\n",
       "    </tr>\n",
       "    <tr>\n",
       "      <th>177</th>\n",
       "      <td>1.391162</td>\n",
       "      <td>1.361368</td>\n",
       "      <td>1.498716</td>\n",
       "      <td>-0.261969</td>\n",
       "      <td>-1.520090</td>\n",
       "      <td>-0.593486</td>\n",
       "      <td>2</td>\n",
       "    </tr>\n",
       "  </tbody>\n",
       "</table>\n",
       "<p>178 rows × 7 columns</p>\n",
       "</div>"
      ],
      "text/plain": [
       "      alcohol       ash  alcalinity_of_ash  magnesium       hue   proline  \\\n",
       "0    1.514341  0.231400          -1.166303   1.908522  0.361158  1.010159   \n",
       "1    0.245597 -0.825667          -2.483841   0.018094  0.404908  0.962526   \n",
       "2    0.196325  1.106214          -0.267982   0.088110  0.317409  1.391224   \n",
       "3    1.686791  0.486554          -0.806975   0.928300 -0.426341  2.328007   \n",
       "4    0.294868  1.835226           0.450674   1.278379  0.361158 -0.037767   \n",
       "..        ...       ...                ...        ...       ...       ...   \n",
       "173  0.873810  0.304301           0.300954  -0.331985 -1.388840 -0.021890   \n",
       "174  0.491955  0.413653           1.049555   0.158126 -1.126341  0.009866   \n",
       "175  0.331822 -0.388260           0.151234   1.418411 -1.607590  0.279786   \n",
       "176  0.208643  0.012696           0.151234   1.418411 -1.563840  0.295664   \n",
       "177  1.391162  1.361368           1.498716  -0.261969 -1.520090 -0.593486   \n",
       "\n",
       "     class  \n",
       "0        0  \n",
       "1        0  \n",
       "2        0  \n",
       "3        0  \n",
       "4        0  \n",
       "..     ...  \n",
       "173      2  \n",
       "174      2  \n",
       "175      2  \n",
       "176      2  \n",
       "177      2  \n",
       "\n",
       "[178 rows x 7 columns]"
      ]
     },
     "execution_count": 6,
     "metadata": {},
     "output_type": "execute_result"
    }
   ],
   "source": [
    "df_wine"
   ]
  },
  {
   "cell_type": "markdown",
   "metadata": {
    "slideshow": {
     "slide_type": "slide"
    }
   },
   "source": [
    "# Regression with Simple Linear Model"
   ]
  },
  {
   "cell_type": "code",
   "execution_count": 7,
   "metadata": {},
   "outputs": [
    {
     "data": {
      "image/png": "[encoded data removed]",
      "text/plain": [
       "<Figure size 576x432 with 1 Axes>"
      ]
     },
     "metadata": {
      "needs_background": "light"
     },
     "output_type": "display_data"
    }
   ],
   "source": [
    "from sklearn.linear_model import LinearRegression\n",
    "\n",
    "lr = LinearRegression().fit(X_1d,y_r)\n",
    "argmax_y_r = np.argmax(y_r)\n",
    "y_pred = lr.predict(X_1d)\n",
    "\n",
    "fig,ax = plt.subplots(1,1,figsize=(8,6))\n",
    "sns.scatterplot(x=X_r.proline, y=y_r, color='grey');\n",
    "ax.plot(X_1d,y_pred,color='k');\n",
    "ax.vlines(X_1d[argmax_y_r],y_r.iloc[argmax_y_r],y_pred[argmax_y_r],color='r');"
   ]
  },
  {
   "cell_type": "markdown",
   "metadata": {
    "slideshow": {
     "slide_type": "slide"
    }
   },
   "source": [
    "# How Good is This Fit? MSE and RMSE\n",
    "<br>\n",
    "\n",
    "- **Mean Squared Error:** $\\sum_i{(y_i - \\hat{y}_i)^2}$"
   ]
  },
  {
   "cell_type": "code",
   "execution_count": 8,
   "metadata": {
    "slideshow": {
     "slide_type": "fragment"
    }
   },
   "outputs": [
    {
     "data": {
      "text/plain": [
       "'lr_mse = 0.58'"
      ]
     },
     "execution_count": 8,
     "metadata": {},
     "output_type": "execute_result"
    }
   ],
   "source": [
    "from sklearn.metrics import mean_squared_error\n",
    "\n",
    "lr_mse = mean_squared_error(y_r,y_pred)\n",
    "f'{lr_mse = :0.2f}'"
   ]
  },
  {
   "cell_type": "markdown",
   "metadata": {
    "slideshow": {
     "slide_type": "fragment"
    }
   },
   "source": [
    "- But this is the squared error! (alcohol^2)\n",
    "<br>\n",
    "\n",
    "- **Root Mean Squared Error:** $\\sqrt{\\sum_i{(y_i-\\hat{y}_i)^2}}$"
   ]
  },
  {
   "cell_type": "code",
   "execution_count": 9,
   "metadata": {
    "slideshow": {
     "slide_type": "fragment"
    }
   },
   "outputs": [
    {
     "data": {
      "text/plain": [
       "'lr_rmse = 0.76'"
      ]
     },
     "execution_count": 9,
     "metadata": {},
     "output_type": "execute_result"
    }
   ],
   "source": [
    "def root_mean_squared_error(y_true, y_pred):\n",
    "    return np.sqrt(mean_squared_error(y_true,y_pred))\n",
    "\n",
    "lr_rmse = root_mean_squared_error(y_r,y_pred)\n",
    "f'{lr_rmse = :0.2f}'"
   ]
  },
  {
   "cell_type": "markdown",
   "metadata": {
    "slideshow": {
     "slide_type": "slide"
    }
   },
   "source": [
    "# Is this good? Need a Baseline Comparison\n",
    "<br>\n",
    "\n",
    "- What's a baseline to compare against?\n",
    "- Simple one for Regression: always predict the mean of the targets"
   ]
  },
  {
   "cell_type": "code",
   "execution_count": 10,
   "metadata": {
    "slideshow": {
     "slide_type": "fragment"
    }
   },
   "outputs": [
    {
     "data": {
      "text/plain": [
       "'dummy_rmse = 1.00'"
      ]
     },
     "execution_count": 10,
     "metadata": {},
     "output_type": "execute_result"
    }
   ],
   "source": [
    "from sklearn.dummy import DummyRegressor\n",
    "\n",
    "dummyr = DummyRegressor(strategy='mean') # default strategy\n",
    "dummyr.fit(X_1d,y_r)\n",
    "\n",
    "dummy_rmse = root_mean_squared_error(y_r,dummyr.predict(X_1d))\n",
    "\n",
    "f'{dummy_rmse = :0.2f}'"
   ]
  },
  {
   "cell_type": "markdown",
   "metadata": {
    "slideshow": {
     "slide_type": "slide"
    }
   },
   "source": [
    "# Comparing against the mean: $R^2$\n",
    "\n",
    "- the proportion of variance explained by the model\n",
    "<br>\n",
    "<br>\n",
    "\n",
    "<center>$\\Large R^2 = 1 - \\frac{\\sum{(y_i - \\hat{y}_i)^2}}{\\sum(y_i - \\bar{y})^2}$</center>\n",
    "<br>\n",
    "\n",
    "- maximum value of 1\n",
    "- a value below 0 means the model is predicting worse than just predicting the mean\n",
    "- sklearn uses $R^2$ as the default for regression scoring"
   ]
  },
  {
   "cell_type": "code",
   "execution_count": 11,
   "metadata": {},
   "outputs": [
    {
     "name": "stdout",
     "output_type": "stream",
     "text": [
      "r2_dummyr = 0.00\n",
      "r2_lr     = 0.41\n"
     ]
    }
   ],
   "source": [
    "r2_lr = lr.score(X_1d,y_r)\n",
    "r2_dummyr = dummyr.score(X_1d,y_r)\n",
    "\n",
    "print(f'{r2_dummyr = :0.2f}\\n{r2_lr     = :0.2f}')"
   ]
  },
  {
   "cell_type": "markdown",
   "metadata": {
    "slideshow": {
     "slide_type": "slide"
    }
   },
   "source": [
    "# Can we do better?"
   ]
  },
  {
   "cell_type": "code",
   "execution_count": 12,
   "metadata": {
    "slideshow": {
     "slide_type": "fragment"
    }
   },
   "outputs": [
    {
     "name": "stdout",
     "output_type": "stream",
     "text": [
      "r2_lr  = 0.41\n",
      "r2_dtr = 0.76\n"
     ]
    }
   ],
   "source": [
    "from sklearn.tree import DecisionTreeRegressor\n",
    "\n",
    "dtr = DecisionTreeRegressor(max_depth=10)\n",
    "dtr.fit(X_1d,y_r)\n",
    "r2_dtr = dtr.score(X_1d,y_r)\n",
    "print(f'{r2_lr  = :0.2f}\\n{r2_dtr = :0.2f}')"
   ]
  },
  {
   "cell_type": "code",
   "execution_count": 13,
   "metadata": {
    "slideshow": {
     "slide_type": "fragment"
    }
   },
   "outputs": [
    {
     "data": {
      "image/png": "[encoded data removed]",
      "text/plain": [
       "<Figure size 576x432 with 1 Axes>"
      ]
     },
     "metadata": {
      "needs_background": "light"
     },
     "output_type": "display_data"
    }
   ],
   "source": [
    "X_1d_sorted = np.sort(X_1d.flatten()).reshape(-1,1)\n",
    "X_query = np.linspace(X_1d.min(),X_1d.max(),1000).reshape(-1,1)\n",
    "y_pred = dtr.predict(X_query)\n",
    "fig,ax = plt.subplots(1,1,figsize=(8,6))\n",
    "sns.scatterplot(x=X_r.proline, y=y_r,color='gray');\n",
    "ax.plot(X_query,y_pred,color='b');"
   ]
  },
  {
   "cell_type": "markdown",
   "metadata": {
    "slideshow": {
     "slide_type": "slide"
    }
   },
   "source": [
    "# But is this what we want? Interpretation vs Prediction\n",
    "<br>\n",
    "\n",
    "Always good to ask:\n",
    "- do we want our model to very closely fit our data for interpretation?\n",
    "- do we want our model to predict well on new, unseen data?\n",
    "<br>\n",
    "\n",
    "**Generalization:**\n",
    "- how well will model predict on data that it hasn't seen yet?\n",
    "<br>\n",
    "\n",
    "But we used all of our data to train?\n",
    "- Need to do a **Train/Test Split**"
   ]
  },
  {
   "cell_type": "markdown",
   "metadata": {
    "slideshow": {
     "slide_type": "slide"
    }
   },
   "source": [
    "# Train/Test Split\n",
    "<br>\n",
    "\n",
    "- **Training Set:** portion of dataset used for training\n",
    "- **Test/Held-Aside/Out of sample:** portion of dataset used for evaluation\n",
    "<br>\n",
    "\n",
    "- Want the test set to reflect the same distribution as training\n",
    "<bf>\n",
    "<br>\n",
    "    \n",
    "<div align=\"center\"><img src=\"images/train_test_split.png\" width=\"600px\"></div>\n",
    "\n",
    "<font size=4>From https://www.researchgate.net/figure/Train-Test-Data-Split_fig6_325870973</font>"
   ]
  },
  {
   "cell_type": "markdown",
   "metadata": {
    "slideshow": {
     "slide_type": "slide"
    }
   },
   "source": [
    "# Train/Test split with Sklearn"
   ]
  },
  {
   "cell_type": "code",
   "execution_count": 14,
   "metadata": {
    "slideshow": {
     "slide_type": "fragment"
    }
   },
   "outputs": [
    {
     "name": "stdout",
     "output_type": "stream",
     "text": [
      "178\n",
      "133\n",
      "45\n"
     ]
    }
   ],
   "source": [
    "from sklearn.model_selection import train_test_split\n",
    "\n",
    "X_train_r,X_test_r,y_train_r,y_test_r = train_test_split(X_1d,\n",
    "                                                         y_r,\n",
    "                                                         test_size=.25, #default\n",
    "                                                         random_state=123)\n",
    "print(X_1d.shape[0])\n",
    "print(X_train_r.shape[0])\n",
    "print(X_test_r.shape[0])"
   ]
  },
  {
   "cell_type": "markdown",
   "metadata": {
    "slideshow": {
     "slide_type": "fragment"
    }
   },
   "source": [
    "- How big should test be? \n",
    " - Large enough to capture variance of dataset.\n",
    " - Depends on the dataset and the models being trained"
   ]
  },
  {
   "cell_type": "markdown",
   "metadata": {
    "slideshow": {
     "slide_type": "slide"
    }
   },
   "source": [
    "# Training and Evaluate on Different Data"
   ]
  },
  {
   "cell_type": "code",
   "execution_count": 15,
   "metadata": {
    "slideshow": {
     "slide_type": "fragment"
    }
   },
   "outputs": [
    {
     "name": "stdout",
     "output_type": "stream",
     "text": [
      "r2_dummyr = -0.03\n",
      "r2_lr     =  0.28\n",
      "r2_dtr    = -0.31\n"
     ]
    }
   ],
   "source": [
    "dummyr = DummyRegressor().fit(X_train_r,y_train_r)\n",
    "lr = LinearRegression().fit(X_train_r,y_train_r)\n",
    "dtr = DecisionTreeRegressor(max_depth=10).fit(X_train_r,y_train_r)\n",
    "\n",
    "r2_dummyr = dummyr.score(X_test_r,y_test_r)\n",
    "r2_lr     = lr.score(X_test_r,y_test_r)\n",
    "r2_dtr    = dtr.score(X_test_r,y_test_r)\n",
    "\n",
    "print(f'{r2_dummyr = : 0.2f}\\n{r2_lr     = : 0.2f}\\n{r2_dtr    = : 0.2f}')"
   ]
  },
  {
   "cell_type": "markdown",
   "metadata": {
    "slideshow": {
     "slide_type": "fragment"
    }
   },
   "source": [
    "- DecisionTree model is doing worse than the Dummy model on the test set!"
   ]
  },
  {
   "cell_type": "markdown",
   "metadata": {
    "slideshow": {
     "slide_type": "slide"
    }
   },
   "source": [
    "# Overfitting and Underfitting"
   ]
  },
  {
   "cell_type": "markdown",
   "metadata": {
    "slideshow": {
     "slide_type": "fragment"
    }
   },
   "source": [
    "- **Overfitting:** poor generalization due to complexity\n",
    " - learning noise in training data\n",
    "<br>\n",
    "<br>\n",
    "\n",
    "- **Underfitting:** poor generalization due to simplicity\n",
    " - not flexibile enough to learn concept\n",
    "<br>\n",
    "<br>\n",
    "\n",
    "- Need to find a balance between simplicity and complexity\n",
    "- Need to find a balance between **bias** and **variance**\n"
   ]
  },
  {
   "cell_type": "markdown",
   "metadata": {
    "slideshow": {
     "slide_type": "slide"
    }
   },
   "source": [
    "# Bias-Variance Tradeoff\n",
    "<br>\n",
    "\n",
    "<div align=\"center\"><img src=\"images/05.03-bias-variance.png\" width=\"1400px\"></div>\n",
    "\n",
    "From PDSH"
   ]
  },
  {
   "cell_type": "markdown",
   "metadata": {
    "slideshow": {
     "slide_type": "slide"
    }
   },
   "source": [
    "# Bias-Variance Tradeoff\n",
    "<br>\n",
    "\n",
    "<div align=\"center\"><img src=\"images/05.03-bias-variance-2.png\" width=\"1400px\"></div>\n",
    "\n",
    "From PDSH"
   ]
  },
  {
   "cell_type": "markdown",
   "metadata": {
    "slideshow": {
     "slide_type": "slide"
    }
   },
   "source": [
    "# Bias-Variance Tradeoff Continued\n",
    "<br>\n",
    "\n",
    "- How close is the model to the underlying concept?\n",
    "- How sensitive is the model to the training set?\n",
    "\n",
    "<div align=\"center\"><img src=\"images/bias_variance_targets.jpeg\" width=\"900px\"></div>"
   ]
  },
  {
   "cell_type": "markdown",
   "metadata": {
    "slideshow": {
     "slide_type": "slide"
    }
   },
   "source": [
    "# Bias-Variance Tradeoff Continued\n",
    "<br>\n",
    "<br>\n",
    "\n",
    "<div align=\"center\"><img src=\"images/bias-variance-tradeoff.png\" width=\"800px\"></div>\n",
    "\n",
    "- We'd like to: \n",
    " - reduce the Bias (use a model complex enough to capture the concept)\n",
    " - without introducing too much Variance (overfit the data)\n",
    " - all in order to minimize **Generalization Error**"
   ]
  },
  {
   "cell_type": "markdown",
   "metadata": {
    "slideshow": {
     "slide_type": "slide"
    }
   },
   "source": [
    "# Overfitting/Underfitting Revisited\n",
    "<br>\n",
    "\n",
    "- **Overfitting:** poor generalization due to complexity\n",
    " - learning noise in training data\n",
    " - model has **high variance and low bias**\n",
    "\n",
    "\n",
    "- **Underfitting:** poor generalization due to simplicity\n",
    " - not flexibile enough to learn concept\n",
    " - model has **high bias and low variance**"
   ]
  },
  {
   "cell_type": "markdown",
   "metadata": {
    "slideshow": {
     "slide_type": "slide"
    }
   },
   "source": [
    "# Avoiding Overfitting/Underfitting"
   ]
  },
  {
   "cell_type": "markdown",
   "metadata": {
    "slideshow": {
     "slide_type": "fragment"
    }
   },
   "source": [
    "- Never train and evaluate on the same set of data!\n",
    " - train test split\n",
    " - **cross-validation**\n",
    "\n",
    "- Keep the model as simple as possible (Occom's Razor)"
   ]
  },
  {
   "cell_type": "code",
   "execution_count": 16,
   "metadata": {
    "slideshow": {
     "slide_type": "fragment"
    }
   },
   "outputs": [
    {
     "data": {
      "image/png": "[encoded data removed]",
      "text/plain": [
       "<Figure size 1152x288 with 3 Axes>"
      ]
     },
     "metadata": {
      "needs_background": "light"
     },
     "output_type": "display_data"
    }
   ],
   "source": [
    "fig,ax = plt.subplots(1,3,figsize=(16,4))\n",
    "for i in range(3):\n",
    "    sns.scatterplot(x=X_train_r.flatten(),y=y_train_r,color=\"gray\",ax=ax[i])\n",
    "    sns.scatterplot(x=X_test_r.flatten(),y=y_test_r,color=\"black\",s=100,ax=ax[i]);\n",
    "ax[0].plot(X_query,dummyr.predict(X_query),color='r');\n",
    "ax[1].plot(X_query,lr.predict(X_query),color='g');\n",
    "ax[2].plot(X_query,dtr.predict(X_query),color='b');"
   ]
  },
  {
   "cell_type": "markdown",
   "metadata": {
    "slideshow": {
     "slide_type": "slide"
    }
   },
   "source": [
    "# Overfitting? Simplify the model"
   ]
  },
  {
   "cell_type": "code",
   "execution_count": 17,
   "metadata": {
    "slideshow": {
     "slide_type": "fragment"
    }
   },
   "outputs": [
    {
     "data": {
      "image/png": "[encoded data removed]",
      "text/plain": [
       "<Figure size 1152x288 with 3 Axes>"
      ]
     },
     "metadata": {
      "needs_background": "light"
     },
     "output_type": "display_data"
    }
   ],
   "source": [
    "max_depths = [2,3,4]\n",
    "fig,ax = plt.subplots(1,3,figsize=(16,4))\n",
    "for i in range(3):\n",
    "    dtr = DecisionTreeRegressor(max_depth=max_depths[i]).fit(X_train_r,y_train_r)\n",
    "    sns.scatterplot(x=X_train_r.flatten(),y=y_train_r,color=\"gray\",ax=ax[i])\n",
    "    sns.scatterplot(x=X_test_r.flatten(),y=y_test_r,color=\"black\",s=100,ax=ax[i]);\n",
    "    ax[i].plot(X_query,dtr.predict(X_query),color='b');\n",
    "    ax[i].set_title(f'depth {max_depths[i]}, r2: {dtr.score(X_test_r,y_test_r):0.2f}')"
   ]
  },
  {
   "cell_type": "markdown",
   "metadata": {
    "slideshow": {
     "slide_type": "fragment"
    }
   },
   "source": [
    "- But now we might be overfitting on the test set!\n",
    "- How to choose hyperparameters: **Cross-Validation**"
   ]
  },
  {
   "cell_type": "markdown",
   "metadata": {
    "slideshow": {
     "slide_type": "slide"
    }
   },
   "source": [
    "# $k$-Fold Cross-Validation\n",
    "<br>\n",
    "\n",
    "1. split dataset into $k$ equal sized subsets (folds)\n",
    "2. for each subset (fold)\n",
    " - train on the other $k−1$ subsets combined \n",
    " - test on this subset to get a score\n",
    "3. average across all scores\n",
    "<br>"
   ]
  },
  {
   "cell_type": "markdown",
   "metadata": {
    "slideshow": {
     "slide_type": "fragment"
    }
   },
   "source": [
    "- Result is a set of samples of model performance\n",
    "- Can use to set hyperparameters without overfitting on train or test\n",
    "- Can also use to estimate range of generalization performance"
   ]
  },
  {
   "cell_type": "markdown",
   "metadata": {
    "slideshow": {
     "slide_type": "slide"
    }
   },
   "source": [
    "# Example: 10-Fold Cross-Validation\n",
    "<br>\n",
    "\n",
    "<div align=\"center\"><img src=\"images/cv10fold.png\" width=\"1000px\"></div>"
   ]
  },
  {
   "cell_type": "markdown",
   "metadata": {
    "slideshow": {
     "slide_type": "slide"
    }
   },
   "source": [
    "# k-Fold Cross-Validation Continued\n",
    "<br>\n",
    "\n",
    "- Can be used for:\n",
    " - tuning hyperparameters\n",
    " - model selection\n",
    " - any time we need estimate of model performance\n",
    "<br>\n",
    "<br>\n",
    "\n",
    "- **Issue:** each fold requires training the model\n",
    " - Training time can be an issue for large $k$\n",
    "<br>\n",
    "<br>\n",
    "\n",
    "- What values can $k$ take?\n",
    " - min: 2\n",
    " - max: $n$, the size of the dataset (aka Leave-One-Out CV)"
   ]
  },
  {
   "cell_type": "markdown",
   "metadata": {
    "slideshow": {
     "slide_type": "slide"
    }
   },
   "source": [
    "# k-Fold Cross-Validation in sklearn"
   ]
  },
  {
   "cell_type": "code",
   "execution_count": 18,
   "metadata": {
    "slideshow": {
     "slide_type": "fragment"
    }
   },
   "outputs": [
    {
     "data": {
      "text/plain": [
       "array([0.41853032, 0.37075208, 0.45405394, 0.2588269 , 0.22799476])"
      ]
     },
     "execution_count": 18,
     "metadata": {},
     "output_type": "execute_result"
    }
   ],
   "source": [
    "from sklearn.model_selection import cross_val_score\n",
    "\n",
    "scores = cross_val_score(DecisionTreeRegressor(max_depth=2),\n",
    "                         X_train_r,\n",
    "                         y_train_r,\n",
    "                         cv=5) #default\n",
    "scores"
   ]
  },
  {
   "cell_type": "code",
   "execution_count": 19,
   "metadata": {
    "slideshow": {
     "slide_type": "fragment"
    }
   },
   "outputs": [
    {
     "name": "stdout",
     "output_type": "stream",
     "text": [
      "0.35 +- 0.18\n"
     ]
    }
   ],
   "source": [
    "print(f'{np.mean(scores) :0.2f} +- {2*np.std(scores) :0.2f}')"
   ]
  },
  {
   "cell_type": "markdown",
   "metadata": {
    "slideshow": {
     "slide_type": "slide"
    }
   },
   "source": [
    "# Tuning Hyperparameters with CV"
   ]
  },
  {
   "cell_type": "code",
   "execution_count": 20,
   "metadata": {
    "slideshow": {
     "slide_type": "fragment"
    }
   },
   "outputs": [
    {
     "name": "stdout",
     "output_type": "stream",
     "text": [
      "depth =  1 :  0.289\n",
      "depth =  2 :  0.346\n",
      "depth =  3 :  0.341\n",
      "depth =  5 :  0.050\n",
      "depth = 10 : -0.142\n"
     ]
    }
   ],
   "source": [
    "mean_scores = []\n",
    "\n",
    "for depth in [1, 2, 3, 5, 10]:\n",
    "    dtr = DecisionTreeRegressor(max_depth=depth)\n",
    "    scores = cross_val_score(dtr,X_train_r,y_train_r,cv=5)\n",
    "    mean_scores.append( (depth,scores.mean()) )\n",
    "\n",
    "for depth,mean_score in mean_scores:\n",
    "    print(f'{depth = :2d} : {mean_score: 0.3f}')"
   ]
  },
  {
   "cell_type": "code",
   "execution_count": 22,
   "metadata": {
    "slideshow": {
     "slide_type": "fragment"
    }
   },
   "outputs": [
    {
     "data": {
      "text/plain": [
       "(2, 0.3460316005269502)"
      ]
     },
     "execution_count": 22,
     "metadata": {},
     "output_type": "execute_result"
    }
   ],
   "source": [
    "# find the depth that gives best score (highest R^2)\n",
    "sorted(mean_scores, key=lambda x:x[1],reverse=True)[0] # sorted is ascending by default"
   ]
  },
  {
   "cell_type": "markdown",
   "metadata": {
    "slideshow": {
     "slide_type": "slide"
    }
   },
   "source": [
    "# Visualize Tuning: Validation Curve\n",
    "\n",
    "**Validation Curve**\n",
    " - Show model complexity vs model performance on both train and test/validation\n",
    " - Want to find point where performance on validation set begins to decline (overfitting) \n",
    " \n",
    "<div align=\"center\"><img src=\"images/05.03-validation-curve.png\"></div>\n",
    "\n",
    "From PDSH"
   ]
  },
  {
   "cell_type": "markdown",
   "metadata": {
    "slideshow": {
     "slide_type": "slide"
    }
   },
   "source": [
    "# Validation Curve in sklearn"
   ]
  },
  {
   "cell_type": "code",
   "execution_count": 23,
   "metadata": {
    "slideshow": {
     "slide_type": "fragment"
    }
   },
   "outputs": [],
   "source": [
    "from sklearn.model_selection import validation_curve\n",
    "\n",
    "depth = [1,2,3,5,8,10]\n",
    "train_scores,test_scores = validation_curve(DecisionTreeRegressor(),\n",
    "                                            X_train_r, y_train_r,\n",
    "                                            param_name='max_depth',\n",
    "                                            param_range=depth,\n",
    "                                            cv=5)\n",
    "mean_train_scores = np.mean(train_scores,axis=1) # take the mean across rows\n",
    "mean_test_scores = np.mean(test_scores,axis=1)"
   ]
  },
  {
   "cell_type": "code",
   "execution_count": 24,
   "metadata": {
    "slideshow": {
     "slide_type": "fragment"
    }
   },
   "outputs": [
    {
     "data": {
      "image/png": "[encoded data removed]",
      "text/plain": [
       "<Figure size 432x288 with 1 Axes>"
      ]
     },
     "metadata": {
      "needs_background": "light"
     },
     "output_type": "display_data"
    }
   ],
   "source": [
    "plt.plot(depth, mean_train_scores, 'o-', color='b',label='training score');\n",
    "plt.plot(depth, mean_test_scores, 'o-', color='r', label='validation score');\n",
    "plt.xlabel('max_depth'), plt.ylabel('R^2'); plt.title('Validation Curve for DecisionTree');"
   ]
  },
  {
   "cell_type": "markdown",
   "metadata": {
    "slideshow": {
     "slide_type": "slide"
    }
   },
   "source": [
    "# More Than One HyperParameter? Grid Search\n",
    "\n",
    "**Grid Search:** Search over a 'grid' of hyperparameter settings\n",
    "\n",
    "Example: KNN \"number of neighbors\" and \"distance metric\""
   ]
  },
  {
   "cell_type": "code",
   "execution_count": 25,
   "metadata": {
    "slideshow": {
     "slide_type": "fragment"
    }
   },
   "outputs": [
    {
     "name": "stdout",
     "output_type": "stream",
     "text": [
      "['euclidean', 1]\n",
      "['euclidean', 3]\n",
      "['euclidean', 5]\n",
      "['manhattan', 1]\n",
      "['manhattan', 3]\n",
      "['manhattan', 5]\n"
     ]
    }
   ],
   "source": [
    "distance_metrics = ['euclidean','manhattan']\n",
    "n_neighbors = [1,3,5]\n",
    "\n",
    "grid = []\n",
    "for d in distance_metrics:\n",
    "    for k in n_neighbors:\n",
    "        print([d,k])"
   ]
  },
  {
   "cell_type": "markdown",
   "metadata": {
    "slideshow": {
     "slide_type": "slide"
    }
   },
   "source": [
    "# Grid Search in sklearn"
   ]
  },
  {
   "cell_type": "code",
   "execution_count": 26,
   "metadata": {
    "slideshow": {
     "slide_type": "fragment"
    }
   },
   "outputs": [
    {
     "name": "stdout",
     "output_type": "stream",
     "text": [
      "{'metric': 'euclidean', 'n_neighbors': 5}\n"
     ]
    }
   ],
   "source": [
    "from sklearn.model_selection import GridSearchCV\n",
    "from sklearn.neighbors import KNeighborsRegressor\n",
    "\n",
    "params = {'n_neighbors':[1,2,3,5,10],\n",
    "          'metric':['euclidean','manhattan']}\n",
    "gscv = GridSearchCV(KNeighborsRegressor(),\n",
    "                    param_grid=params,     # grid of size 10\n",
    "                    cv=3,       # do 3-fold CV at every grid point\n",
    "                    refit=True) # refit True trains one more time on the entire training set\n",
    "\n",
    "gscv.fit(X_train_r,y_train_r)       # How many times are we training a model here? (2*5*3 + 1 = 31)\n",
    "\n",
    "print(gscv.best_params_)"
   ]
  },
  {
   "cell_type": "code",
   "execution_count": 27,
   "metadata": {
    "slideshow": {
     "slide_type": "fragment"
    }
   },
   "outputs": [
    {
     "name": "stdout",
     "output_type": "stream",
     "text": [
      "0.35 +- 0.21\n"
     ]
    }
   ],
   "source": [
    "scores = cross_val_score(gscv.best_estimator_,X_train_r,y_train_r,cv=5)\n",
    "\n",
    "print(f'{np.mean(scores):0.2f} +- {2*np.std(scores):0.2f}')"
   ]
  },
  {
   "cell_type": "markdown",
   "metadata": {
    "slideshow": {
     "slide_type": "slide"
    }
   },
   "source": [
    "# Review So Far\n",
    "<br>\n",
    "\n",
    "- Regression Metrics\n",
    " - MSE and RMSE\n",
    " - R^2\n",
    "- Model Selection\n",
    " - Comparison to Baseline Model\n",
    " - Underfitting/Overfitting, Bias/Variance\n",
    " - Train/Test Split\n",
    "- Hyperparameter Tuning \n",
    " - Cross-Validation\n",
    " - Grid Search\n",
    " - Validation Curve"
   ]
  },
  {
   "cell_type": "markdown",
   "metadata": {
    "slideshow": {
     "slide_type": "slide"
    }
   },
   "source": [
    "# Data Setup for Classification"
   ]
  },
  {
   "cell_type": "code",
   "execution_count": 28,
   "metadata": {
    "slideshow": {
     "slide_type": "fragment"
    }
   },
   "outputs": [
    {
     "data": {
      "text/html": [
       "<div>\n",
       "<style scoped>\n",
       "    .dataframe tbody tr th:only-of-type {\n",
       "        vertical-align: middle;\n",
       "    }\n",
       "\n",
       "    .dataframe tbody tr th {\n",
       "        vertical-align: top;\n",
       "    }\n",
       "\n",
       "    .dataframe thead th {\n",
       "        text-align: right;\n",
       "    }\n",
       "</style>\n",
       "<table border=\"1\" class=\"dataframe\">\n",
       "  <thead>\n",
       "    <tr style=\"text-align: right;\">\n",
       "      <th></th>\n",
       "      <th>train</th>\n",
       "      <th>test</th>\n",
       "    </tr>\n",
       "  </thead>\n",
       "  <tbody>\n",
       "    <tr>\n",
       "      <th>0</th>\n",
       "      <td>44</td>\n",
       "      <td>15</td>\n",
       "    </tr>\n",
       "    <tr>\n",
       "      <th>1</th>\n",
       "      <td>53</td>\n",
       "      <td>18</td>\n",
       "    </tr>\n",
       "  </tbody>\n",
       "</table>\n",
       "</div>"
      ],
      "text/plain": [
       "   train  test\n",
       "0     44    15\n",
       "1     53    18"
      ]
     },
     "execution_count": 28,
     "metadata": {},
     "output_type": "execute_result"
    }
   ],
   "source": [
    "idx_binary = df_wine['class'].isin([0,1])               # reduce to binary classification\n",
    "\n",
    "X_bc = df_wine.loc[idx_binary,['alcalinity_of_ash','magnesium']]         # only 2 features for ease of plotting\n",
    "\n",
    "y_bc = df_wine.loc[idx_binary,'class']                   # pull out classification target [0,1]\n",
    "\n",
    "X_train_bc,X_test_bc,y_train_bc,y_test_bc = train_test_split(X_bc,\n",
    "                                                             y_bc,\n",
    "                                                             stratify=y_bc, # maintain label proportions\n",
    "                                                             random_state=0\n",
    "                                                            )\n",
    "\n",
    "pd.DataFrame({'train':y_train_bc.value_counts(),'test':y_test_bc.value_counts()}).sort_index()"
   ]
  },
  {
   "cell_type": "code",
   "execution_count": 29,
   "metadata": {
    "slideshow": {
     "slide_type": "fragment"
    }
   },
   "outputs": [
    {
     "data": {
      "text/html": [
       "<div>\n",
       "<style scoped>\n",
       "    .dataframe tbody tr th:only-of-type {\n",
       "        vertical-align: middle;\n",
       "    }\n",
       "\n",
       "    .dataframe tbody tr th {\n",
       "        vertical-align: top;\n",
       "    }\n",
       "\n",
       "    .dataframe thead th {\n",
       "        text-align: right;\n",
       "    }\n",
       "</style>\n",
       "<table border=\"1\" class=\"dataframe\">\n",
       "  <thead>\n",
       "    <tr style=\"text-align: right;\">\n",
       "      <th></th>\n",
       "      <th>train</th>\n",
       "      <th>test</th>\n",
       "    </tr>\n",
       "  </thead>\n",
       "  <tbody>\n",
       "    <tr>\n",
       "      <th>2</th>\n",
       "      <td>36</td>\n",
       "      <td>12</td>\n",
       "    </tr>\n",
       "    <tr>\n",
       "      <th>0</th>\n",
       "      <td>44</td>\n",
       "      <td>15</td>\n",
       "    </tr>\n",
       "    <tr>\n",
       "      <th>1</th>\n",
       "      <td>53</td>\n",
       "      <td>18</td>\n",
       "    </tr>\n",
       "  </tbody>\n",
       "</table>\n",
       "</div>"
      ],
      "text/plain": [
       "   train  test\n",
       "2     36    12\n",
       "0     44    15\n",
       "1     53    18"
      ]
     },
     "execution_count": 29,
     "metadata": {},
     "output_type": "execute_result"
    }
   ],
   "source": [
    "X_mc = df_wine.loc[:,['alcalinity_of_ash', 'magnesium']]      # multiple features for multiclass classification task\n",
    "y_mc = df_wine.loc[:,'class']                                 # pull out classification target [0,1,2]\n",
    "\n",
    "X_train_mc,X_test_mc,y_train_mc,y_test_mc = train_test_split(X_mc,\n",
    "                                                             y_mc,\n",
    "                                                             stratify=y_mc, # maintain label proportions\n",
    "                                                             random_state=123\n",
    "                                                            ) \n",
    "\n",
    "pd.DataFrame({'train':y_train_mc.value_counts(),'test':y_test_mc.value_counts()}).sort_values(by=\"train\")"
   ]
  },
  {
   "cell_type": "markdown",
   "metadata": {
    "slideshow": {
     "slide_type": "slide"
    }
   },
   "source": [
    "# Default Metric in Classification: Accuracy\n",
    "<br>\n",
    "\n",
    "\n",
    "- **Accuracy**: out of all the observations, how many did I get right?"
   ]
  },
  {
   "cell_type": "code",
   "execution_count": 30,
   "metadata": {
    "slideshow": {
     "slide_type": "fragment"
    }
   },
   "outputs": [
    {
     "name": "stdout",
     "output_type": "stream",
     "text": [
      "dummyc.score(X_test_bc,y_test_bc) = 0.55\n",
      "dtc.score(X_test_bc,y_test_bc)    = 0.79\n"
     ]
    }
   ],
   "source": [
    "from sklearn.dummy import DummyClassifier\n",
    "from sklearn.tree import DecisionTreeClassifier\n",
    "dummyc = DummyClassifier(strategy='prior').fit(X_train_bc,y_train_bc) # works like 'most-frequent'\n",
    "dtc = DecisionTreeClassifier(max_depth=2).fit(X_train_bc,y_train_bc)\n",
    "\n",
    "print(f'{dummyc.score(X_test_bc,y_test_bc) = :0.2f}') # default classification score is accuracy\n",
    "print(f'{dtc.score(X_test_bc,y_test_bc)    = :0.2f}') "
   ]
  },
  {
   "cell_type": "markdown",
   "metadata": {
    "slideshow": {
     "slide_type": "fragment"
    }
   },
   "source": [
    "- But what if the cost of calling a negative a positive is different from calling a positive a negative?\n",
    "- Examples: \n",
    " - disease testing\n",
    " - medical product failures\n",
    " - incarceration"
   ]
  },
  {
   "cell_type": "markdown",
   "metadata": {
    "slideshow": {
     "slide_type": "slide"
    }
   },
   "source": [
    "# Errors in Classification\n",
    "<br>\n",
    "\n",
    "- There are different kinds of error in classification\n",
    "\n",
    "<div align=\"center\"><img src=\"images/confusion_matrix.png\" width=\"600px\"></div>\n",
    "\n",
    "From PML"
   ]
  },
  {
   "cell_type": "markdown",
   "metadata": {
    "slideshow": {
     "slide_type": "slide"
    }
   },
   "source": [
    "# Visualizing Errors with a Confusion Matrix"
   ]
  },
  {
   "cell_type": "code",
   "execution_count": 31,
   "metadata": {
    "slideshow": {
     "slide_type": "fragment"
    }
   },
   "outputs": [
    {
     "data": {
      "image/png": "[encoded data removed]",
      "text/plain": [
       "<Figure size 432x288 with 1 Axes>"
      ]
     },
     "metadata": {
      "needs_background": "light"
     },
     "output_type": "display_data"
    }
   ],
   "source": [
    "fig,ax = plt.subplots(1,1,figsize=(6,4));\n",
    "plot_decision_regions(X_train_bc.values,y_train_bc.values,dtc,ax=ax);\n",
    "sns.scatterplot(x=X_bc.columns[0],y=X_bc.columns[1],data=X_test_bc[y_test_bc == 0],color=\"blue\",s=120);\n",
    "sns.scatterplot(x=X_bc.columns[0],y=X_bc.columns[1],data=X_test_bc[y_test_bc == 1],color=\"red\",s=120);"
   ]
  },
  {
   "cell_type": "code",
   "execution_count": 32,
   "metadata": {
    "slideshow": {
     "slide_type": "fragment"
    }
   },
   "outputs": [
    {
     "name": "stdout",
     "output_type": "stream",
     "text": [
      "training set error\n",
      " [[41  3]\n",
      " [14 39]]\n",
      "\n",
      "test set error\n",
      " [[15  0]\n",
      " [ 7 11]]\n"
     ]
    }
   ],
   "source": [
    "from sklearn.metrics import confusion_matrix\n",
    "\n",
    "print('training set error\\n', confusion_matrix(y_train_bc,dtc.predict(X_train_bc)))\n",
    "print()\n",
    "print('test set error\\n', confusion_matrix(y_test_bc,dtc.predict(X_test_bc)))"
   ]
  },
  {
   "cell_type": "markdown",
   "metadata": {
    "slideshow": {
     "slide_type": "slide"
    }
   },
   "source": [
    "# Plot Confusion Matrix with mlxtend"
   ]
  },
  {
   "cell_type": "code",
   "execution_count": 33,
   "metadata": {
    "slideshow": {
     "slide_type": "fragment"
    }
   },
   "outputs": [
    {
     "data": {
      "image/png": "[encoded data removed]",
      "text/plain": [
       "<Figure size 576x576 with 1 Axes>"
      ]
     },
     "metadata": {
      "needs_background": "light"
     },
     "output_type": "display_data"
    }
   ],
   "source": [
    "from mlxtend.plotting import plot_confusion_matrix\n",
    "\n",
    "fig,ax = plt.subplots(1,1,figsize=(8,8))\n",
    "plot_confusion_matrix(confusion_matrix(y_test_bc,dtc.predict(X_test_bc)),axis=ax);"
   ]
  },
  {
   "cell_type": "markdown",
   "metadata": {
    "slideshow": {
     "slide_type": "slide"
    }
   },
   "source": [
    "# Weighing Errors: Precision vs. Recall\n",
    "<br>\n",
    "\n",
    "**Precision**\n",
    "\n",
    "- Out of the observations I predicted positive (TP+FP), how many are truly positive (TP)?\n",
    "<br>\n",
    "\n",
    "<center>$\\large precision=\\frac{\\text{TP}}{\\text{TP}+\\text{FP}}$</center>\n",
    "\n",
    "**Recall**\n",
    "\n",
    "- Out of the truly positive (TP+FN), how many obsersevations did I predict positive (TP)?\n",
    "<br>\n",
    "\n",
    "<center>$\\large recall=\\frac{\\text{TP}}{\\text{TP}+\\text{FN}}$</center>\n"
   ]
  },
  {
   "cell_type": "markdown",
   "metadata": {
    "slideshow": {
     "slide_type": "slide"
    }
   },
   "source": [
    "# Using Other Measures in sklearn"
   ]
  },
  {
   "cell_type": "code",
   "execution_count": 34,
   "metadata": {
    "slideshow": {
     "slide_type": "fragment"
    }
   },
   "outputs": [
    {
     "name": "stdout",
     "output_type": "stream",
     "text": [
      "dummy precision: 0.55 +- 0.04\n",
      "dummy recall   : 1.00 +- 0.00\n",
      "\n",
      "dtc precision: 0.85 +- 0.36\n",
      "dtc recall   : 0.66 +- 0.38\n"
     ]
    }
   ],
   "source": [
    "dummyc_precision_scores = cross_val_score(dummyc,X_train_bc,y_train_bc,cv=5,scoring='precision')\n",
    "dummyc_recall_scores    = cross_val_score(dummyc,X_train_bc,y_train_bc,cv=5,scoring='recall')\n",
    "\n",
    "print(f'dummy precision: {np.mean(dummyc_precision_scores):0.2f} +- {2*np.std(dummyc_precision_scores):0.2f}')\n",
    "print(f'dummy recall   : {np.mean(dummyc_recall_scores):0.2f} +- {2*np.std(dummyc_recall_scores):0.2f}')\n",
    "print()\n",
    "\n",
    "dtc_precision_scores = cross_val_score(dtc,X_train_bc,y_train_bc,cv=5,scoring='precision')\n",
    "dtc_recall_scores    = cross_val_score(dtc,X_train_bc,y_train_bc,cv=5,scoring='recall')\n",
    "\n",
    "print(f'dtc precision: {np.mean(dtc_precision_scores):0.2f} +- {2*np.std(dtc_precision_scores):0.2f}')\n",
    "print(f'dtc recall   : {np.mean(dtc_recall_scores):0.2f} +- {2*np.std(dtc_recall_scores):0.2f}')"
   ]
  },
  {
   "cell_type": "markdown",
   "metadata": {
    "slideshow": {
     "slide_type": "slide"
    }
   },
   "source": [
    "# How do we decide if something is positive or negative?\n",
    "<br>\n",
    "\n",
    "Usually set a threshold :\n",
    "\n",
    "$$\n",
    "\\hat{y}_i = \\begin{cases}\n",
    "1 &\\text{if } P(y_i=1|x_i) > \\text{threshold}, \\\\\\\\\n",
    "0 &\\text{o.w.}\n",
    "\\end{cases}\n",
    "$$\n",
    "\n",
    "Usually, threshold = .5, but it doesn't have to be.\n",
    "\n",
    "What happens if we change it?\n",
    " - High threshold $\\rightarrow$ High Precision, Low Recall\n",
    " - Low threshold $\\rightarrow$ High Recall, Low Precision"
   ]
  },
  {
   "cell_type": "markdown",
   "metadata": {
    "slideshow": {
     "slide_type": "slide"
    }
   },
   "source": [
    "# Combining Precision and Recall: $F_1$-score\n",
    "    \n",
    "    \n",
    "Usually, we just want one number to optimize\n",
    "\n",
    "**$F_1$-score:** harmonic mean of precision and recall\n",
    "- eg. weighted average of the precision and recall\n",
    "\n",
    "$$\n",
    "F_1 = 2 \\cdot \\frac{\\text{precision} \\cdot \\text{recall}}{\\text{precision} + \\text{recall}}\n",
    "$$\n",
    "\n",
    "\n",
    "Note that $F_1$ ignores True Negatives!"
   ]
  },
  {
   "cell_type": "code",
   "execution_count": 35,
   "metadata": {
    "slideshow": {
     "slide_type": "fragment"
    }
   },
   "outputs": [
    {
     "name": "stdout",
     "output_type": "stream",
     "text": [
      "dummyc f1 = 0.71 +- 0.03\n",
      "dtc f1    = 0.72 +- 0.31\n"
     ]
    }
   ],
   "source": [
    "dummyc_f1_scores = cross_val_score(dummyc,X_train_bc,y_train_bc,cv=5,scoring='f1')\n",
    "dtc_f1_scores = cross_val_score(dtc,X_train_bc,y_train_bc,cv=5,scoring='f1')\n",
    "print(f'dummyc f1 = {np.mean(dummyc_f1_scores):0.2f} +- {2*np.std(dummyc_f1_scores):0.2f}')\n",
    "print(f'dtc f1    = {np.mean(dtc_f1_scores):0.2f} +- {2*np.std(dtc_f1_scores):0.2f}')"
   ]
  },
  {
   "cell_type": "markdown",
   "metadata": {
    "slideshow": {
     "slide_type": "slide"
    }
   },
   "source": [
    "# Paying attention to True Negatives: ROC\n",
    "\n",
    "**R**eceiver **O**perating **C**haracteristic\n",
    "- displays FPR vs TPR\n",
    "\n",
    "False Positive Rate (FPR) = $\\frac{\\text{FP}}{\\text{FP}+\\text{TN}}$ = $\\frac{\\text{negatives we got wrong}}{\\text{all negatives}}$\n",
    "\n",
    "True Positive Rate (TPR) = Recall = $\\frac{\\text{TP}}{\\text{TP}+\\text{FN}}$ = $\\frac{\\text{positives we got right}}{\\text{all positives}}$\n",
    "\n",
    "How do these change as we move our threshold?\n"
   ]
  },
  {
   "cell_type": "code",
   "execution_count": 36,
   "metadata": {
    "slideshow": {
     "slide_type": "fragment"
    }
   },
   "outputs": [
    {
     "data": {
      "text/plain": [
       "(array([0.        , 0.        , 0.06818182, 1.        ]),\n",
       " array([0.        , 0.56603774, 0.73584906, 1.        ]))"
      ]
     },
     "execution_count": 36,
     "metadata": {},
     "output_type": "execute_result"
    }
   ],
   "source": [
    "from sklearn.metrics import roc_curve\n",
    "fpr_dtc, tpr_dtc, _ = roc_curve(y_train_bc, dtc.predict_proba(X_train_bc)[:,-1])\n",
    "\n",
    "fpr_dtc,tpr_dtc"
   ]
  },
  {
   "cell_type": "markdown",
   "metadata": {
    "slideshow": {
     "slide_type": "slide"
    }
   },
   "source": [
    "# Plotting ROC Curves"
   ]
  },
  {
   "cell_type": "code",
   "execution_count": 37,
   "metadata": {
    "slideshow": {
     "slide_type": "fragment"
    }
   },
   "outputs": [],
   "source": [
    "def plot_roc(curves):\n",
    "    fig,ax = plt.subplots(1,1,figsize=(6,6))\n",
    "    lw = 2\n",
    "    for fpr,tpr,model_name in curves:\n",
    "        l1, = ax.plot(fpr, tpr, lw=lw, label=model_name)\n",
    "    ax.plot([0, 1], [0, 1], color='k', lw=lw, linestyle='--')\n",
    "    ax.set_xlim([0.0, 1.0])\n",
    "    ax.set_ylim([0.0, 1.05])\n",
    "    ax.set_xlabel('False Positive Rate')\n",
    "    ax.set_ylabel('True Positive Rate')\n",
    "    ax.set_aspect('equal', 'box')\n",
    "    ax.set_title('Receiver operating characteristic example')\n",
    "    ax.legend()"
   ]
  },
  {
   "cell_type": "markdown",
   "metadata": {
    "slideshow": {
     "slide_type": "slide"
    }
   },
   "source": [
    "# Plotting ROC Curves"
   ]
  },
  {
   "cell_type": "code",
   "execution_count": 38,
   "metadata": {
    "slideshow": {
     "slide_type": "fragment"
    }
   },
   "outputs": [
    {
     "data": {
      "image/png": "[encoded data removed]",
      "text/plain": [
       "<Figure size 432x432 with 1 Axes>"
      ]
     },
     "metadata": {
      "needs_background": "light"
     },
     "output_type": "display_data"
    }
   ],
   "source": [
    "curves = [(fpr_dtc,tpr_dtc,'dtc2')]\n",
    "fpr_dummyc, tpr_dummyc, _ = roc_curve(y_train_bc, dummyc.predict_proba(X_train_bc)[:,1]) # Compare dummy\n",
    "curves.append((fpr_dummyc,tpr_dummyc,'dummy'));\n",
    "plot_roc(curves);"
   ]
  },
  {
   "cell_type": "markdown",
   "metadata": {
    "slideshow": {
     "slide_type": "slide"
    }
   },
   "source": [
    "# Plotting ROC Curves"
   ]
  },
  {
   "cell_type": "code",
   "execution_count": 39,
   "metadata": {
    "slideshow": {
     "slide_type": "fragment"
    }
   },
   "outputs": [
    {
     "data": {
      "image/png": "[encoded data removed]",
      "text/plain": [
       "<Figure size 432x432 with 1 Axes>"
      ]
     },
     "metadata": {
      "needs_background": "light"
     },
     "output_type": "display_data"
    }
   ],
   "source": [
    "for depth in [3,4]: \n",
    "    fpr, tpr, _ = roc_curve(y_train_bc,DecisionTreeClassifier(max_depth=depth).fit(X_train_bc,y_train_bc).predict_proba(X_train_bc)[:,1])\n",
    "    curves.append((fpr,tpr,'dtc'+str(depth)))\n",
    "plot_roc(curves);"
   ]
  },
  {
   "cell_type": "markdown",
   "metadata": {
    "slideshow": {
     "slide_type": "slide"
    }
   },
   "source": [
    "# ROC AUC\n",
    "\n",
    "- But again, we'd like one number to optimize\n",
    "- ROC **A**rea **U**nder the **C**urve\n",
    " - How much area falls under the ROC curve?"
   ]
  },
  {
   "cell_type": "code",
   "execution_count": 40,
   "metadata": {
    "slideshow": {
     "slide_type": "fragment"
    }
   },
   "outputs": [
    {
     "name": "stdout",
     "output_type": "stream",
     "text": [
      "dummyc rocauc = 0.50 +- 0.00\n",
      "dtc rocauc    = 0.78 +- 0.22\n"
     ]
    }
   ],
   "source": [
    "dummyc_rocauc_scores = cross_val_score(dummyc,X_train_bc,y_train_bc,cv=5,scoring='roc_auc')\n",
    "dtc_rocauc_scores = cross_val_score(dtc,X_train_bc,y_train_bc,cv=5,scoring='roc_auc')\n",
    "\n",
    "print(f'dummyc rocauc = {np.mean(dummyc_rocauc_scores):0.2f} +- {2*np.std(dummyc_rocauc_scores):0.2f}')\n",
    "print(f'dtc rocauc    = {np.mean(dtc_rocauc_scores):0.2f} +- {2*np.std(dtc_rocauc_scores):0.2f}')"
   ]
  },
  {
   "cell_type": "markdown",
   "metadata": {
    "slideshow": {
     "slide_type": "slide"
    }
   },
   "source": [
    "# Review: Steps to Choosing a Model\n",
    "\n",
    "1. Create Held-Aside Set (Train/Test Split)\n",
    "2. Determine Metric (or combination of metrics)\n",
    "3. Get a Baseline for comparison\n",
    "3. Use Cross-Validation to fit Hyperparameters and Choose Model\n",
    "3. Evaluate Chosen Model on Held-Aside Set\n",
    "<br>\n",
    "\n",
    "<div align=\"center\"><img src=\"images/train_tune_test.png\" width=\"600px\"></div>\n",
    "\n",
    "From PML"
   ]
  },
  {
   "cell_type": "markdown",
   "metadata": {
    "slideshow": {
     "slide_type": "slide"
    }
   },
   "source": [
    "# Avoiding Overfitting in Linear Models: Regularization\n",
    "<br>\n",
    "\n",
    "- Use to avoid overfitting in linear models\n",
    "- Idea: can we reduce complexity of our linear model by minimizing weights?\n",
    "<br>\n",
    "\n",
    "<div align=\"center\"><img src=\"images/Regularization.png\" width=\"600px\"></div>\n",
    "    \n",
    "From https://www.wikiwand.com/en/Regularization_(mathematics)"
   ]
  },
  {
   "cell_type": "markdown",
   "metadata": {
    "slideshow": {
     "slide_type": "slide"
    }
   },
   "source": [
    "# Regression: Finding the Weights\n",
    "<br>\n",
    "\n",
    "- Linear models learn by finding weights that minimize a cost.\n",
    "- Can we get close to the solution while still keeping weights small (simpler model)?\n",
    "<br>\n",
    "<br>\n",
    "\n",
    "<div align=\"center\"><img src=\"images/regularization_minimizecost.png\" width=\"700px\"></div>\n",
    "\n",
    "From PML"
   ]
  },
  {
   "cell_type": "markdown",
   "metadata": {
    "slideshow": {
     "slide_type": "slide"
    }
   },
   "source": [
    "# Regularization: Add a cost for large weights\n",
    "<br>\n",
    "\n",
    "Penalizing extreme weights (w)\n",
    "\n",
    "If the original cost function looks like:\n",
    "\n",
    "<center>$\\arg\\min_w C(f(w,x),y)$</center>\n",
    "\n",
    "we can add a **regularization term**:\n",
    "\n",
    "<center>$\\arg\\min_w C(f(w,x),y)+\\lambda g(w)$</center>"
   ]
  },
  {
   "cell_type": "markdown",
   "metadata": {
    "slideshow": {
     "slide_type": "slide"
    }
   },
   "source": [
    "# Regularization: Ridge\n",
    "\n",
    "- Coefficients are encouraged to be \"small\"\n",
    "- Uses $L_2$ norm: $\\Vert w\\Vert_2 = \\sqrt{\\sum_{j=1}^m w_j^2}$\n",
    "\n",
    "<div align=\"center\"><img src=\"images/regularization_L2.png\" width=\"700px\"></div>\n",
    "\n",
    "From PML"
   ]
  },
  {
   "cell_type": "markdown",
   "metadata": {
    "slideshow": {
     "slide_type": "slide"
    }
   },
   "source": [
    "# Regularization: LASSO\n",
    "\n",
    "- Coefficients are (likely) driven to zero\n",
    "- Uses $L_1$ norm: $\\Vert w\\Vert_1 = \\sum_{j=1}^m \\mid w_j \\mid$\n",
    "\n",
    "<div align=\"center\"><img src=\"images/regularization_L1.png\" width=\"700px\"></div>\n",
    "\n",
    "From PML"
   ]
  },
  {
   "cell_type": "markdown",
   "metadata": {
    "slideshow": {
     "slide_type": "slide"
    }
   },
   "source": [
    "# Regularization: ElasticNet\n",
    "\n",
    "- Mixture of $L_1$ and $L_2$\n",
    "- $\\alpha L_1 + (1-\\alpha)L_2$\n",
    "<br>\n",
    "\n",
    "- introduces a new hyperparameter $\\alpha$ or `l1_ratio`\n",
    "- $\\text{l1_ratio} = 1$ is LASSO ($L_1$)\n",
    "- $\\text{l1_ratio} = 0$ is Ridge ($L_2$)"
   ]
  },
  {
   "cell_type": "code",
   "execution_count": 41,
   "metadata": {
    "slideshow": {
     "slide_type": "fragment"
    }
   },
   "outputs": [],
   "source": [
    "from sklearn.linear_model import LogisticRegression\n",
    "\n",
    "lr = LogisticRegression(penalty='l2', # default\n",
    "                        C=1.0,        # weight on regularization, 1/lambda above\n",
    "                        l1_ratio=None # only used when penalty is 'elasticnet'\n",
    "                       )"
   ]
  }
 ],
 "metadata": {
  "celltoolbar": "Slideshow",
  "kernelspec": {
   "display_name": "eods-f20",
   "language": "python",
   "name": "eods-f20"
  },
  "language_info": {
   "codemirror_mode": {
    "name": "ipython",
    "version": 3
   },
   "file_extension": ".py",
   "mimetype": "text/x-python",
   "name": "python",
   "nbconvert_exporter": "python",
   "pygments_lexer": "ipython3",
   "version": "3.8.5"
  }
 },
 "nbformat": 4,
 "nbformat_minor": 4
}
