{
 "cells": [
  {
   "cell_type": "code",
   "execution_count": 1,
   "metadata": {},
   "outputs": [],
   "source": [
    "import pandas as pd\n",
    "import numpy as np\n",
    "import matplotlib.pyplot\n",
    "import glob\n",
    "import requests\n",
    "import tarfile\n",
    "import tqdm\n",
    "import os"
   ]
  },
  {
   "cell_type": "markdown",
   "metadata": {},
   "source": [
    "## From: Python Machine Learning by Raschka and Mirjalili"
   ]
  },
  {
   "cell_type": "markdown",
   "metadata": {},
   "source": [
    "---"
   ]
  },
  {
   "cell_type": "markdown",
   "metadata": {},
   "source": [
    "## Get the data"
   ]
  },
  {
   "cell_type": "raw",
   "metadata": {},
   "source": [
    "# only need to rerun if csvs are not in data\n",
    "\n",
    "imdb_url = 'http://ai.stanford.edu/~amaas/data/sentiment/'\n",
    "imdb_tar = 'aclImdb_v1.tar.gz'\n",
    "data_base = '../data/'\n",
    "imdb_base = 'aclImdb'\n",
    "imdb_csv = 'acl_imdb_data.csv'\n",
    "\n",
    "if not glob.glob(os.path.join(data_base,imdb_tar)):\n",
    "    req = requests.get(imdb_url+imdb_tar)\n",
    "    open('../data/'+imdb_tar,'wb').write(req.content)\n",
    "\n",
    "if not glob.glob(os.path.join(data_base,imdb_base)):\n",
    "    with tarfile.open(os.path.join(data_base,imdb_tar),'r:gz') as tar:\n",
    "            tar.extractall(path=data_base)\n",
    "if not glob.glob(os.path.join(data_base,imdb_csv)):\n",
    "    labels = {'pos':1,'neg':0}\n",
    "    df = pd.DataFrame()\n",
    "    with tqdm.tqdm(total=50000) as pbar:\n",
    "        for s in ('test','train'):\n",
    "            for l in ('pos','neg'):\n",
    "                path = os.path.join(data_base,imdb_base,s,l)\n",
    "                for file in sorted(os.listdir(path)):\n",
    "                    with open(os.path.join(path,file),\n",
    "                              'r', encoding='utf-8') as infile:\n",
    "                        txt = infile.read()\n",
    "                    df = df.append([[txt, labels[l]]],ignore_index=True)\n",
    "                    pbar.update()\n",
    "    df.columns = ['review','sentiment']\n",
    "    \n",
    "    np.random.seed(0)\n",
    "    df = df.reindex(np.random.permutation(df.index))\n",
    "    df.to_csv('../data/acl_imdb_data.csv',index=False,encoding='utf-8')"
   ]
  },
  {
   "cell_type": "code",
   "execution_count": 2,
   "metadata": {},
   "outputs": [
    {
     "name": "stdout",
     "output_type": "stream",
     "text": [
      "<class 'pandas.core.frame.DataFrame'>\n",
      "RangeIndex: 50000 entries, 0 to 49999\n",
      "Data columns (total 2 columns):\n",
      " #   Column     Non-Null Count  Dtype \n",
      "---  ------     --------------  ----- \n",
      " 0   review     50000 non-null  object\n",
      " 1   sentiment  50000 non-null  int64 \n",
      "dtypes: int64(1), object(1)\n",
      "memory usage: 781.4+ KB\n"
     ]
    }
   ],
   "source": [
    "df = pd.read_csv('../data/acl_imdb_data.csv',encoding='utf-8')\n",
    "df.info()"
   ]
  },
  {
   "cell_type": "code",
   "execution_count": 3,
   "metadata": {},
   "outputs": [
    {
     "data": {
      "text/html": [
       "<div>\n",
       "<style scoped>\n",
       "    .dataframe tbody tr th:only-of-type {\n",
       "        vertical-align: middle;\n",
       "    }\n",
       "\n",
       "    .dataframe tbody tr th {\n",
       "        vertical-align: top;\n",
       "    }\n",
       "\n",
       "    .dataframe thead th {\n",
       "        text-align: right;\n",
       "    }\n",
       "</style>\n",
       "<table border=\"1\" class=\"dataframe\">\n",
       "  <thead>\n",
       "    <tr style=\"text-align: right;\">\n",
       "      <th></th>\n",
       "      <th>review</th>\n",
       "      <th>sentiment</th>\n",
       "    </tr>\n",
       "  </thead>\n",
       "  <tbody>\n",
       "    <tr>\n",
       "      <th>0</th>\n",
       "      <td>In 1974, the teenager Martha Moxley (Maggie Gr...</td>\n",
       "      <td>1</td>\n",
       "    </tr>\n",
       "    <tr>\n",
       "      <th>1</th>\n",
       "      <td>OK... so... I really like Kris Kristofferson a...</td>\n",
       "      <td>0</td>\n",
       "    </tr>\n",
       "    <tr>\n",
       "      <th>2</th>\n",
       "      <td>***SPOILER*** Do not read this, if you think a...</td>\n",
       "      <td>0</td>\n",
       "    </tr>\n",
       "  </tbody>\n",
       "</table>\n",
       "</div>"
      ],
      "text/plain": [
       "                                              review  sentiment\n",
       "0  In 1974, the teenager Martha Moxley (Maggie Gr...          1\n",
       "1  OK... so... I really like Kris Kristofferson a...          0\n",
       "2  ***SPOILER*** Do not read this, if you think a...          0"
      ]
     },
     "execution_count": 3,
     "metadata": {},
     "output_type": "execute_result"
    }
   ],
   "source": [
    "df.head(3)"
   ]
  },
  {
   "cell_type": "markdown",
   "metadata": {},
   "source": [
    "---"
   ]
  },
  {
   "cell_type": "markdown",
   "metadata": {},
   "source": [
    "## Transform Data"
   ]
  },
  {
   "cell_type": "code",
   "execution_count": 4,
   "metadata": {},
   "outputs": [
    {
     "data": {
      "text/plain": [
       "'OK... so... I really like Kris Kristofferson and his usual easy going delivery of lines in his movie'"
      ]
     },
     "execution_count": 4,
     "metadata": {},
     "output_type": "execute_result"
    }
   ],
   "source": [
    "df.loc[1,'review'][:100]"
   ]
  },
  {
   "cell_type": "code",
   "execution_count": 5,
   "metadata": {},
   "outputs": [],
   "source": [
    "from sklearn.feature_extraction.text import CountVectorizer\n",
    "\n",
    "countvect = CountVectorizer()\n",
    "X = countvect.fit_transform(df.loc[:,'review'].iloc[-3:])"
   ]
  },
  {
   "cell_type": "code",
   "execution_count": 6,
   "metadata": {},
   "outputs": [
    {
     "data": {
      "text/plain": [
       "{'don': 40,\n",
       " 'even': 44,\n",
       " 'know': 79,\n",
       " 'where': 157,\n",
       " 'to': 143,\n",
       " 'begin': 18,\n",
       " 'on': 102,\n",
       " 'this': 142,\n",
       " 'one': 103,\n",
       " 'it': 74,\n",
       " 'all': 8,\n",
       " 'about': 0,\n",
       " 'the': 139,\n",
       " 'family': 50,\n",
       " 'that': 138,\n",
       " 'has': 59,\n",
       " 'be': 15,\n",
       " 'worst': 162,\n",
       " 'line': 86,\n",
       " 'of': 101,\n",
       " 'dialogue': 34,\n",
       " 'ever': 45,\n",
       " 'heard': 62,\n",
       " 'in': 71,\n",
       " 'horror': 67,\n",
       " 'movie': 96,\n",
       " 'although': 10,\n",
       " 'couldn': 30,\n",
       " 'if': 70,\n",
       " 'tried': 146,\n",
       " 'ugh': 148,\n",
       " 'and': 12,\n",
       " 'owen': 106,\n",
       " 'wilson': 161,\n",
       " 'is': 73,\n",
       " 'better': 19,\n",
       " 'actor': 4,\n",
       " 'he': 61,\n",
       " 'needs': 98,\n",
       " 'stop': 131,\n",
       " 'playing': 108,\n",
       " 'token': 144,\n",
       " 'guy': 56,\n",
       " 'who': 158,\n",
       " 'dies': 36,\n",
       " 'every': 46,\n",
       " 'action': 3,\n",
       " 'anaconda': 11,\n",
       " 'armageddon': 14,\n",
       " 'after': 6,\n",
       " 'man': 91,\n",
       " 'did': 35,\n",
       " 'co': 28,\n",
       " 'write': 163,\n",
       " 'bottle': 21,\n",
       " 'rocket': 116,\n",
       " 'rushmore': 118,\n",
       " 'does': 38,\n",
       " 'have': 60,\n",
       " 'some': 125,\n",
       " 'talent': 135,\n",
       " 'also': 9,\n",
       " 'lily': 85,\n",
       " 'taylor': 136,\n",
       " 'should': 123,\n",
       " 'stick': 129,\n",
       " 'indie': 72,\n",
       " 'films': 51,\n",
       " 'she': 122,\n",
       " 'no': 99,\n",
       " 'place': 107,\n",
       " 'here': 64,\n",
       " 'finally': 52,\n",
       " 'catherine': 26,\n",
       " 'zeta': 164,\n",
       " 'jones': 76,\n",
       " 'become': 17,\n",
       " 'porn': 110,\n",
       " 'star': 127,\n",
       " 'there': 140,\n",
       " 'room': 117,\n",
       " 'legitimate': 82,\n",
       " 'acting': 2,\n",
       " 'for': 53,\n",
       " 'her': 63,\n",
       " 'serious': 121,\n",
       " 'movies': 97,\n",
       " 've': 151,\n",
       " 'seen': 120,\n",
       " 'richard': 114,\n",
       " 'tyler': 147,\n",
       " 'little': 87,\n",
       " 'boy': 22,\n",
       " 'scared': 119,\n",
       " 'everything': 47,\n",
       " 'doesn': 39,\n",
       " 'like': 84,\n",
       " 'riding': 115,\n",
       " 'his': 66,\n",
       " 'bike': 20,\n",
       " 'or': 104,\n",
       " 'climbing': 27,\n",
       " 'tree': 145,\n",
       " 'house': 68,\n",
       " 'because': 16,\n",
       " 'knows': 80,\n",
       " 'what': 156,\n",
       " 'kind': 77,\n",
       " 'accidents': 1,\n",
       " 'might': 93,\n",
       " 'happen': 58,\n",
       " 'him': 65,\n",
       " 'so': 124,\n",
       " 'day': 32,\n",
       " 'starting': 128,\n",
       " 'rain': 112,\n",
       " 'decides': 33,\n",
       " 'wait': 152,\n",
       " 'library': 83,\n",
       " 'until': 150,\n",
       " 'stops': 132,\n",
       " 'raining': 113,\n",
       " 'whole': 159,\n",
       " 'story': 133,\n",
       " 'takes': 134,\n",
       " 'experiences': 49,\n",
       " 'kinds': 78,\n",
       " 'staff': 126,\n",
       " 'end': 43,\n",
       " 'not': 100,\n",
       " 'any': 13,\n",
       " 'more': 95,\n",
       " 'but': 25,\n",
       " 'unbelievable': 149,\n",
       " 'good': 55,\n",
       " 'actors': 5,\n",
       " 'macaulay': 89,\n",
       " 'culkin': 31,\n",
       " 'could': 29,\n",
       " 'make': 90,\n",
       " 'than': 137,\n",
       " 'waited': 153,\n",
       " 'long': 88,\n",
       " 'watch': 155,\n",
       " 'bruce': 24,\n",
       " 'willis': 160,\n",
       " 'plot': 109,\n",
       " 'was': 154,\n",
       " 'quite': 111,\n",
       " 'different': 37,\n",
       " 'from': 54,\n",
       " 'had': 57,\n",
       " 'expected': 48,\n",
       " 'still': 130,\n",
       " 'its': 75,\n",
       " 'mix': 94,\n",
       " 'emotions': 42,\n",
       " 'humor': 69,\n",
       " 'drama': 41,\n",
       " 'br': 23,\n",
       " 'left': 81,\n",
       " 'me': 92,\n",
       " 'thinking': 141,\n",
       " 'over': 105,\n",
       " 'again': 7}"
      ]
     },
     "execution_count": 6,
     "metadata": {},
     "output_type": "execute_result"
    }
   ],
   "source": [
    "countvect.vocabulary_"
   ]
  },
  {
   "cell_type": "code",
   "execution_count": 7,
   "metadata": {},
   "outputs": [],
   "source": [
    "import re\n",
    "def preprocessor(text):\n",
    "    text = re.sub('<[^>]*>','',text)                             # remove html tags\n",
    "    emoticons = re.findall('(?::|;|=)(?:-)?(?:\\)|\\(|D|P)',text)  # find emoticons, see https://regex101.com/\n",
    "    # remove non-word chars, lowercase, add back in emoticons\n",
    "    text = (re.sub('[\\W]+',' ',text.lower()) + ' '.join(emoticons).replace('-','')) \n",
    "    return text"
   ]
  },
  {
   "cell_type": "code",
   "execution_count": 8,
   "metadata": {},
   "outputs": [
    {
     "data": {
      "text/plain": [
       "'this is a test :) :( :)'"
      ]
     },
     "execution_count": 8,
     "metadata": {},
     "output_type": "execute_result"
    }
   ],
   "source": [
    "preprocessor(\"</a>This :) is :( a test :-)!\")"
   ]
  },
  {
   "cell_type": "code",
   "execution_count": 9,
   "metadata": {},
   "outputs": [
    {
     "data": {
      "text/plain": [
       "'ok so i really like kris kristofferson and his usual easy going delivery of lines in his movie'"
      ]
     },
     "execution_count": 9,
     "metadata": {},
     "output_type": "execute_result"
    }
   ],
   "source": [
    "preprocessor(df.loc[1,'review'][:100])"
   ]
  },
  {
   "cell_type": "code",
   "execution_count": 10,
   "metadata": {},
   "outputs": [],
   "source": [
    "#df['review'] = df.review.apply(preprocessor)"
   ]
  },
  {
   "cell_type": "code",
   "execution_count": 11,
   "metadata": {},
   "outputs": [],
   "source": [
    "def tokenizer(text):\n",
    "    return text.split() # split on whitespace"
   ]
  },
  {
   "cell_type": "code",
   "execution_count": 12,
   "metadata": {},
   "outputs": [
    {
     "data": {
      "text/plain": [
       "['ok', 'so', 'i', 'really', 'like', 'kris', 'kristofferson', 'and', 'his']"
      ]
     },
     "execution_count": 12,
     "metadata": {},
     "output_type": "execute_result"
    }
   ],
   "source": [
    "tokenizer(preprocessor(df.loc[1,'review'][:52]))"
   ]
  },
  {
   "cell_type": "code",
   "execution_count": 13,
   "metadata": {},
   "outputs": [],
   "source": [
    "# need to run: conda install -n eods-f20 nltk\n",
    "from nltk.stem.porter import PorterStemmer\n",
    "\n",
    "porter = PorterStemmer()\n",
    "def tokenizer_porter(text):\n",
    "    return [porter.stem(word) for word in text.split()]"
   ]
  },
  {
   "cell_type": "code",
   "execution_count": 14,
   "metadata": {},
   "outputs": [
    {
     "data": {
      "text/plain": [
       "['ok', 'so', 'i', 'realli', 'like', 'kri', 'kristofferson', 'and', 'hi']"
      ]
     },
     "execution_count": 14,
     "metadata": {},
     "output_type": "execute_result"
    }
   ],
   "source": [
    "tokenizer_porter(preprocessor(df.loc[1,'review'][:52]))"
   ]
  },
  {
   "cell_type": "code",
   "execution_count": 15,
   "metadata": {},
   "outputs": [
    {
     "name": "stderr",
     "output_type": "stream",
     "text": [
      "[nltk_data] Downloading package stopwords to\n",
      "[nltk_data]     /home/bgibson/nltk_data...\n",
      "[nltk_data]   Package stopwords is already up-to-date!\n"
     ]
    },
    {
     "data": {
      "text/plain": [
       "['ok', 'realli', 'like', 'kri', 'kristofferson', 'hi']"
      ]
     },
     "execution_count": 15,
     "metadata": {},
     "output_type": "execute_result"
    }
   ],
   "source": [
    "import nltk\n",
    "nltk.download('stopwords')\n",
    "\n",
    "from nltk.corpus import stopwords\n",
    "stop = stopwords.words('english')\n",
    "\n",
    "[w for w in tokenizer_porter(preprocessor(df.loc[1,'review'][:52])) if w not in stop]"
   ]
  },
  {
   "cell_type": "markdown",
   "metadata": {},
   "source": [
    "---"
   ]
  },
  {
   "cell_type": "markdown",
   "metadata": {},
   "source": [
    "## Train Model"
   ]
  },
  {
   "cell_type": "code",
   "execution_count": 16,
   "metadata": {},
   "outputs": [],
   "source": [
    "from sklearn.model_selection import train_test_split"
   ]
  },
  {
   "cell_type": "code",
   "execution_count": 17,
   "metadata": {},
   "outputs": [],
   "source": [
    "X_train,X_test,y_train,y_test = train_test_split(df.review,df.sentiment)"
   ]
  },
  {
   "cell_type": "code",
   "execution_count": 18,
   "metadata": {},
   "outputs": [],
   "source": [
    "from sklearn.model_selection import GridSearchCV\n",
    "from sklearn.pipeline import Pipeline\n",
    "from sklearn.linear_model import LogisticRegression\n",
    "from sklearn.feature_extraction.text import TfidfVectorizer\n",
    "\n",
    "tfidf = TfidfVectorizer(strip_accents=None,\n",
    "                        lowercase=False,\n",
    "                        preprocessor=None)\n",
    "\n",
    "lr_tfidf = Pipeline([('vect',tfidf),\n",
    "                     ('clf',LogisticRegression(random_state=0,solver='liblinear'))])"
   ]
  },
  {
   "cell_type": "code",
   "execution_count": 19,
   "metadata": {},
   "outputs": [
    {
     "name": "stderr",
     "output_type": "stream",
     "text": [
      "[Parallel(n_jobs=-1)]: Using backend LokyBackend with 8 concurrent workers.\n"
     ]
    },
    {
     "name": "stdout",
     "output_type": "stream",
     "text": [
      "Fitting 3 folds for each of 48 candidates, totalling 144 fits\n"
     ]
    },
    {
     "name": "stderr",
     "output_type": "stream",
     "text": [
      "[Parallel(n_jobs=-1)]: Done  25 tasks      | elapsed:  8.2min\n",
      "[Parallel(n_jobs=-1)]: Done 144 out of 144 | elapsed: 58.4min finished\n"
     ]
    },
    {
     "data": {
      "text/plain": [
       "GridSearchCV(cv=3,\n",
       "             estimator=Pipeline(steps=[('vect',\n",
       "                                        TfidfVectorizer(lowercase=False)),\n",
       "                                       ('clf',\n",
       "                                        LogisticRegression(random_state=0,\n",
       "                                                           solver='liblinear'))]),\n",
       "             n_jobs=-1,\n",
       "             param_grid=[{'clf__C': [1.0, 10.0, 100.0],\n",
       "                          'clf__penalty': ['l1', 'l2'],\n",
       "                          'vect__ngram_range': [(1, 1)],\n",
       "                          'vect__stop_words': [['i', 'me', 'my', 'myself', 'we',\n",
       "                                                'our', 'ours', 'ourselves',\n",
       "                                                'you', \"you're\", \"you've...\n",
       "                                                'our', 'ours', 'ourselves',\n",
       "                                                'you', \"you're\", \"you've\",\n",
       "                                                \"you'll\", \"you'd\", 'your',\n",
       "                                                'yours', 'yourself',\n",
       "                                                'yourselves', 'he', 'him',\n",
       "                                                'his', 'himself', 'she',\n",
       "                                                \"she's\", 'her', 'hers',\n",
       "                                                'herself', 'it', \"it's\", 'its',\n",
       "                                                'itself', ...],\n",
       "                                               None],\n",
       "                          'vect__tokenizer': [<function tokenizer at 0x7f324f12d3a0>,\n",
       "                                              <function tokenizer_porter at 0x7f324ccd5550>],\n",
       "                          'vect__use_idf': [False]}],\n",
       "             scoring='accuracy', verbose=2)"
      ]
     },
     "execution_count": 19,
     "metadata": {},
     "output_type": "execute_result"
    }
   ],
   "source": [
    "# NOTE!! This step takes a long time: ~1 hour on 8-core i7 @ 1.8 GHz\n",
    "\n",
    "# try with two different parameter grids, one using tfidf, the other only tf\n",
    "param_grid = [{'vect__ngram_range': [(1,1)],\n",
    "               'vect__stop_words': [stop,None],                 # try with and without stopword removal\n",
    "               'vect__tokenizer': [tokenizer,tokenizer_porter], # try with and without stemming\n",
    "               'clf__penalty': ['l1','l2'],\n",
    "               'clf__C':[1.0,10.0,100.0],},\n",
    "              {'vect__ngram_range': [(1,1)],\n",
    "               'vect__stop_words': [stop,None],\n",
    "               'vect__tokenizer': [tokenizer,tokenizer_porter],\n",
    "               'vect__use_idf': [False],                        # try using term frequencies without tf-idf\n",
    "               'vect__norm': [None],                            # turn of norming only when using tf\n",
    "               'clf__penalty':['l1','l2'],\n",
    "               'clf__C': [1.0,10.0,100.0]\n",
    "              }\n",
    "             ]\n",
    "\n",
    "gs_lr_tfidf = GridSearchCV(lr_tfidf, param_grid, scoring='accuracy', cv=3, verbose=2, n_jobs=-1)\n",
    "gs_lr_tfidf.fit(X_train,y_train)"
   ]
  },
  {
   "cell_type": "code",
   "execution_count": 20,
   "metadata": {},
   "outputs": [
    {
     "name": "stdout",
     "output_type": "stream",
     "text": [
      "Best parameter set: {'clf__C': 10.0, 'clf__penalty': 'l2', 'vect__ngram_range': (1, 1), 'vect__stop_words': ['i', 'me', 'my', 'myself', 'we', 'our', 'ours', 'ourselves', 'you', \"you're\", \"you've\", \"you'll\", \"you'd\", 'your', 'yours', 'yourself', 'yourselves', 'he', 'him', 'his', 'himself', 'she', \"she's\", 'her', 'hers', 'herself', 'it', \"it's\", 'its', 'itself', 'they', 'them', 'their', 'theirs', 'themselves', 'what', 'which', 'who', 'whom', 'this', 'that', \"that'll\", 'these', 'those', 'am', 'is', 'are', 'was', 'were', 'be', 'been', 'being', 'have', 'has', 'had', 'having', 'do', 'does', 'did', 'doing', 'a', 'an', 'the', 'and', 'but', 'if', 'or', 'because', 'as', 'until', 'while', 'of', 'at', 'by', 'for', 'with', 'about', 'against', 'between', 'into', 'through', 'during', 'before', 'after', 'above', 'below', 'to', 'from', 'up', 'down', 'in', 'out', 'on', 'off', 'over', 'under', 'again', 'further', 'then', 'once', 'here', 'there', 'when', 'where', 'why', 'how', 'all', 'any', 'both', 'each', 'few', 'more', 'most', 'other', 'some', 'such', 'no', 'nor', 'not', 'only', 'own', 'same', 'so', 'than', 'too', 'very', 's', 't', 'can', 'will', 'just', 'don', \"don't\", 'should', \"should've\", 'now', 'd', 'll', 'm', 'o', 're', 've', 'y', 'ain', 'aren', \"aren't\", 'couldn', \"couldn't\", 'didn', \"didn't\", 'doesn', \"doesn't\", 'hadn', \"hadn't\", 'hasn', \"hasn't\", 'haven', \"haven't\", 'isn', \"isn't\", 'ma', 'mightn', \"mightn't\", 'mustn', \"mustn't\", 'needn', \"needn't\", 'shan', \"shan't\", 'shouldn', \"shouldn't\", 'wasn', \"wasn't\", 'weren', \"weren't\", 'won', \"won't\", 'wouldn', \"wouldn't\"], 'vect__tokenizer': <function tokenizer at 0x7f324f12d3a0>}\n",
      "CV Accuracy: 0.89072:0.3f\n"
     ]
    }
   ],
   "source": [
    "print(f'Best parameter set: {gs_lr_tfidf.best_params_}')\n",
    "print(f'CV Accuracy: {gs_lr_tfidf.best_score_}:0.3f')"
   ]
  },
  {
   "cell_type": "code",
   "execution_count": 22,
   "metadata": {},
   "outputs": [
    {
     "name": "stdout",
     "output_type": "stream",
     "text": [
      "Test Accuracy: 0.897\n"
     ]
    }
   ],
   "source": [
    "clf = gs_lr_tfidf.best_estimator_\n",
    "print(f'Test Accuracy: {clf.score(X_test, y_test):0.3f}')"
   ]
  },
  {
   "cell_type": "code",
   "execution_count": 23,
   "metadata": {},
   "outputs": [
    {
     "data": {
      "text/plain": [
       "0.50328"
      ]
     },
     "execution_count": 23,
     "metadata": {},
     "output_type": "execute_result"
    }
   ],
   "source": [
    "(y_test == 1).sum() / len(y_test)"
   ]
  },
  {
   "cell_type": "code",
   "execution_count": 32,
   "metadata": {},
   "outputs": [
    {
     "data": {
      "text/plain": [
       "(array([1]), array([[0., 1.]]))"
      ]
     },
     "execution_count": 32,
     "metadata": {},
     "output_type": "execute_result"
    }
   ],
   "source": [
    "gs_lr_tfidf.predict(['this was great']),np.round(gs_lr_tfidf.predict_proba(['this was great']))"
   ]
  },
  {
   "cell_type": "code",
   "execution_count": 31,
   "metadata": {},
   "outputs": [
    {
     "data": {
      "text/plain": [
       "(array([0]), array([[1., 0.]]))"
      ]
     },
     "execution_count": 31,
     "metadata": {},
     "output_type": "execute_result"
    }
   ],
   "source": [
    "gs_lr_tfidf.predict(['this was bad']),np.round(gs_lr_tfidf.predict_proba(['this was bad']),2)"
   ]
  },
  {
   "cell_type": "code",
   "execution_count": 36,
   "metadata": {},
   "outputs": [
    {
     "data": {
      "text/plain": [
       "(array([1]), array([[0., 1.]]))"
      ]
     },
     "execution_count": 36,
     "metadata": {},
     "output_type": "execute_result"
    }
   ],
   "source": [
    "gs_lr_tfidf.predict(['this was ok in parts']),np.round(gs_lr_tfidf.predict_proba(['this was ok in parts']))"
   ]
  },
  {
   "cell_type": "code",
   "execution_count": null,
   "metadata": {},
   "outputs": [],
   "source": []
  }
 ],
 "metadata": {
  "kernelspec": {
   "display_name": "eods-f20",
   "language": "python",
   "name": "eods-f20"
  },
  "language_info": {
   "codemirror_mode": {
    "name": "ipython",
    "version": 3
   },
   "file_extension": ".py",
   "mimetype": "text/x-python",
   "name": "python",
   "nbconvert_exporter": "python",
   "pygments_lexer": "ipython3",
   "version": "3.8.5"
  }
 },
 "nbformat": 4,
 "nbformat_minor": 2
}
