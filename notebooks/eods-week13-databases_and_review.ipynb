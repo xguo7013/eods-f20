{
 "cells": [
  {
   "cell_type": "markdown",
   "metadata": {
    "slideshow": {
     "slide_type": "slide"
    }
   },
   "source": [
    "## <center>Elements Of Data Science - F2020</center>\n",
    "# <center>Week 13: Databases and Review<center>\n",
    "### <center>12/14/2020</center>"
   ]
  },
  {
   "cell_type": "code",
   "execution_count": 1,
   "metadata": {
    "slideshow": {
     "slide_type": "skip"
    }
   },
   "outputs": [],
   "source": [
    "import numpy\n",
    "import numpy as np\n",
    "import pandas as pd\n",
    "import matplotlib.pyplot as plt\n",
    "import seaborn as sns\n",
    "\n",
    "from mlxtend.plotting import plot_decision_regions\n",
    "\n",
    "sns.set_style('darkgrid')\n",
    "%matplotlib inline"
   ]
  },
  {
   "cell_type": "markdown",
   "metadata": {
    "slideshow": {
     "slide_type": "slide"
    }
   },
   "source": [
    "# TODOs\n",
    "\n",
    "- No Quiz this week\n",
    "- HW4, **Due Friday Dec 18th 11:59pm ET**\n",
    "- Final\n",
    " - Release Monday night 12/14\n",
    " - Due **Saturday Dec 19th, 11:59pm ET**\n",
    " - Have 24hrs after starting exam to finish\n",
    " - 30-40 questions (fill in the blank/multiple choice/short answer)\n",
    " - Online via Gradescope\n",
    " - Cumulative, but focus on material from after the midterm\n",
    " - Open-book, open-note, open-python\n",
    " - Questions asked/answered **privately** via Piazza"
   ]
  },
  {
   "cell_type": "markdown",
   "metadata": {
    "slideshow": {
     "slide_type": "slide"
    }
   },
   "source": [
    "# Today\n",
    "\n",
    "- Connecting to databases with sqlalchemy and pandas\n",
    "- Review for the final"
   ]
  },
  {
   "cell_type": "markdown",
   "metadata": {
    "slideshow": {
     "slide_type": "slide"
    }
   },
   "source": [
    "<br>\n",
    "<br>\n",
    "\n",
    "# <center>Questions re Logistics?</center>\n",
    "<br>\n",
    "<br>"
   ]
  },
  {
   "cell_type": "markdown",
   "metadata": {
    "slideshow": {
     "slide_type": "slide"
    }
   },
   "source": [
    "# Accessing Databases with Python\n",
    "\n",
    "- databases vs flat-files\n",
    "- Relational Databases and SQL\n",
    "- NoSQL databases"
   ]
  },
  {
   "cell_type": "markdown",
   "metadata": {
    "slideshow": {
     "slide_type": "slide"
    }
   },
   "source": [
    "# Flat Files\n",
    "\n",
    "<div align=\"center\"><img src=\"images/unnormalized.png\"></div>\n",
    "\n",
    "- eg: csv, json, etc\n",
    "- Pros\n",
    "  - Ease of access\n",
    "  - Simple to transport\n",
    "<br>\n",
    "\n",
    "- Cons\n",
    "  - May include redundant information\n",
    "  - Slow to search\n",
    "  - No integity checks"
   ]
  },
  {
   "cell_type": "markdown",
   "metadata": {
    "slideshow": {
     "slide_type": "slide"
    }
   },
   "source": [
    "# Relational Databases\n",
    "\n",
    "- Data stored in **tables** (rows/columns)\n",
    "- Table columns have well defined datatype requirements\n",
    "- Complex **indexes** can be set up over often used data/searches\n",
    "- Row level security, separate from the operating system\n",
    "- Related data is stored in separate tables, referenced by **keys**\n",
    "<br>\n",
    "\n",
    "- Many commonly used Relational Databases\n",
    "  - sqlite (small footprint db, might already have it installed)\n",
    "  - Mysql\n",
    "  - PostgreSQL\n",
    "  - Microsoft SQL Server\n",
    "  - Oracle"
   ]
  },
  {
   "cell_type": "markdown",
   "metadata": {
    "slideshow": {
     "slide_type": "slide"
    }
   },
   "source": [
    "# Database Normalization\n",
    "\n",
    "- Organize data in accordance with **normal forms**\n",
    "<br>\n",
    "\n",
    "- Rules designed to:\n",
    "  - reduce data redundancy\n",
    "  - improve data integrity\n",
    "<br>\n",
    "<br>\n",
    "\n",
    "- Rules like:\n",
    "  - Has Primary Key\n",
    "  - No repeating groups\n",
    "  - Cells have single values\n",
    "  - No partial dependencies on keys (use whole key)\n",
    "  - ..."
   ]
  },
  {
   "cell_type": "markdown",
   "metadata": {
    "slideshow": {
     "slide_type": "slide"
    }
   },
   "source": [
    "# Database Normalization\n",
    "<br>\n",
    "\n",
    "<div align=\"center\"><img src=\"images/database_normalization.jpeg\" width=\"1200px\"></div>\n",
    "\n",
    "From [https://www.minigranth.com/dbms-tutorial/database-normalization-dbms/](https://www.minigranth.com/dbms-tutorial/database-normalization-dbms/)"
   ]
  },
  {
   "cell_type": "markdown",
   "metadata": {
    "slideshow": {
     "slide_type": "slide"
    }
   },
   "source": [
    "# De-Normalization\n",
    "<br>\n",
    "\n",
    "- But we want a single table/dataframe!\n",
    "- Very often need to **denormalize**\n",
    "- .. using joins! (see more later)"
   ]
  },
  {
   "cell_type": "markdown",
   "metadata": {
    "slideshow": {
     "slide_type": "slide"
    }
   },
   "source": [
    "# Structured Query Language (SQL)\n",
    "\n",
    "- (Semi) standard language for querying, transforming and returning data\n",
    "- Notable characteristics:\n",
    "  - generally case independent\n",
    "  - white-space is ignored\n",
    "  - strings denoted with single quotes\n",
    "  - comments start with double-dash \"--\"\n",
    "  \n",
    "```sql\n",
    "SELECT \n",
    "    client_id\n",
    "    ,lastname\n",
    "FROM\n",
    "    company_db.bi.clients --usually database.schema.table\n",
    "WHERE\n",
    "    lastname LIKE 'Gi%'   --only include rows with lastname starting with Gi\n",
    "LIMIT 10\n",
    "```"
   ]
  },
  {
   "cell_type": "markdown",
   "metadata": {
    "slideshow": {
     "slide_type": "slide"
    }
   },
   "source": [
    "# Small but Powerful DB: SQLite3\n",
    "\n",
    "- likely already have it installed\n",
    "- many programs use it to store configurations, history, etc\n",
    "- good place to play around with sql\n",
    "\n",
    "```\n",
    "bgibson@civet:~$ sqlite3\n",
    "SQLite version 3.22.0 2018-01-22 18:45:57\n",
    "Enter \".help\" for usage hints.\n",
    "Connected to a transient in-memory database.\n",
    "Use \".open FILENAME\" to reopen on a persistent database.\n",
    "sqlite> \n",
    "```"
   ]
  },
  {
   "cell_type": "markdown",
   "metadata": {
    "slideshow": {
     "slide_type": "slide"
    }
   },
   "source": [
    "# Accessing Relational DBs: `sqlalchemy`\n",
    "\n",
    "- flexible library for accessing a variety of sql dbs\n",
    "- can use to query through pandas itself to retrieve a dataframe"
   ]
  },
  {
   "cell_type": "raw",
   "metadata": {
    "slideshow": {
     "slide_type": "skip"
    }
   },
   "source": [
    "# need to first run: conda install -n eods-f20 sqlalchemy\n",
    "import sqlalchemy\n",
    "\n",
    "df = pd.read_csv('../data/example.csv',header=0,sep=',',na_values='None')\n",
    "engine = sqlalchemy.create_engine('sqlite:///../data/autos.sqlite')\n",
    "df.to_sql('sales',engine,if_exists='replace',index_label=\"ID\")"
   ]
  },
  {
   "cell_type": "raw",
   "metadata": {
    "slideshow": {
     "slide_type": "skip"
    }
   },
   "source": [
    "import sqlalchemy\n",
    "\n",
    "engine = sqlalchemy.create_engine('sqlite:///../data/example_business.sqlite')\n",
    "\n",
    "data = [[102,'Mikel','Rouse',1002],\n",
    "        [103,'Laura','Gibson',1003],\n",
    "        [104,None,'Reeves',1003],\n",
    "        [105,'Scott','Payseur',1004]]\n",
    "clients = pd.DataFrame(data,columns=['client_id', 'firstname', 'lastname', 'home_address_id'])\n",
    "\n",
    "\n",
    "addresses = pd.DataFrame([[1002,'1 First Ave.'],[1003,'2 Second Ave.'],[1005,'3 Third Ave.']],\n",
    "                         columns=['address_id','address'])\n",
    "\n",
    "engine = sqlalchemy.create_engine('sqlite:///../data/example_business.sqlite')\n",
    "clients.to_sql('clients',engine,if_exists='replace',index=False)\n",
    "addresses.to_sql('addresses',engine,if_exists='replace',index=False)"
   ]
  },
  {
   "cell_type": "code",
   "execution_count": 60,
   "metadata": {
    "slideshow": {
     "slide_type": "fragment"
    }
   },
   "outputs": [
    {
     "data": {
      "text/html": [
       "<div>\n",
       "<style scoped>\n",
       "    .dataframe tbody tr th:only-of-type {\n",
       "        vertical-align: middle;\n",
       "    }\n",
       "\n",
       "    .dataframe tbody tr th {\n",
       "        vertical-align: top;\n",
       "    }\n",
       "\n",
       "    .dataframe thead th {\n",
       "        text-align: right;\n",
       "    }\n",
       "</style>\n",
       "<table border=\"1\" class=\"dataframe\">\n",
       "  <thead>\n",
       "    <tr style=\"text-align: right;\">\n",
       "      <th></th>\n",
       "      <th>client_id</th>\n",
       "      <th>firstname</th>\n",
       "      <th>lastname</th>\n",
       "      <th>home_address_id</th>\n",
       "    </tr>\n",
       "  </thead>\n",
       "  <tbody>\n",
       "    <tr>\n",
       "      <th>0</th>\n",
       "      <td>102</td>\n",
       "      <td>Mikel</td>\n",
       "      <td>Rouse</td>\n",
       "      <td>1002</td>\n",
       "    </tr>\n",
       "    <tr>\n",
       "      <th>1</th>\n",
       "      <td>103</td>\n",
       "      <td>Laura</td>\n",
       "      <td>Gibson</td>\n",
       "      <td>1003</td>\n",
       "    </tr>\n",
       "    <tr>\n",
       "      <th>2</th>\n",
       "      <td>104</td>\n",
       "      <td>None</td>\n",
       "      <td>Reeves</td>\n",
       "      <td>1003</td>\n",
       "    </tr>\n",
       "    <tr>\n",
       "      <th>3</th>\n",
       "      <td>105</td>\n",
       "      <td>Scott</td>\n",
       "      <td>Payseur</td>\n",
       "      <td>1004</td>\n",
       "    </tr>\n",
       "  </tbody>\n",
       "</table>\n",
       "</div>"
      ],
      "text/plain": [
       "   client_id firstname lastname  home_address_id\n",
       "0        102     Mikel    Rouse             1002\n",
       "1        103     Laura   Gibson             1003\n",
       "2        104      None   Reeves             1003\n",
       "3        105     Scott  Payseur             1004"
      ]
     },
     "execution_count": 60,
     "metadata": {},
     "output_type": "execute_result"
    }
   ],
   "source": [
    "import sqlalchemy\n",
    "\n",
    "# sqlite sqlalchemy relative path syntax: 'sqlite:///[path to database file]'\n",
    "engine = sqlalchemy.create_engine('sqlite:///../data/example_business.sqlite')\n",
    "\n",
    "# read all records from the table sales\n",
    "sql = \"\"\"\n",
    "SELECT\n",
    "    *\n",
    "FROM\n",
    "    clients\n",
    "\"\"\"\n",
    "\n",
    "pd.read_sql(sql,engine)"
   ]
  },
  {
   "cell_type": "markdown",
   "metadata": {
    "slideshow": {
     "slide_type": "slide"
    }
   },
   "source": [
    "# SQL: SELECT"
   ]
  },
  {
   "cell_type": "code",
   "execution_count": 61,
   "metadata": {
    "slideshow": {
     "slide_type": "fragment"
    }
   },
   "outputs": [
    {
     "data": {
      "text/html": [
       "<div>\n",
       "<style scoped>\n",
       "    .dataframe tbody tr th:only-of-type {\n",
       "        vertical-align: middle;\n",
       "    }\n",
       "\n",
       "    .dataframe tbody tr th {\n",
       "        vertical-align: top;\n",
       "    }\n",
       "\n",
       "    .dataframe thead th {\n",
       "        text-align: right;\n",
       "    }\n",
       "</style>\n",
       "<table border=\"1\" class=\"dataframe\">\n",
       "  <thead>\n",
       "    <tr style=\"text-align: right;\">\n",
       "      <th></th>\n",
       "      <th>client_id</th>\n",
       "      <th>lastname</th>\n",
       "    </tr>\n",
       "  </thead>\n",
       "  <tbody>\n",
       "    <tr>\n",
       "      <th>0</th>\n",
       "      <td>102</td>\n",
       "      <td>Rouse</td>\n",
       "    </tr>\n",
       "    <tr>\n",
       "      <th>1</th>\n",
       "      <td>103</td>\n",
       "      <td>Gibson</td>\n",
       "    </tr>\n",
       "    <tr>\n",
       "      <th>2</th>\n",
       "      <td>104</td>\n",
       "      <td>Reeves</td>\n",
       "    </tr>\n",
       "    <tr>\n",
       "      <th>3</th>\n",
       "      <td>105</td>\n",
       "      <td>Payseur</td>\n",
       "    </tr>\n",
       "  </tbody>\n",
       "</table>\n",
       "</div>"
      ],
      "text/plain": [
       "   client_id lastname\n",
       "0        102    Rouse\n",
       "1        103   Gibson\n",
       "2        104   Reeves\n",
       "3        105  Payseur"
      ]
     },
     "execution_count": 61,
     "metadata": {},
     "output_type": "execute_result"
    }
   ],
   "source": [
    "sql=\"\"\"\n",
    "SELECT \n",
    "    client_id\n",
    "    ,lastname\n",
    "FROM\n",
    "    clients\n",
    "\"\"\"\n",
    "\n",
    "pd.read_sql(sql,engine)"
   ]
  },
  {
   "cell_type": "markdown",
   "metadata": {
    "slideshow": {
     "slide_type": "slide"
    }
   },
   "source": [
    "# SQL: AS alias"
   ]
  },
  {
   "cell_type": "code",
   "execution_count": 62,
   "metadata": {
    "slideshow": {
     "slide_type": "fragment"
    }
   },
   "outputs": [
    {
     "data": {
      "text/html": [
       "<div>\n",
       "<style scoped>\n",
       "    .dataframe tbody tr th:only-of-type {\n",
       "        vertical-align: middle;\n",
       "    }\n",
       "\n",
       "    .dataframe tbody tr th {\n",
       "        vertical-align: top;\n",
       "    }\n",
       "\n",
       "    .dataframe thead th {\n",
       "        text-align: right;\n",
       "    }\n",
       "</style>\n",
       "<table border=\"1\" class=\"dataframe\">\n",
       "  <thead>\n",
       "    <tr style=\"text-align: right;\">\n",
       "      <th></th>\n",
       "      <th>Cid</th>\n",
       "      <th>Lastname</th>\n",
       "    </tr>\n",
       "  </thead>\n",
       "  <tbody>\n",
       "    <tr>\n",
       "      <th>0</th>\n",
       "      <td>102</td>\n",
       "      <td>Rouse</td>\n",
       "    </tr>\n",
       "    <tr>\n",
       "      <th>1</th>\n",
       "      <td>103</td>\n",
       "      <td>Gibson</td>\n",
       "    </tr>\n",
       "    <tr>\n",
       "      <th>2</th>\n",
       "      <td>104</td>\n",
       "      <td>Reeves</td>\n",
       "    </tr>\n",
       "    <tr>\n",
       "      <th>3</th>\n",
       "      <td>105</td>\n",
       "      <td>Payseur</td>\n",
       "    </tr>\n",
       "  </tbody>\n",
       "</table>\n",
       "</div>"
      ],
      "text/plain": [
       "   Cid Lastname\n",
       "0  102    Rouse\n",
       "1  103   Gibson\n",
       "2  104   Reeves\n",
       "3  105  Payseur"
      ]
     },
     "execution_count": 62,
     "metadata": {},
     "output_type": "execute_result"
    }
   ],
   "source": [
    "sql=\"\"\"\n",
    "SELECT \n",
    "    client_id AS Cid\n",
    "    ,lastname AS Lastname\n",
    "FROM\n",
    "    clients ca\n",
    "\"\"\"\n",
    "\n",
    "pd.read_sql(sql,engine)"
   ]
  },
  {
   "cell_type": "markdown",
   "metadata": {
    "slideshow": {
     "slide_type": "slide"
    }
   },
   "source": [
    "# SQL: * (wildcard)"
   ]
  },
  {
   "cell_type": "code",
   "execution_count": 63,
   "metadata": {
    "slideshow": {
     "slide_type": "fragment"
    }
   },
   "outputs": [
    {
     "data": {
      "text/html": [
       "<div>\n",
       "<style scoped>\n",
       "    .dataframe tbody tr th:only-of-type {\n",
       "        vertical-align: middle;\n",
       "    }\n",
       "\n",
       "    .dataframe tbody tr th {\n",
       "        vertical-align: top;\n",
       "    }\n",
       "\n",
       "    .dataframe thead th {\n",
       "        text-align: right;\n",
       "    }\n",
       "</style>\n",
       "<table border=\"1\" class=\"dataframe\">\n",
       "  <thead>\n",
       "    <tr style=\"text-align: right;\">\n",
       "      <th></th>\n",
       "      <th>client_id</th>\n",
       "      <th>firstname</th>\n",
       "      <th>lastname</th>\n",
       "      <th>home_address_id</th>\n",
       "    </tr>\n",
       "  </thead>\n",
       "  <tbody>\n",
       "    <tr>\n",
       "      <th>0</th>\n",
       "      <td>102</td>\n",
       "      <td>Mikel</td>\n",
       "      <td>Rouse</td>\n",
       "      <td>1002</td>\n",
       "    </tr>\n",
       "    <tr>\n",
       "      <th>1</th>\n",
       "      <td>103</td>\n",
       "      <td>Laura</td>\n",
       "      <td>Gibson</td>\n",
       "      <td>1003</td>\n",
       "    </tr>\n",
       "    <tr>\n",
       "      <th>2</th>\n",
       "      <td>104</td>\n",
       "      <td>None</td>\n",
       "      <td>Reeves</td>\n",
       "      <td>1003</td>\n",
       "    </tr>\n",
       "    <tr>\n",
       "      <th>3</th>\n",
       "      <td>105</td>\n",
       "      <td>Scott</td>\n",
       "      <td>Payseur</td>\n",
       "      <td>1004</td>\n",
       "    </tr>\n",
       "  </tbody>\n",
       "</table>\n",
       "</div>"
      ],
      "text/plain": [
       "   client_id firstname lastname  home_address_id\n",
       "0        102     Mikel    Rouse             1002\n",
       "1        103     Laura   Gibson             1003\n",
       "2        104      None   Reeves             1003\n",
       "3        105     Scott  Payseur             1004"
      ]
     },
     "execution_count": 63,
     "metadata": {},
     "output_type": "execute_result"
    }
   ],
   "source": [
    "sql=\"\"\"\n",
    "SELECT \n",
    "    *\n",
    "FROM\n",
    "    clients\n",
    "\"\"\"\n",
    "clients = pd.read_sql(sql,engine)\n",
    "clients"
   ]
  },
  {
   "cell_type": "code",
   "execution_count": 64,
   "metadata": {
    "slideshow": {
     "slide_type": "fragment"
    }
   },
   "outputs": [
    {
     "data": {
      "text/html": [
       "<div>\n",
       "<style scoped>\n",
       "    .dataframe tbody tr th:only-of-type {\n",
       "        vertical-align: middle;\n",
       "    }\n",
       "\n",
       "    .dataframe tbody tr th {\n",
       "        vertical-align: top;\n",
       "    }\n",
       "\n",
       "    .dataframe thead th {\n",
       "        text-align: right;\n",
       "    }\n",
       "</style>\n",
       "<table border=\"1\" class=\"dataframe\">\n",
       "  <thead>\n",
       "    <tr style=\"text-align: right;\">\n",
       "      <th></th>\n",
       "      <th>address_id</th>\n",
       "      <th>address</th>\n",
       "    </tr>\n",
       "  </thead>\n",
       "  <tbody>\n",
       "    <tr>\n",
       "      <th>0</th>\n",
       "      <td>1002</td>\n",
       "      <td>1 First Ave.</td>\n",
       "    </tr>\n",
       "    <tr>\n",
       "      <th>1</th>\n",
       "      <td>1003</td>\n",
       "      <td>2 Second Ave.</td>\n",
       "    </tr>\n",
       "    <tr>\n",
       "      <th>2</th>\n",
       "      <td>1005</td>\n",
       "      <td>3 Third Ave.</td>\n",
       "    </tr>\n",
       "  </tbody>\n",
       "</table>\n",
       "</div>"
      ],
      "text/plain": [
       "   address_id        address\n",
       "0        1002   1 First Ave.\n",
       "1        1003  2 Second Ave.\n",
       "2        1005   3 Third Ave."
      ]
     },
     "execution_count": 64,
     "metadata": {},
     "output_type": "execute_result"
    }
   ],
   "source": [
    "sql=\"\"\"\n",
    "SELECT \n",
    "    *\n",
    "FROM\n",
    "    addresses\n",
    "\"\"\"\n",
    "addresses = pd.read_sql(sql,engine)\n",
    "addresses"
   ]
  },
  {
   "cell_type": "markdown",
   "metadata": {
    "slideshow": {
     "slide_type": "slide"
    }
   },
   "source": [
    "# SQL: WHERE"
   ]
  },
  {
   "cell_type": "code",
   "execution_count": 65,
   "metadata": {
    "slideshow": {
     "slide_type": "fragment"
    }
   },
   "outputs": [
    {
     "data": {
      "text/html": [
       "<div>\n",
       "<style scoped>\n",
       "    .dataframe tbody tr th:only-of-type {\n",
       "        vertical-align: middle;\n",
       "    }\n",
       "\n",
       "    .dataframe tbody tr th {\n",
       "        vertical-align: top;\n",
       "    }\n",
       "\n",
       "    .dataframe thead th {\n",
       "        text-align: right;\n",
       "    }\n",
       "</style>\n",
       "<table border=\"1\" class=\"dataframe\">\n",
       "  <thead>\n",
       "    <tr style=\"text-align: right;\">\n",
       "      <th></th>\n",
       "      <th>client_id</th>\n",
       "      <th>firstname</th>\n",
       "      <th>lastname</th>\n",
       "      <th>home_address_id</th>\n",
       "    </tr>\n",
       "  </thead>\n",
       "  <tbody>\n",
       "    <tr>\n",
       "      <th>0</th>\n",
       "      <td>103</td>\n",
       "      <td>Laura</td>\n",
       "      <td>Gibson</td>\n",
       "      <td>1003</td>\n",
       "    </tr>\n",
       "    <tr>\n",
       "      <th>1</th>\n",
       "      <td>104</td>\n",
       "      <td>None</td>\n",
       "      <td>Reeves</td>\n",
       "      <td>1003</td>\n",
       "    </tr>\n",
       "  </tbody>\n",
       "</table>\n",
       "</div>"
      ],
      "text/plain": [
       "   client_id firstname lastname  home_address_id\n",
       "0        103     Laura   Gibson             1003\n",
       "1        104      None   Reeves             1003"
      ]
     },
     "execution_count": 65,
     "metadata": {},
     "output_type": "execute_result"
    }
   ],
   "source": [
    "sql = \"\"\"\n",
    "SELECT\n",
    "    *\n",
    "FROM\n",
    "    clients\n",
    "WHERE home_address_id = 1003\n",
    "\"\"\"\n",
    "\n",
    "pd.read_sql(sql,engine)"
   ]
  },
  {
   "cell_type": "code",
   "execution_count": 66,
   "metadata": {
    "slideshow": {
     "slide_type": "fragment"
    }
   },
   "outputs": [
    {
     "data": {
      "text/html": [
       "<div>\n",
       "<style scoped>\n",
       "    .dataframe tbody tr th:only-of-type {\n",
       "        vertical-align: middle;\n",
       "    }\n",
       "\n",
       "    .dataframe tbody tr th {\n",
       "        vertical-align: top;\n",
       "    }\n",
       "\n",
       "    .dataframe thead th {\n",
       "        text-align: right;\n",
       "    }\n",
       "</style>\n",
       "<table border=\"1\" class=\"dataframe\">\n",
       "  <thead>\n",
       "    <tr style=\"text-align: right;\">\n",
       "      <th></th>\n",
       "      <th>client_id</th>\n",
       "      <th>firstname</th>\n",
       "      <th>lastname</th>\n",
       "      <th>home_address_id</th>\n",
       "    </tr>\n",
       "  </thead>\n",
       "  <tbody>\n",
       "    <tr>\n",
       "      <th>0</th>\n",
       "      <td>103</td>\n",
       "      <td>Laura</td>\n",
       "      <td>Gibson</td>\n",
       "      <td>1003</td>\n",
       "    </tr>\n",
       "  </tbody>\n",
       "</table>\n",
       "</div>"
      ],
      "text/plain": [
       "   client_id firstname lastname  home_address_id\n",
       "0        103     Laura   Gibson             1003"
      ]
     },
     "execution_count": 66,
     "metadata": {},
     "output_type": "execute_result"
    }
   ],
   "source": [
    "sql = \"\"\"\n",
    "SELECT\n",
    "    *\n",
    "FROM\n",
    "    clients\n",
    "WHERE home_address_id = 1003 AND lastname LIKE 'Gi%'\n",
    "\"\"\"\n",
    "\n",
    "pd.read_sql(sql,engine)"
   ]
  },
  {
   "cell_type": "markdown",
   "metadata": {
    "slideshow": {
     "slide_type": "slide"
    }
   },
   "source": [
    "# SQL: (INNER) JOIN"
   ]
  },
  {
   "cell_type": "code",
   "execution_count": 67,
   "metadata": {
    "slideshow": {
     "slide_type": "fragment"
    }
   },
   "outputs": [
    {
     "data": {
      "text/html": [
       "<div>\n",
       "<style scoped>\n",
       "    .dataframe tbody tr th:only-of-type {\n",
       "        vertical-align: middle;\n",
       "    }\n",
       "\n",
       "    .dataframe tbody tr th {\n",
       "        vertical-align: top;\n",
       "    }\n",
       "\n",
       "    .dataframe thead th {\n",
       "        text-align: right;\n",
       "    }\n",
       "</style>\n",
       "<table border=\"1\" class=\"dataframe\">\n",
       "  <thead>\n",
       "    <tr style=\"text-align: right;\">\n",
       "      <th></th>\n",
       "      <th>firstname</th>\n",
       "      <th>address</th>\n",
       "    </tr>\n",
       "  </thead>\n",
       "  <tbody>\n",
       "    <tr>\n",
       "      <th>0</th>\n",
       "      <td>Mikel</td>\n",
       "      <td>1 First Ave.</td>\n",
       "    </tr>\n",
       "    <tr>\n",
       "      <th>1</th>\n",
       "      <td>Laura</td>\n",
       "      <td>2 Second Ave.</td>\n",
       "    </tr>\n",
       "  </tbody>\n",
       "</table>\n",
       "</div>"
      ],
      "text/plain": [
       "  firstname        address\n",
       "0     Mikel   1 First Ave.\n",
       "1     Laura  2 Second Ave."
      ]
     },
     "execution_count": 67,
     "metadata": {},
     "output_type": "execute_result"
    }
   ],
   "source": [
    "sql=\"\"\"\n",
    "SELECT\n",
    "    c.firstname\n",
    "    ,a.address\n",
    "FROM clients AS c\n",
    "JOIN addresses AS a ON c.home_address_id = a.address_id\n",
    "WHERE c.firstname IS NOT NULL\n",
    "\"\"\"\n",
    "\n",
    "pd.read_sql(sql,engine)"
   ]
  },
  {
   "cell_type": "markdown",
   "metadata": {
    "slideshow": {
     "slide_type": "slide"
    }
   },
   "source": [
    "# SQL: LEFT JOIN"
   ]
  },
  {
   "cell_type": "code",
   "execution_count": 68,
   "metadata": {
    "slideshow": {
     "slide_type": "fragment"
    }
   },
   "outputs": [
    {
     "data": {
      "text/html": [
       "<div>\n",
       "<style scoped>\n",
       "    .dataframe tbody tr th:only-of-type {\n",
       "        vertical-align: middle;\n",
       "    }\n",
       "\n",
       "    .dataframe tbody tr th {\n",
       "        vertical-align: top;\n",
       "    }\n",
       "\n",
       "    .dataframe thead th {\n",
       "        text-align: right;\n",
       "    }\n",
       "</style>\n",
       "<table border=\"1\" class=\"dataframe\">\n",
       "  <thead>\n",
       "    <tr style=\"text-align: right;\">\n",
       "      <th></th>\n",
       "      <th>firstname</th>\n",
       "      <th>address</th>\n",
       "    </tr>\n",
       "  </thead>\n",
       "  <tbody>\n",
       "    <tr>\n",
       "      <th>0</th>\n",
       "      <td>Mikel</td>\n",
       "      <td>1 First Ave.</td>\n",
       "    </tr>\n",
       "    <tr>\n",
       "      <th>1</th>\n",
       "      <td>Laura</td>\n",
       "      <td>2 Second Ave.</td>\n",
       "    </tr>\n",
       "    <tr>\n",
       "      <th>2</th>\n",
       "      <td>Scott</td>\n",
       "      <td>None</td>\n",
       "    </tr>\n",
       "  </tbody>\n",
       "</table>\n",
       "</div>"
      ],
      "text/plain": [
       "  firstname        address\n",
       "0     Mikel   1 First Ave.\n",
       "1     Laura  2 Second Ave.\n",
       "2     Scott           None"
      ]
     },
     "execution_count": 68,
     "metadata": {},
     "output_type": "execute_result"
    }
   ],
   "source": [
    "sql=\"\"\"\n",
    "SELECT\n",
    "    c.firstname,a.address\n",
    "FROM clients AS c\n",
    "LEFT JOIN addresses AS a ON c.home_address_id = a.address_id\n",
    "WHERE c.firstname IS NOT NULL\n",
    "\"\"\"\n",
    "\n",
    "pd.read_sql(sql,engine)"
   ]
  },
  {
   "cell_type": "markdown",
   "metadata": {
    "slideshow": {
     "slide_type": "slide"
    }
   },
   "source": [
    "# SQL: RIGHT JOIN"
   ]
  },
  {
   "cell_type": "code",
   "execution_count": 69,
   "metadata": {
    "slideshow": {
     "slide_type": "fragment"
    }
   },
   "outputs": [],
   "source": [
    "# this will cause an error in pandas, right join not supported in sqlalchemy + sqlite3\n",
    "sql=\"\"\"\n",
    "SELECT\n",
    "    c.firstname,a.address\n",
    "FROM clients AS c\n",
    "RIGHT JOIN addresses AS a ON c.home_address_id = a.address_id\n",
    "\"\"\"\n",
    "#pd.read_sql(sql,engine)"
   ]
  },
  {
   "cell_type": "code",
   "execution_count": 70,
   "metadata": {
    "slideshow": {
     "slide_type": "fragment"
    }
   },
   "outputs": [
    {
     "data": {
      "text/html": [
       "<div>\n",
       "<style scoped>\n",
       "    .dataframe tbody tr th:only-of-type {\n",
       "        vertical-align: middle;\n",
       "    }\n",
       "\n",
       "    .dataframe tbody tr th {\n",
       "        vertical-align: top;\n",
       "    }\n",
       "\n",
       "    .dataframe thead th {\n",
       "        text-align: right;\n",
       "    }\n",
       "</style>\n",
       "<table border=\"1\" class=\"dataframe\">\n",
       "  <thead>\n",
       "    <tr style=\"text-align: right;\">\n",
       "      <th></th>\n",
       "      <th>firstname</th>\n",
       "      <th>address</th>\n",
       "    </tr>\n",
       "  </thead>\n",
       "  <tbody>\n",
       "    <tr>\n",
       "      <th>0</th>\n",
       "      <td>Mikel</td>\n",
       "      <td>1 First Ave.</td>\n",
       "    </tr>\n",
       "    <tr>\n",
       "      <th>1</th>\n",
       "      <td>None</td>\n",
       "      <td>2 Second Ave.</td>\n",
       "    </tr>\n",
       "    <tr>\n",
       "      <th>2</th>\n",
       "      <td>Laura</td>\n",
       "      <td>2 Second Ave.</td>\n",
       "    </tr>\n",
       "    <tr>\n",
       "      <th>3</th>\n",
       "      <td>None</td>\n",
       "      <td>3 Third Ave.</td>\n",
       "    </tr>\n",
       "  </tbody>\n",
       "</table>\n",
       "</div>"
      ],
      "text/plain": [
       "  firstname        address\n",
       "0     Mikel   1 First Ave.\n",
       "1      None  2 Second Ave.\n",
       "2     Laura  2 Second Ave.\n",
       "3      None   3 Third Ave."
      ]
     },
     "execution_count": 70,
     "metadata": {},
     "output_type": "execute_result"
    }
   ],
   "source": [
    "sql=\"\"\"\n",
    "SELECT\n",
    "    c.firstname,a.address\n",
    "from addresses a\n",
    "LEFT JOIN clients AS c ON c.home_address_id = a.address_id\n",
    "\"\"\"\n",
    "pd.read_sql(sql,engine)"
   ]
  },
  {
   "cell_type": "code",
   "execution_count": 71,
   "metadata": {
    "slideshow": {
     "slide_type": "fragment"
    }
   },
   "outputs": [
    {
     "data": {
      "text/html": [
       "<div>\n",
       "<style scoped>\n",
       "    .dataframe tbody tr th:only-of-type {\n",
       "        vertical-align: middle;\n",
       "    }\n",
       "\n",
       "    .dataframe tbody tr th {\n",
       "        vertical-align: top;\n",
       "    }\n",
       "\n",
       "    .dataframe thead th {\n",
       "        text-align: right;\n",
       "    }\n",
       "</style>\n",
       "<table border=\"1\" class=\"dataframe\">\n",
       "  <thead>\n",
       "    <tr style=\"text-align: right;\">\n",
       "      <th></th>\n",
       "      <th>firstname</th>\n",
       "      <th>address</th>\n",
       "    </tr>\n",
       "  </thead>\n",
       "  <tbody>\n",
       "    <tr>\n",
       "      <th>0</th>\n",
       "      <td>Mikel</td>\n",
       "      <td>1 First Ave.</td>\n",
       "    </tr>\n",
       "    <tr>\n",
       "      <th>1</th>\n",
       "      <td>Laura</td>\n",
       "      <td>2 Second Ave.</td>\n",
       "    </tr>\n",
       "    <tr>\n",
       "      <th>2</th>\n",
       "      <td>None</td>\n",
       "      <td>2 Second Ave.</td>\n",
       "    </tr>\n",
       "    <tr>\n",
       "      <th>3</th>\n",
       "      <td>NaN</td>\n",
       "      <td>3 Third Ave.</td>\n",
       "    </tr>\n",
       "  </tbody>\n",
       "</table>\n",
       "</div>"
      ],
      "text/plain": [
       "  firstname        address\n",
       "0     Mikel   1 First Ave.\n",
       "1     Laura  2 Second Ave.\n",
       "2      None  2 Second Ave.\n",
       "3       NaN   3 Third Ave."
      ]
     },
     "execution_count": 71,
     "metadata": {},
     "output_type": "execute_result"
    }
   ],
   "source": [
    "pd.merge(clients,addresses,left_on='home_address_id',right_on='address_id',how='right')[['firstname','address']]"
   ]
  },
  {
   "cell_type": "markdown",
   "metadata": {
    "slideshow": {
     "slide_type": "slide"
    }
   },
   "source": [
    "# SQL: FULL OUTER JOIN"
   ]
  },
  {
   "cell_type": "code",
   "execution_count": 72,
   "metadata": {
    "slideshow": {
     "slide_type": "fragment"
    }
   },
   "outputs": [],
   "source": [
    "# this will cause an error in pandas, outer join not supported in sqlalchemy + sqlite3\n",
    "sql=\"\"\"\n",
    "SELECT\n",
    "    c.firstname,a.address\n",
    "FROM clients AS c\n",
    "OUTER JOIN addresses AS a ON c.home_address_id = a.address_id\n",
    "\"\"\"\n",
    "#pd.read_sql(sql,engine)"
   ]
  },
  {
   "cell_type": "code",
   "execution_count": 73,
   "metadata": {
    "slideshow": {
     "slide_type": "fragment"
    }
   },
   "outputs": [
    {
     "data": {
      "text/html": [
       "<div>\n",
       "<style scoped>\n",
       "    .dataframe tbody tr th:only-of-type {\n",
       "        vertical-align: middle;\n",
       "    }\n",
       "\n",
       "    .dataframe tbody tr th {\n",
       "        vertical-align: top;\n",
       "    }\n",
       "\n",
       "    .dataframe thead th {\n",
       "        text-align: right;\n",
       "    }\n",
       "</style>\n",
       "<table border=\"1\" class=\"dataframe\">\n",
       "  <thead>\n",
       "    <tr style=\"text-align: right;\">\n",
       "      <th></th>\n",
       "      <th>firstname</th>\n",
       "      <th>address</th>\n",
       "    </tr>\n",
       "  </thead>\n",
       "  <tbody>\n",
       "    <tr>\n",
       "      <th>0</th>\n",
       "      <td>Mikel</td>\n",
       "      <td>1 First Ave.</td>\n",
       "    </tr>\n",
       "    <tr>\n",
       "      <th>1</th>\n",
       "      <td>Laura</td>\n",
       "      <td>2 Second Ave.</td>\n",
       "    </tr>\n",
       "    <tr>\n",
       "      <th>2</th>\n",
       "      <td>None</td>\n",
       "      <td>2 Second Ave.</td>\n",
       "    </tr>\n",
       "    <tr>\n",
       "      <th>3</th>\n",
       "      <td>Scott</td>\n",
       "      <td>NaN</td>\n",
       "    </tr>\n",
       "    <tr>\n",
       "      <th>4</th>\n",
       "      <td>NaN</td>\n",
       "      <td>3 Third Ave.</td>\n",
       "    </tr>\n",
       "  </tbody>\n",
       "</table>\n",
       "</div>"
      ],
      "text/plain": [
       "  firstname        address\n",
       "0     Mikel   1 First Ave.\n",
       "1     Laura  2 Second Ave.\n",
       "2      None  2 Second Ave.\n",
       "3     Scott            NaN\n",
       "4       NaN   3 Third Ave."
      ]
     },
     "execution_count": 73,
     "metadata": {},
     "output_type": "execute_result"
    }
   ],
   "source": [
    "pd.merge(clients,addresses,left_on='home_address_id',right_on='address_id',how='outer')[['firstname','address']]"
   ]
  },
  {
   "cell_type": "markdown",
   "metadata": {
    "slideshow": {
     "slide_type": "slide"
    }
   },
   "source": [
    "# SQL: And Much More!\n",
    "\n",
    "- Multiple Joins\n",
    "- DISTINCT\n",
    "- COUNT\n",
    "- ORDER BY\n",
    "- GROUP BY\n",
    "- LIMIT\n",
    "- Operators (string concatenate operator is '||' in sqlite)\n",
    "- Subqueries\n",
    "- HAVING\n",
    "- see [Data Science From Scratch Ch. 23](https://ezproxy.cul.columbia.edu/login?qurl=https%3a%2f%2fsearch.ebscohost.com%2flogin.aspx%3fdirect%3dtrue%26db%3dnlebk%26AN%3d979529%26site%3dehost-live%26scope%3dsite%26ebv%3DEB%26ppid%3Dpp_275)"
   ]
  },
  {
   "cell_type": "markdown",
   "metadata": {
    "slideshow": {
     "slide_type": "slide"
    }
   },
   "source": [
    "# NoSQL\n",
    "\n",
    "- Anything that isn't traditional SQL/RDBMS\n",
    "  - key-value (Redis,Berkely DB)\n",
    "  - document store (MongoDB, DocumentDB)\n",
    "  - wide column (Cassandra, HBase, DynamoDB)\n",
    "  - graph (Neo4j)\n",
    "<br>\n",
    "<br>\n",
    "\n",
    "- Rapidly growing field to fit needs\n",
    "- Probably more as we speak"
   ]
  },
  {
   "cell_type": "markdown",
   "metadata": {
    "slideshow": {
     "slide_type": "slide"
    }
   },
   "source": [
    "# Example: Mongo\n",
    "<br>\n",
    "\n",
    "- records represented as documents (think json)\n",
    "- very flexible structure\n",
    "- great way to store semi-structure data\n",
    "- a lot of processing needed to turn into feature vectors\n",
    "<br>\n",
    "\n",
    "- contains databases (db)\n",
    "  - which contain collections (like tables)\n",
    "  - which you then do finds on"
   ]
  },
  {
   "cell_type": "markdown",
   "metadata": {
    "slideshow": {
     "slide_type": "slide"
    }
   },
   "source": [
    "# Example: Mongo\n",
    "\n",
    "- Need to have Mongo running on your local machine with a 'twitter_db' database"
   ]
  },
  {
   "cell_type": "code",
   "execution_count": 74,
   "metadata": {
    "slideshow": {
     "slide_type": "fragment"
    }
   },
   "outputs": [],
   "source": [
    "# conda install -n eods-f20 pymongo\n",
    "import pymongo\n",
    "\n",
    "# start up our client, defaults to the local machine\n",
    "mdb = pymongo.MongoClient()\n",
    "\n",
    "# get a connection to a database\n",
    "db = mdb.twitter_db\n",
    "\n",
    "# get a connection to a collection in that database\n",
    "coll = db.twitter_collection"
   ]
  },
  {
   "cell_type": "markdown",
   "metadata": {
    "slideshow": {
     "slide_type": "slide"
    }
   },
   "source": [
    "# Example: Mongo"
   ]
  },
  {
   "cell_type": "code",
   "execution_count": 75,
   "metadata": {
    "slideshow": {
     "slide_type": "fragment"
    }
   },
   "outputs": [],
   "source": [
    "# get one record\n",
    "coll.find_one()\n",
    "\n",
    "example_output = \"\"\"\n",
    "{'_id': ObjectId('59c95e2c2471847a9783c400'),\n",
    " 'created_at': 'Mon Sep 25 19:51:08 +0000 2017',\n",
    " 'id': 912404120484511749,\n",
    " 'id_str': '912404120484511749',\n",
    " 'text': 'RT @YarmolukDan: Waste Management Just Got Cleaner and More Efficient https://t.co/HtaXzfxbrA #DataScience #DataScientist #BigData #AI #IoT…',\n",
    " 'source': '<a href=\"http://twitter.com/download/android\" rel=\"nofollow\">Twitter for Android</a>',\n",
    " 'truncated': False,\n",
    " 'in_reply_to_status_id': None,\n",
    " 'in_reply_to_status_id_str': None,\n",
    " 'in_reply_to_user_id': None,\n",
    " 'in_reply_to_user_id_str': None,\n",
    " 'in_reply_to_screen_name': None,\n",
    " 'user': {'id': 912391257430794241,\n",
    "  'id_str': '912391257430794241',\n",
    "  'name': 'Roxane Wattenbarger',\n",
    "  'screen_name': 'roxanewattenba6',\n",
    "  'location': None,\n",
    "  'url': None,\n",
    "  'description': 'l',\n",
    "  'translator_type': 'none',\n",
    "  ...'\n",
    "}\n",
    "\"\"\"\n"
   ]
  },
  {
   "cell_type": "markdown",
   "metadata": {
    "slideshow": {
     "slide_type": "slide"
    }
   },
   "source": [
    "<br>\n",
    "<br>\n",
    "\n",
    "# <center>Questions re Databases?</center>\n",
    "<br>\n",
    "<br>"
   ]
  },
  {
   "cell_type": "markdown",
   "metadata": {
    "slideshow": {
     "slide_type": "slide"
    }
   },
   "source": [
    "<br>\n",
    "<br>\n",
    "\n",
    "# <center>Final Review</center>\n",
    "<br>\n",
    "<br>"
   ]
  }
 ],
 "metadata": {
  "celltoolbar": "Slideshow",
  "kernelspec": {
   "display_name": "eods-f20",
   "language": "python",
   "name": "eods-f20"
  },
  "language_info": {
   "codemirror_mode": {
    "name": "ipython",
    "version": 3
   },
   "file_extension": ".py",
   "mimetype": "text/x-python",
   "name": "python",
   "nbconvert_exporter": "python",
   "pygments_lexer": "ipython3",
   "version": "3.8.5"
  }
 },
 "nbformat": 4,
 "nbformat_minor": 4
}
