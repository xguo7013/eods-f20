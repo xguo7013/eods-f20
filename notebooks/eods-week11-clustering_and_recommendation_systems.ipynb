{
 "cells": [
  {
   "cell_type": "markdown",
   "metadata": {
    "slideshow": {
     "slide_type": "slide"
    }
   },
   "source": [
    "## <center>Elements Of Data Science - F2020</center>\n",
    "# <center>Week 11: Clustering and Recommendation Systems<center>\n",
    "### <center>11/30/2020</center>"
   ]
  },
  {
   "cell_type": "code",
   "execution_count": 1,
   "metadata": {
    "slideshow": {
     "slide_type": "skip"
    }
   },
   "outputs": [],
   "source": [
    "import numpy\n",
    "import numpy as np\n",
    "import pandas as pd\n",
    "import matplotlib.pyplot as plt\n",
    "import seaborn as sns\n",
    "\n",
    "from mlxtend.plotting import plot_decision_regions\n",
    "\n",
    "sns.set_style('darkgrid')\n",
    "%matplotlib inline"
   ]
  },
  {
   "cell_type": "markdown",
   "metadata": {
    "slideshow": {
     "slide_type": "slide"
    }
   },
   "source": [
    "# TODOs\n",
    "\n",
    "- Readings:\n",
    "  - PDSH: [Chap 3.11 Working with Time Series](https://jakevdp.github.io/PythonDataScienceHandbook/03.11-working-with-time-series.html)\n",
    "  - PDSH: [Chap 5.06 Example: Predicting Bicycle Traffic](https://jakevdp.github.io/PythonDataScienceHandbook/05.06-linear-regression.html#Example:-Predicting-Bicycle-Traffic)\n",
    "  - Recommended: DSFS: [Chap 9: Getting Data](https://ezproxy.cul.columbia.edu/login?qurl=https%3a%2f%2fsearch.ebscohost.com%2flogin.aspx%3fdirect%3dtrue%26db%3dnlebk%26AN%3d979529%26site%3dehost-live%26scope%3dsite%26ebv%3DEB%26ppid%3Dpp_103)\n",
    "  - Recommended: DSFS: [Chap 23: Databases and SQL](https://ezproxy.cul.columbia.edu/login?qurl=https%3a%2f%2fsearch.ebscohost.com%2flogin.aspx%3fdirect%3dtrue%26db%3dnlebk%26AN%3d979529%26site%3dehost-live%26scope%3dsite%26ebv%3DEB%26ppid%3Dpp_275)\n",
    "  - Optional: Python for Data Analysis: [Chap 11: Time Series](https://ezproxy.cul.columbia.edu/login?qurl=https%3a%2f%2fsearch.ebscohost.com%2flogin.aspx%3fdirect%3dtrue%26db%3dnlebk%26AN%3d1605925%26site%3dehost-live%26scope%3dsite&ebv=EB&ppid=pp_317)\n",
    "  - Optional: PML: [Chap 9: Embedding a Machine Learning Model into a Web Application](https://ezproxy.cul.columbia.edu/login?qurl=https%3a%2f%2fsearch.ebscohost.com%2flogin.aspx%3fdirect%3dtrue%26db%3de025xna%26AN%3d1606531%26site%3dehost-live%26scope%3dsite%26ebv%3DEB%26ppid%3Dpp_281)\n",
    "  \n",
    "<br>\n",
    "<br>\n",
    "\n",
    "- HW3, Due Friday Dec 4th 11:59pm\n",
    "<br>\n",
    "\n",
    "- Answer and submit Quiz 11, **Sunday Dec 6th, 11:59pm ET**"
   ]
  },
  {
   "cell_type": "markdown",
   "metadata": {
    "slideshow": {
     "slide_type": "slide"
    }
   },
   "source": [
    "# Today\n",
    "\n",
    "- **Aggregating with groupby**\n",
    "- **Clustering**\n",
    "- **Recommendation Systems**\n",
    "- **Time-Series Data?**"
   ]
  },
  {
   "cell_type": "markdown",
   "metadata": {
    "slideshow": {
     "slide_type": "slide"
    }
   },
   "source": [
    "<br>\n",
    "<br>\n",
    "\n",
    "# <center>Questions?</center>\n",
    "<br>\n",
    "<br>"
   ]
  },
  {
   "cell_type": "markdown",
   "metadata": {
    "slideshow": {
     "slide_type": "slide"
    }
   },
   "source": [
    "# Aggregations Over Groups: `groupby`"
   ]
  },
  {
   "cell_type": "code",
   "execution_count": 2,
   "metadata": {
    "slideshow": {
     "slide_type": "fragment"
    }
   },
   "outputs": [
    {
     "data": {
      "text/html": [
       "<div>\n",
       "<style scoped>\n",
       "    .dataframe tbody tr th:only-of-type {\n",
       "        vertical-align: middle;\n",
       "    }\n",
       "\n",
       "    .dataframe tbody tr th {\n",
       "        vertical-align: top;\n",
       "    }\n",
       "\n",
       "    .dataframe thead th {\n",
       "        text-align: right;\n",
       "    }\n",
       "</style>\n",
       "<table border=\"1\" class=\"dataframe\">\n",
       "  <thead>\n",
       "    <tr style=\"text-align: right;\">\n",
       "      <th></th>\n",
       "      <th>pickup_datetime</th>\n",
       "      <th>dropoff_datetime</th>\n",
       "      <th>trip_distance</th>\n",
       "      <th>fare_amount</th>\n",
       "      <th>tip_amount</th>\n",
       "      <th>payment_type</th>\n",
       "    </tr>\n",
       "  </thead>\n",
       "  <tbody>\n",
       "    <tr>\n",
       "      <th>0</th>\n",
       "      <td>2017-01-05 14:49:04</td>\n",
       "      <td>2017-01-05 14:53:53</td>\n",
       "      <td>0.89</td>\n",
       "      <td>5.5</td>\n",
       "      <td>1.26</td>\n",
       "      <td>Credit card</td>\n",
       "    </tr>\n",
       "    <tr>\n",
       "      <th>1</th>\n",
       "      <td>2017-01-15 01:07:22</td>\n",
       "      <td>2017-01-15 01:26:47</td>\n",
       "      <td>2.70</td>\n",
       "      <td>14.0</td>\n",
       "      <td>0.00</td>\n",
       "      <td>Cash</td>\n",
       "    </tr>\n",
       "  </tbody>\n",
       "</table>\n",
       "</div>"
      ],
      "text/plain": [
       "      pickup_datetime    dropoff_datetime  trip_distance  fare_amount  \\\n",
       "0 2017-01-05 14:49:04 2017-01-05 14:53:53           0.89          5.5   \n",
       "1 2017-01-15 01:07:22 2017-01-15 01:26:47           2.70         14.0   \n",
       "\n",
       "   tip_amount payment_type  \n",
       "0        1.26  Credit card  \n",
       "1        0.00         Cash  "
      ]
     },
     "execution_count": 2,
     "metadata": {},
     "output_type": "execute_result"
    }
   ],
   "source": [
    "# Example data with a categorical feature\n",
    "df = pd.read_csv('../data/yellowcab_demo.csv',parse_dates=['pickup_datetime','dropoff_datetime'])\n",
    "df.head(2)"
   ]
  },
  {
   "cell_type": "code",
   "execution_count": 3,
   "metadata": {
    "slideshow": {
     "slide_type": "fragment"
    }
   },
   "outputs": [
    {
     "data": {
      "text/plain": [
       "2.8800100000000004"
      ]
     },
     "execution_count": 3,
     "metadata": {},
     "output_type": "execute_result"
    }
   ],
   "source": [
    "# We looked at taking aggregations over all rows or subsets of rows\n",
    "df.trip_distance.mean()"
   ]
  },
  {
   "cell_type": "code",
   "execution_count": 4,
   "metadata": {
    "slideshow": {
     "slide_type": "fragment"
    }
   },
   "outputs": [
    {
     "data": {
      "text/plain": [
       "Credit card    663\n",
       "Cash           335\n",
       "No charge        2\n",
       "Name: payment_type, dtype: int64"
      ]
     },
     "execution_count": 4,
     "metadata": {},
     "output_type": "execute_result"
    }
   ],
   "source": [
    "# This dataset contains a categorical feature\n",
    "df.payment_type.value_counts()"
   ]
  },
  {
   "cell_type": "markdown",
   "metadata": {
    "slideshow": {
     "slide_type": "slide"
    }
   },
   "source": [
    "# Aggregations Over Groups: `groupby`"
   ]
  },
  {
   "cell_type": "code",
   "execution_count": 5,
   "metadata": {
    "slideshow": {
     "slide_type": "fragment"
    }
   },
   "outputs": [
    {
     "data": {
      "text/html": [
       "<div>\n",
       "<style scoped>\n",
       "    .dataframe tbody tr th:only-of-type {\n",
       "        vertical-align: middle;\n",
       "    }\n",
       "\n",
       "    .dataframe tbody tr th {\n",
       "        vertical-align: top;\n",
       "    }\n",
       "\n",
       "    .dataframe thead th {\n",
       "        text-align: right;\n",
       "    }\n",
       "</style>\n",
       "<table border=\"1\" class=\"dataframe\">\n",
       "  <thead>\n",
       "    <tr style=\"text-align: right;\">\n",
       "      <th></th>\n",
       "      <th>trip_distance</th>\n",
       "      <th>fare_amount</th>\n",
       "      <th>tip_amount</th>\n",
       "    </tr>\n",
       "    <tr>\n",
       "      <th>payment_type</th>\n",
       "      <th></th>\n",
       "      <th></th>\n",
       "      <th></th>\n",
       "    </tr>\n",
       "  </thead>\n",
       "  <tbody>\n",
       "    <tr>\n",
       "      <th>Cash</th>\n",
       "      <td>2.732209</td>\n",
       "      <td>11.856716</td>\n",
       "      <td>0.000000</td>\n",
       "    </tr>\n",
       "    <tr>\n",
       "      <th>Credit card</th>\n",
       "      <td>2.961870</td>\n",
       "      <td>12.761086</td>\n",
       "      <td>2.683322</td>\n",
       "    </tr>\n",
       "    <tr>\n",
       "      <th>No charge</th>\n",
       "      <td>0.500000</td>\n",
       "      <td>5.000000</td>\n",
       "      <td>0.000000</td>\n",
       "    </tr>\n",
       "  </tbody>\n",
       "</table>\n",
       "</div>"
      ],
      "text/plain": [
       "              trip_distance  fare_amount  tip_amount\n",
       "payment_type                                        \n",
       "Cash               2.732209    11.856716    0.000000\n",
       "Credit card        2.961870    12.761086    2.683322\n",
       "No charge          0.500000     5.000000    0.000000"
      ]
     },
     "execution_count": 5,
     "metadata": {},
     "output_type": "execute_result"
    }
   ],
   "source": [
    "# How can we take a mean per category?\n",
    "df.groupby('payment_type').mean()"
   ]
  },
  {
   "cell_type": "code",
   "execution_count": 6,
   "metadata": {
    "slideshow": {
     "slide_type": "fragment"
    }
   },
   "outputs": [
    {
     "data": {
      "text/plain": [
       "payment_type\n",
       "Cash           2.732209\n",
       "Credit card    2.961870\n",
       "No charge      0.500000\n",
       "Name: trip_distance, dtype: float64"
      ]
     },
     "execution_count": 6,
     "metadata": {},
     "output_type": "execute_result"
    }
   ],
   "source": [
    "# Specifying a single column for the aggregation\n",
    "df.groupby('payment_type')['trip_distance'].mean()"
   ]
  },
  {
   "cell_type": "markdown",
   "metadata": {
    "slideshow": {
     "slide_type": "slide"
    }
   },
   "source": [
    "# Aggregations Over Groups: `groupby`"
   ]
  },
  {
   "cell_type": "code",
   "execution_count": 7,
   "metadata": {
    "slideshow": {
     "slide_type": "fragment"
    }
   },
   "outputs": [
    {
     "data": {
      "text/html": [
       "<div>\n",
       "<style scoped>\n",
       "    .dataframe tbody tr th:only-of-type {\n",
       "        vertical-align: middle;\n",
       "    }\n",
       "\n",
       "    .dataframe tbody tr th {\n",
       "        vertical-align: top;\n",
       "    }\n",
       "\n",
       "    .dataframe thead tr th {\n",
       "        text-align: left;\n",
       "    }\n",
       "\n",
       "    .dataframe thead tr:last-of-type th {\n",
       "        text-align: right;\n",
       "    }\n",
       "</style>\n",
       "<table border=\"1\" class=\"dataframe\">\n",
       "  <thead>\n",
       "    <tr>\n",
       "      <th></th>\n",
       "      <th></th>\n",
       "      <th colspan=\"2\" halign=\"left\">trip_distance</th>\n",
       "      <th colspan=\"2\" halign=\"left\">fare_amount</th>\n",
       "    </tr>\n",
       "    <tr>\n",
       "      <th></th>\n",
       "      <th></th>\n",
       "      <th>mean</th>\n",
       "      <th>std</th>\n",
       "      <th>mean</th>\n",
       "      <th>std</th>\n",
       "    </tr>\n",
       "    <tr>\n",
       "      <th>tip_given</th>\n",
       "      <th>payment_type</th>\n",
       "      <th></th>\n",
       "      <th></th>\n",
       "      <th></th>\n",
       "      <th></th>\n",
       "    </tr>\n",
       "  </thead>\n",
       "  <tbody>\n",
       "    <tr>\n",
       "      <th rowspan=\"3\" valign=\"top\">False</th>\n",
       "      <th>Cash</th>\n",
       "      <td>2.732209</td>\n",
       "      <td>4.123076</td>\n",
       "      <td>11.856716</td>\n",
       "      <td>11.634738</td>\n",
       "    </tr>\n",
       "    <tr>\n",
       "      <th>Credit card</th>\n",
       "      <td>2.601519</td>\n",
       "      <td>3.285537</td>\n",
       "      <td>12.341772</td>\n",
       "      <td>11.325189</td>\n",
       "    </tr>\n",
       "    <tr>\n",
       "      <th>No charge</th>\n",
       "      <td>0.500000</td>\n",
       "      <td>0.707107</td>\n",
       "      <td>5.000000</td>\n",
       "      <td>3.535534</td>\n",
       "    </tr>\n",
       "    <tr>\n",
       "      <th>True</th>\n",
       "      <th>Credit card</th>\n",
       "      <td>3.010616</td>\n",
       "      <td>3.455906</td>\n",
       "      <td>12.817808</td>\n",
       "      <td>10.241810</td>\n",
       "    </tr>\n",
       "  </tbody>\n",
       "</table>\n",
       "</div>"
      ],
      "text/plain": [
       "                       trip_distance           fare_amount           \n",
       "                                mean       std        mean        std\n",
       "tip_given payment_type                                               \n",
       "False     Cash              2.732209  4.123076   11.856716  11.634738\n",
       "          Credit card       2.601519  3.285537   12.341772  11.325189\n",
       "          No charge         0.500000  0.707107    5.000000   3.535534\n",
       "True      Credit card       3.010616  3.455906   12.817808  10.241810"
      ]
     },
     "execution_count": 7,
     "metadata": {},
     "output_type": "execute_result"
    }
   ],
   "source": [
    "# Specifying multiple grouping columns, aggregation columns, and aggregations\n",
    "df['tip_given'] = df.tip_amount > 0\n",
    "df.groupby(['tip_given','payment_type'])[['trip_distance','fare_amount']].agg(['mean','std'])"
   ]
  },
  {
   "cell_type": "markdown",
   "metadata": {
    "slideshow": {
     "slide_type": "slide"
    }
   },
   "source": [
    "<br>\n",
    "<br>\n",
    "\n",
    "# <center>Questions?</center>\n",
    "<br>\n",
    "<br>"
   ]
  },
  {
   "cell_type": "markdown",
   "metadata": {
    "slideshow": {
     "slide_type": "slide"
    }
   },
   "source": [
    "# Clustering\n",
    "<br>\n",
    "\n",
    "- Can we group our data based on the features alone?\n",
    "- **Unsupervised:** There is no label/target\n",
    "- Use similarity to group $X$ into $k$ clusters\n",
    "<br>\n",
    "\n",
    "- Many methods:\n",
    "  - **k-Means**\n",
    "  - **Heirarchical Agglomerative Clustering**\n",
    "  - Spectral Clustering\n",
    "  - DBScan\n",
    "  - ..."
   ]
  },
  {
   "cell_type": "markdown",
   "metadata": {
    "slideshow": {
     "slide_type": "slide"
    }
   },
   "source": [
    "# Why do Clustering?\n",
    "<br>\n",
    "\n",
    "- Exploratory data analysis\n",
    "- Group media: images, music, news articles,...\n",
    "- Group people: social network\n",
    "- Science applications: gene families, psychological groups,...\n",
    "- Image segmentation: group pixels, regions, ...\n",
    "- ..."
   ]
  },
  {
   "cell_type": "markdown",
   "metadata": {
    "slideshow": {
     "slide_type": "slide"
    }
   },
   "source": [
    "# Clustering: K-Means\n",
    "<br>\n",
    "\n",
    "- Not to be confused with k-NN!\n",
    "- Idea:\n",
    "  - Finds $k$ points in space as cluster centers (means)\n",
    "  - Assigns datapoints to their closest cluster mean\n",
    "- Need to specify the number of clusters $k$ up front\n",
    "- sklearn uses euclidean distance to judge similarity"
   ]
  },
  {
   "cell_type": "markdown",
   "metadata": {
    "slideshow": {
     "slide_type": "notes"
    }
   },
   "source": [
    "# $k$-Means: How it works\n",
    "\n",
    "```\n",
    "FIRST: choose initial k points (means)\n",
    "\n",
    "A: fix means -> assign all datapoints to their closest mean\n",
    "\n",
    "B: fix cluster assignments -> recalculate means\n",
    "\n",
    "RETURN TO A and Repeat until convergence!\n",
    "```"
   ]
  },
  {
   "cell_type": "markdown",
   "metadata": {
    "slideshow": {
     "slide_type": "slide"
    }
   },
   "source": [
    "# Load Example Data"
   ]
  },
  {
   "cell_type": "code",
   "execution_count": 8,
   "metadata": {
    "slideshow": {
     "slide_type": "fragment"
    }
   },
   "outputs": [
    {
     "data": {
      "image/png": "[encoded data removed]",
      "text/plain": [
       "<Figure size 432x432 with 1 Axes>"
      ]
     },
     "metadata": {
      "needs_background": "light"
     },
     "output_type": "display_data"
    }
   ],
   "source": [
    "# loading and plotting the data\n",
    "data = pd.read_csv('../data/loan200.csv')[['payment_inc_ratio','dti']]\n",
    "from sklearn.preprocessing import StandardScaler\n",
    "X = pd.DataFrame(StandardScaler().fit_transform(data),columns=data.columns)\n",
    "fig,ax = plt.subplots(1,1,figsize=(6,6))\n",
    "sns.scatterplot(x='payment_inc_ratio',y='dti',data=X,s=100);"
   ]
  },
  {
   "cell_type": "markdown",
   "metadata": {
    "slideshow": {
     "slide_type": "slide"
    }
   },
   "source": [
    "# KMeans in sklearn"
   ]
  },
  {
   "cell_type": "code",
   "execution_count": 9,
   "metadata": {
    "slideshow": {
     "slide_type": "fragment"
    }
   },
   "outputs": [],
   "source": [
    "from sklearn.cluster import KMeans\n",
    "\n",
    "km = KMeans(n_clusters=4, init='random') # default init=k-means++\n",
    "\n",
    "c = km.fit_predict(X)"
   ]
  },
  {
   "cell_type": "code",
   "execution_count": 10,
   "metadata": {
    "slideshow": {
     "slide_type": "fragment"
    }
   },
   "outputs": [
    {
     "data": {
      "text/plain": [
       "array([1, 2, 0, 3, 0, 0, 2, 3, 1, 1], dtype=int32)"
      ]
     },
     "execution_count": 10,
     "metadata": {},
     "output_type": "execute_result"
    }
   ],
   "source": [
    "# cluster assignments of first 10 datapoints\n",
    "c[:10]"
   ]
  },
  {
   "cell_type": "code",
   "execution_count": 11,
   "metadata": {
    "slideshow": {
     "slide_type": "fragment"
    }
   },
   "outputs": [
    {
     "data": {
      "text/plain": [
       "array([[-0.7733316 , -1.06665358],\n",
       "       [ 0.98465708,  1.14651055],\n",
       "       [-0.66442402,  0.50100968],\n",
       "       [ 0.9623438 , -0.57562969]])"
      ]
     },
     "execution_count": 11,
     "metadata": {},
     "output_type": "execute_result"
    }
   ],
   "source": [
    "# cluster centers\n",
    "km.cluster_centers_"
   ]
  },
  {
   "cell_type": "markdown",
   "metadata": {
    "slideshow": {
     "slide_type": "slide"
    }
   },
   "source": [
    "# Plotting clusters and centers"
   ]
  },
  {
   "cell_type": "code",
   "execution_count": 12,
   "metadata": {
    "slideshow": {
     "slide_type": "fragment"
    }
   },
   "outputs": [
    {
     "data": {
      "image/png": "[encoded data removed]",
      "text/plain": [
       "<Figure size 432x432 with 1 Axes>"
      ]
     },
     "metadata": {
      "needs_background": "light"
     },
     "output_type": "display_data"
    }
   ],
   "source": [
    "# plot data colored by cluster assignment\n",
    "def plot_clusters(X,c,km=None,title=None,ax=None):\n",
    "    if not ax:\n",
    "        fig,ax = plt.subplots(1,1,figsize=(6,6))\n",
    "    for i in range(np.max(c)+1):\n",
    "        X_cluster = X[c == i]\n",
    "        sns.scatterplot(x=X_cluster.iloc[:,0],y=X_cluster.iloc[:,1],s=100,ax=ax);\n",
    "    # plot cluster centers\n",
    "    if km:\n",
    "        for m in km.cluster_centers_: \n",
    "            ax.plot(m[0],m[1], marker='x',c='k', ms=20, mew=5)\n",
    "    if title:\n",
    "        ax.set_title(title)\n",
    "        \n",
    "plot_clusters(X,c,km,title=\"KMeans Assignments\")"
   ]
  },
  {
   "cell_type": "markdown",
   "metadata": {
    "slideshow": {
     "slide_type": "slide"
    }
   },
   "source": [
    "# Plotting clusters and centers"
   ]
  },
  {
   "cell_type": "code",
   "execution_count": 13,
   "metadata": {
    "slideshow": {
     "slide_type": "fragment"
    }
   },
   "outputs": [
    {
     "data": {
      "image/png": "[encoded data removed]",
      "text/plain": [
       "<Figure size 432x432 with 1 Axes>"
      ]
     },
     "metadata": {
      "needs_background": "light"
     },
     "output_type": "display_data"
    }
   ],
   "source": [
    "fig,ax = plt.subplots(1,1,figsize=(6,6))\n",
    "plot_decision_regions(X.values,km.predict(X),km,ax=ax,legend=None);\n",
    "for m in km.cluster_centers_: \n",
    "            ax.plot(m[0],m[1], marker='x',c='k', ms=20, mew=5);"
   ]
  },
  {
   "cell_type": "markdown",
   "metadata": {
    "slideshow": {
     "slide_type": "slide"
    }
   },
   "source": [
    "# K-Means: How good are the clusters?\n",
    "\n",
    "- **Within Cluster Sum of Squared Error**\n",
    "- How close is every point to it's assigned cluster center?\n",
    "<br>\n",
    "    $SSE = \\Large \\sum_{k=1}^{K} \\sum_{x_i\\in C_k} \\mid\\mid x_i-\\mu_k\\mid\\mid_2^2$\n",
    "<br>\n",
    "\n",
    "    where $\\mid\\mid x - \\mu \\mid\\mid_2 = \\sqrt{\\sum_{j=1}^d (x_j - \\mu_j)^2}$\n",
    "<br>\n",
    "\n",
    "- If this is high, items in cluster are far from their means.\n",
    "- If this is low, items in cluster are close to their means.\n",
    "<br>\n",
    "\n",
    "- animated visualization on next slide using Voronoi diagram"
   ]
  },
  {
   "cell_type": "markdown",
   "metadata": {
    "slideshow": {
     "slide_type": "slide"
    }
   },
   "source": [
    "# KMeans in Action"
   ]
  },
  {
   "cell_type": "code",
   "execution_count": 14,
   "metadata": {
    "scrolled": true,
    "slideshow": {
     "slide_type": "fragment"
    }
   },
   "outputs": [
    {
     "data": {
      "application/vnd.jupyter.widget-view+json": {
       "model_id": "03eb7eed859b46ae899cf81624fc48da",
       "version_major": 2,
       "version_minor": 0
      },
      "text/plain": [
       "Video(value=b'\\x00\\x00\\x00 ftypisom\\x00\\x00\\x02\\x00isomiso2avc1mp41\\x00\\x00\\x00\\x08free\\x00\\x048\\xd6mdat\\x00\\x…"
      ]
     },
     "metadata": {},
     "output_type": "display_data"
    }
   ],
   "source": [
    "import ipywidgets as widgets\n",
    "kmeans_video = widgets.Video.from_file('images/kmeans.mp4', width=750, autoplay=False, controls=True)\n",
    "kmeans_video"
   ]
  },
  {
   "cell_type": "markdown",
   "metadata": {
    "slideshow": {
     "slide_type": "fragment"
    }
   },
   "source": [
    "From [https://dashee87.github.io/data%20science/general/Clustering-with-Scikit-with-GIFs/](https://dashee87.github.io/data%20science/general/Clustering-with-Scikit-with-GIFs/)"
   ]
  },
  {
   "cell_type": "markdown",
   "metadata": {
    "slideshow": {
     "slide_type": "slide"
    }
   },
   "source": [
    "# Things you need to define for KMeans\n",
    "\n",
    "- number of clusters $k$ or `n_clusters`\n",
    "- initial locations of means\n",
    "  - random\n",
    "  - k-means++ (pick starting points far apart from each other)"
   ]
  },
  {
   "cell_type": "markdown",
   "metadata": {
    "slideshow": {
     "slide_type": "slide"
    }
   },
   "source": [
    "# How to choose $k$, n_clusters?\n",
    "<br>\n",
    "\n",
    "- One way: use elbow in sum of squared errors (SSE)\n",
    "- Stored in KMeans as `.inertia_`"
   ]
  },
  {
   "cell_type": "code",
   "execution_count": 15,
   "metadata": {
    "slideshow": {
     "slide_type": "fragment"
    }
   },
   "outputs": [
    {
     "data": {
      "image/png": "[encoded data removed]",
      "text/plain": [
       "<Figure size 432x288 with 1 Axes>"
      ]
     },
     "metadata": {
      "needs_background": "light"
     },
     "output_type": "display_data"
    }
   ],
   "source": [
    "sse = []\n",
    "for i in range(1,10):\n",
    "    sse.append(KMeans(n_clusters=i).fit(X).inertia_)\n",
    "\n",
    "fig,ax=plt.subplots(1,1,figsize=(6,4))\n",
    "ax.plot(range(1,10),sse,marker='x'); \n",
    "ax.set_xlabel('k');\n",
    "ax.set_ylabel('sse');"
   ]
  },
  {
   "cell_type": "markdown",
   "metadata": {
    "slideshow": {
     "slide_type": "fragment"
    }
   },
   "source": [
    "- Question: What value $k$ will minimize SSE?"
   ]
  },
  {
   "cell_type": "markdown",
   "metadata": {
    "slideshow": {
     "slide_type": "slide"
    }
   },
   "source": [
    "## KMeans: Another Example"
   ]
  },
  {
   "cell_type": "code",
   "execution_count": 16,
   "metadata": {
    "slideshow": {
     "slide_type": "fragment"
    }
   },
   "outputs": [
    {
     "data": {
      "image/png": "[encoded data removed]",
      "text/plain": [
       "<Figure size 864x288 with 3 Axes>"
      ]
     },
     "metadata": {
      "needs_background": "light"
     },
     "output_type": "display_data"
    }
   ],
   "source": [
    "from sklearn.datasets import make_blobs\n",
    "X_blobs,y_blobs = make_blobs(random_state=1)\n",
    "\n",
    "fig,ax = plt.subplots(1,3,figsize=(12,4))\n",
    "sns.scatterplot(x=X_blobs[:,0],y=X_blobs[:,1],ax=ax[0]); \n",
    "ax[0].set_title('original data');\n",
    "\n",
    "sse = [KMeans(n_clusters=i).fit(X_blobs).inertia_ for i in range(1,10)]\n",
    "ax[1].plot(range(1,10),sse,marker='x');\n",
    "ax[1].set_title('KMeans SSE')\n",
    "\n",
    "km_blobs = KMeans(n_clusters=3, random_state=1)\n",
    "c_blobs = km_blobs.fit_predict(X_blobs)\n",
    "sns.scatterplot(x=X_blobs[:,0],y=X_blobs[:,1],hue=c_blobs,ax=ax[2],legend=False);\n",
    "ax[2].set_title('KMeans');\n",
    "for c in km_blobs.cluster_centers_:\n",
    "    ax[2].plot(c[0],c[1],marker='x',c='k', ms=15, mew=5)"
   ]
  },
  {
   "cell_type": "markdown",
   "metadata": {
    "slideshow": {
     "slide_type": "slide"
    }
   },
   "source": [
    "# Hierarchical Agglomerative Clustering (HAC)\n",
    "<br>\n",
    "\n",
    "- group clusters together from the bottom up\n",
    "- don't have to specify number of clusters up front\n",
    "- generates binary tree over data"
   ]
  },
  {
   "cell_type": "markdown",
   "metadata": {
    "slideshow": {
     "slide_type": "slide"
    }
   },
   "source": [
    "# HAC: How it works\n",
    "<br>\n",
    "\n",
    "```\n",
    "FIRST: every point is it's own cluster\n",
    "\n",
    "A: Find pair of clusters that are \"closest\"\n",
    "\n",
    "B: Merge into single cluster\n",
    "\n",
    "GOTO A and Repeat till there is a single cluster\n",
    "```"
   ]
  },
  {
   "cell_type": "markdown",
   "metadata": {
    "slideshow": {
     "slide_type": "slide"
    }
   },
   "source": [
    "# HAC in Action"
   ]
  },
  {
   "cell_type": "code",
   "execution_count": 17,
   "metadata": {
    "slideshow": {
     "slide_type": "fragment"
    }
   },
   "outputs": [
    {
     "data": {
      "application/vnd.jupyter.widget-view+json": {
       "model_id": "d4a40fd9970e4aa6bb13e034eced56f4",
       "version_major": 2,
       "version_minor": 0
      },
      "text/plain": [
       "Video(value=b'\\x00\\x00\\x00 ftypisom\\x00\\x00\\x02\\x00isomiso2avc1mp41\\x00\\x00\\x00\\x08free\\x00\\x00\\x811mdat\\x00\\x…"
      ]
     },
     "metadata": {},
     "output_type": "display_data"
    }
   ],
   "source": [
    "import ipywidgets as widgets\n",
    "hac_video = widgets.Video.from_file('images/hac.mp4', width=750, autoplay=False, controls=True)\n",
    "hac_video"
   ]
  },
  {
   "cell_type": "markdown",
   "metadata": {
    "slideshow": {
     "slide_type": "fragment"
    }
   },
   "source": [
    "From [https://dashee87.github.io/data%20science/general/Clustering-with-Scikit-with-GIFs/](https://dashee87.github.io/data%20science/general/Clustering-with-Scikit-with-GIFs/)"
   ]
  },
  {
   "cell_type": "markdown",
   "metadata": {
    "slideshow": {
     "slide_type": "slide"
    }
   },
   "source": [
    "# What is \"close\"?\n",
    "\n",
    "- Need to define what we mean by \"closeness\" by choosing\n",
    "  - distance metric (how to measure distance)\n",
    "  - linkage criteria (how to compare clusters)"
   ]
  },
  {
   "cell_type": "markdown",
   "metadata": {
    "slideshow": {
     "slide_type": "slide"
    }
   },
   "source": [
    "# Need to define: Distance Metric\n",
    "<br>\n",
    "\n",
    "- **Euclidean** : $\\sqrt{\\sum_{i=1}^n \\left(a_i-b_i\\right)^2}$\n",
    "  - easy to use analyitically, sensitive to outliers\n",
    "<br>\n",
    "<br>\n",
    "\n",
    "- **Manhattan** : $\\sum_{i=1}^n \\mid a_i - b_i \\mid$\n",
    "  - more difficult to use analytically, robust to outliers\n",
    "<br>\n",
    "<br>\n",
    "\n",
    "- **Cosine** : $1 - \\frac{\\sum{a_i b_i}}{\\| a_i \\|_2 \\| b_i \\|_2}$ \n",
    "  - angle between vectors while ignoring their scale\n",
    "<br>\n",
    "<br>\n",
    "\n",
    "- many more (see [https://numerics.mathdotnet.com/Distance.html](https://numerics.mathdotnet.com/Distance.html)"
   ]
  },
  {
   "cell_type": "markdown",
   "metadata": {
    "slideshow": {
     "slide_type": "slide"
    }
   },
   "source": [
    "# Need to define: **Linkage**\n",
    "<br>\n",
    "\n",
    "<div align=\"center\"><img src=\"images/hac_linkage.png\" width=\"600px\"></div>\n",
    "\n",
    "**single** : shortest distance from item of one cluster to item of the other\n",
    "\n",
    "**complete** : greatest distance from item of one cluster to item of the other\n",
    "<br>\n",
    "<br>\n",
    "\n",
    "**average** : average distance of items in one cluster to items in the other\n",
    "\n",
    "**ward** : minimize variance of clusters being merged (only euclidean metric)"
   ]
  },
  {
   "cell_type": "markdown",
   "metadata": {
    "slideshow": {
     "slide_type": "slide"
    }
   },
   "source": [
    "# HAC and Dendrograms: Single Linkage\n"
   ]
  },
  {
   "cell_type": "code",
   "execution_count": 18,
   "metadata": {
    "slideshow": {
     "slide_type": "fragment"
    }
   },
   "outputs": [
    {
     "data": {
      "image/png": "[encoded data removed]",
      "text/plain": [
       "<Figure size 864x576 with 1 Axes>"
      ]
     },
     "metadata": {
      "needs_background": "light"
     },
     "output_type": "display_data"
    }
   ],
   "source": [
    "# nice helper function for creating a dendrogram\n",
    "from scipy.cluster import hierarchy\n",
    "\n",
    "Z = hierarchy.linkage(X,'single')\n",
    "fig = plt.figure(figsize=(12,8)); hierarchy.dendrogram(Z);"
   ]
  },
  {
   "cell_type": "markdown",
   "metadata": {
    "slideshow": {
     "slide_type": "slide"
    }
   },
   "source": [
    "# HAC and Dendrograms: Complete Linkage\n"
   ]
  },
  {
   "cell_type": "code",
   "execution_count": 19,
   "metadata": {
    "slideshow": {
     "slide_type": "fragment"
    }
   },
   "outputs": [
    {
     "data": {
      "image/png": "[encoded data removed]",
      "text/plain": [
       "<Figure size 864x576 with 1 Axes>"
      ]
     },
     "metadata": {
      "needs_background": "light"
     },
     "output_type": "display_data"
    }
   ],
   "source": [
    "Z = hierarchy.linkage(X,'complete')\n",
    "fig = plt.figure(figsize=(12,8)); hierarchy.dendrogram(Z);"
   ]
  },
  {
   "cell_type": "markdown",
   "metadata": {
    "slideshow": {
     "slide_type": "slide"
    }
   },
   "source": [
    "# HAC and Dendrograms: Average Linkage"
   ]
  },
  {
   "cell_type": "code",
   "execution_count": 20,
   "metadata": {
    "slideshow": {
     "slide_type": "fragment"
    }
   },
   "outputs": [
    {
     "data": {
      "image/png": "[encoded data removed]",
      "text/plain": [
       "<Figure size 864x576 with 1 Axes>"
      ]
     },
     "metadata": {
      "needs_background": "light"
     },
     "output_type": "display_data"
    }
   ],
   "source": [
    "Z = hierarchy.linkage(X,'average')\n",
    "fig = plt.figure(figsize=(12,8)); hierarchy.dendrogram(Z);"
   ]
  },
  {
   "cell_type": "markdown",
   "metadata": {
    "slideshow": {
     "slide_type": "slide"
    }
   },
   "source": [
    "# HAC and Dendrograms: Ward Linkage"
   ]
  },
  {
   "cell_type": "code",
   "execution_count": 21,
   "metadata": {
    "slideshow": {
     "slide_type": "fragment"
    }
   },
   "outputs": [
    {
     "data": {
      "image/png": "[encoded data removed]",
      "text/plain": [
       "<Figure size 864x576 with 1 Axes>"
      ]
     },
     "metadata": {
      "needs_background": "light"
     },
     "output_type": "display_data"
    }
   ],
   "source": [
    "Z = hierarchy.linkage(X,'ward')\n",
    "fig = plt.figure(figsize=(12,8)); hierarchy.dendrogram(Z);"
   ]
  },
  {
   "cell_type": "markdown",
   "metadata": {
    "slideshow": {
     "slide_type": "slide"
    }
   },
   "source": [
    "# HAC in sklearn"
   ]
  },
  {
   "cell_type": "code",
   "execution_count": 22,
   "metadata": {
    "slideshow": {
     "slide_type": "fragment"
    }
   },
   "outputs": [],
   "source": [
    "from sklearn.cluster import AgglomerativeClustering\n",
    "\n",
    "hac = AgglomerativeClustering(linkage='single',\n",
    "                              affinity='euclidean',\n",
    "                              n_clusters=4)\n",
    "c_single = hac.fit_predict(X)\n",
    "\n",
    "# generate models and assignments for all linkages\n",
    "models,assignments = [],[]\n",
    "linkages = ['single','average','complete','ward']\n",
    "for linkage in linkages:\n",
    "    models.append(AgglomerativeClustering(linkage=linkage,affinity='euclidean',n_clusters=4))\n",
    "    assignments.append(models[-1].fit_predict(X))\n",
    "    \n",
    "# plot on the next slide"
   ]
  },
  {
   "cell_type": "markdown",
   "metadata": {
    "slideshow": {
     "slide_type": "slide"
    }
   },
   "source": [
    "# HAC in sklearn"
   ]
  },
  {
   "cell_type": "code",
   "execution_count": 23,
   "metadata": {
    "slideshow": {
     "slide_type": "fragment"
    }
   },
   "outputs": [
    {
     "data": {
      "image/png": "[encoded data removed]",
      "text/plain": [
       "<Figure size 864x864 with 4 Axes>"
      ]
     },
     "metadata": {
      "needs_background": "light"
     },
     "output_type": "display_data"
    }
   ],
   "source": [
    "fig,ax = plt.subplots(2,2,figsize=(12,12))\n",
    "axs = [ax[0][0],ax[0][1],ax[1][0],ax[1][1]]\n",
    "for i in range(len(linkage)):\n",
    "    plot_clusters(X,assignments[i],title=linkages[i],ax=axs[i])"
   ]
  },
  {
   "cell_type": "markdown",
   "metadata": {
    "slideshow": {
     "slide_type": "slide"
    }
   },
   "source": [
    "# HAC: Another Example"
   ]
  },
  {
   "cell_type": "code",
   "execution_count": 24,
   "metadata": {
    "slideshow": {
     "slide_type": "fragment"
    }
   },
   "outputs": [
    {
     "data": {
      "image/png": "[encoded data removed]",
      "text/plain": [
       "<Figure size 864x576 with 4 Axes>"
      ]
     },
     "metadata": {
      "needs_background": "light"
     },
     "output_type": "display_data"
    }
   ],
   "source": [
    "models,assignments = [],[]\n",
    "linkages = ['single','average','complete','ward']\n",
    "for linkage in linkages:\n",
    "    models.append(AgglomerativeClustering(linkage=linkage,affinity='euclidean',n_clusters=3))\n",
    "    assignments.append(models[-1].fit_predict(X_blobs))\n",
    "    \n",
    "fig,ax = plt.subplots(2,2,figsize=(12,8))\n",
    "axs = [ax[0][0],ax[0][1],ax[1][0],ax[1][1]]\n",
    "for i in range(len(linkage)):\n",
    "    plot_clusters(pd.DataFrame(X_blobs),assignments[i],title=linkages[i],ax=axs[i])"
   ]
  },
  {
   "cell_type": "markdown",
   "metadata": {
    "slideshow": {
     "slide_type": "slide"
    }
   },
   "source": [
    "# Clustering: Many Other Methods\n",
    "<br>\n",
    "\n",
    "<div align=\"center\"><img src=\"images/sklearn_clustering_methods.png\" width=\"1000px\"></div>\n",
    "\n",
    "From [https://scikit-learn.org/stable/modules/clustering.html](https://scikit-learn.org/stable/modules/clustering.html_)"
   ]
  },
  {
   "cell_type": "markdown",
   "metadata": {
    "slideshow": {
     "slide_type": "slide"
    }
   },
   "source": [
    "# How to evaluate clustering?\n",
    "<br>\n",
    "\n",
    "- Inertia in k-means (weighted sse)\n",
    "- If we have labels\n",
    "  - How \"pure\" are the clusters? Homogeneity\n",
    "  - Mutual Information\n",
    "- Silhouette plots (see PML)\n",
    "- many others (see sklearn)"
   ]
  },
  {
   "cell_type": "markdown",
   "metadata": {
    "slideshow": {
     "slide_type": "slide"
    }
   },
   "source": [
    "# Clustering Review\n",
    "\n",
    "- k-Means\n",
    "- Heirarchical Agglomerative Clustering\n",
    "  - linkages\n",
    "  - distance metrics\n",
    "- Evaluating"
   ]
  },
  {
   "cell_type": "markdown",
   "metadata": {
    "slideshow": {
     "slide_type": "slide"
    }
   },
   "source": [
    "<br>\n",
    "<br>\n",
    "\n",
    "# <center>Questions?</center>\n",
    "<br>\n",
    "<br>"
   ]
  },
  {
   "cell_type": "markdown",
   "metadata": {
    "slideshow": {
     "slide_type": "slide"
    }
   },
   "source": [
    "# Recommendation Engines\n",
    "<br>\n",
    "\n",
    "- Given a user and a set of items to recommend (or rank):\n",
    "<br>\n",
    "  \n",
    "  - Recommend things **similar to the things I've liked**\n",
    "    - Content-Based Filtering\n",
    "  <br>\n",
    "  <br>\n",
    "  \n",
    "  - Recommend things **that people with similar tastes have liked**\n",
    "    - Collaborative Filtering \n",
    "  <br>\n",
    "  <br>\n",
    "  \n",
    "  - Hybrid/Ensemble\n"
   ]
  },
  {
   "cell_type": "markdown",
   "metadata": {
    "slideshow": {
     "slide_type": "slide"
    }
   },
   "source": [
    "# Example: Housing Data"
   ]
  },
  {
   "cell_type": "code",
   "execution_count": 25,
   "metadata": {
    "slideshow": {
     "slide_type": "fragment"
    }
   },
   "outputs": [
    {
     "data": {
      "text/html": [
       "<div>\n",
       "<style scoped>\n",
       "    .dataframe tbody tr th:only-of-type {\n",
       "        vertical-align: middle;\n",
       "    }\n",
       "\n",
       "    .dataframe tbody tr th {\n",
       "        vertical-align: top;\n",
       "    }\n",
       "\n",
       "    .dataframe thead th {\n",
       "        text-align: right;\n",
       "    }\n",
       "</style>\n",
       "<table border=\"1\" class=\"dataframe\">\n",
       "  <thead>\n",
       "    <tr style=\"text-align: right;\">\n",
       "      <th></th>\n",
       "      <th>SqFtTotLiving_norm</th>\n",
       "      <th>SqFtLot_norm</th>\n",
       "      <th>AdjSalePrice_norm</th>\n",
       "    </tr>\n",
       "  </thead>\n",
       "  <tbody>\n",
       "    <tr>\n",
       "      <th>0</th>\n",
       "      <td>0.399969</td>\n",
       "      <td>-0.466145</td>\n",
       "      <td>-0.699629</td>\n",
       "    </tr>\n",
       "    <tr>\n",
       "      <th>1</th>\n",
       "      <td>2.030444</td>\n",
       "      <td>0.647921</td>\n",
       "      <td>2.479556</td>\n",
       "    </tr>\n",
       "    <tr>\n",
       "      <th>2</th>\n",
       "      <td>-0.006455</td>\n",
       "      <td>1.255424</td>\n",
       "      <td>1.190602</td>\n",
       "    </tr>\n",
       "    <tr>\n",
       "      <th>3</th>\n",
       "      <td>1.356259</td>\n",
       "      <td>-0.544149</td>\n",
       "      <td>-0.120423</td>\n",
       "    </tr>\n",
       "    <tr>\n",
       "      <th>4</th>\n",
       "      <td>-0.412878</td>\n",
       "      <td>-0.543943</td>\n",
       "      <td>-0.714964</td>\n",
       "    </tr>\n",
       "  </tbody>\n",
       "</table>\n",
       "</div>"
      ],
      "text/plain": [
       "   SqFtTotLiving_norm  SqFtLot_norm  AdjSalePrice_norm\n",
       "0            0.399969     -0.466145          -0.699629\n",
       "1            2.030444      0.647921           2.479556\n",
       "2           -0.006455      1.255424           1.190602\n",
       "3            1.356259     -0.544149          -0.120423\n",
       "4           -0.412878     -0.543943          -0.714964"
      ]
     },
     "execution_count": 25,
     "metadata": {},
     "output_type": "execute_result"
    }
   ],
   "source": [
    "df_house = pd.read_csv('../data/house_sales_subset.csv')\n",
    "df_house = df_house.iloc[:10].loc[:,['SqFtTotLiving','SqFtLot','AdjSalePrice']]\n",
    "X_house_norm = StandardScaler().fit_transform(df_house)\n",
    "df_house_norm = pd.DataFrame(X_house_norm,columns=['SqFtTotLiving_norm','SqFtLot_norm','AdjSalePrice_norm'])\n",
    "df_house_norm.head()"
   ]
  },
  {
   "cell_type": "markdown",
   "metadata": {
    "slideshow": {
     "slide_type": "slide"
    }
   },
   "source": [
    "# Content-Based Filtering\n",
    "<br>\n",
    "\n",
    "- Find **other things** similar to **the things I've liked**\n",
    "- Assume: If I like product A, and product B is like product A, I'll like product B\n",
    "- Use similarity of items\n",
    "<br>\n",
    "\n",
    "- Matrix: items x items\n",
    "- Values: Similarity of items"
   ]
  },
  {
   "cell_type": "markdown",
   "metadata": {
    "slideshow": {
     "slide_type": "slide"
    }
   },
   "source": [
    "# Calculate Distances\n",
    "\n",
    "- to maximize similarity $\\rightarrow$ minimize distance"
   ]
  },
  {
   "cell_type": "code",
   "execution_count": 26,
   "metadata": {
    "slideshow": {
     "slide_type": "fragment"
    }
   },
   "outputs": [
    {
     "data": {
      "text/plain": [
       "array([[0.  , 3.74, 2.59, 1.12, 0.82, 2.01, 2.73, 0.87, 1.76, 0.84],\n",
       "       [3.74, 0.  , 2.49, 2.94, 4.19, 4.78, 4.01, 3.79, 5.03, 3.44],\n",
       "       [2.59, 2.49, 0.  , 2.61, 2.65, 3.25, 1.83, 2.07, 3.31, 2.01],\n",
       "       [1.12, 2.94, 2.61, 0.  , 1.87, 2.83, 3.19, 1.76, 2.8 , 1.47],\n",
       "       [0.82, 4.19, 2.65, 1.87, 0.  , 1.32, 2.69, 0.68, 0.97, 0.78],\n",
       "       [2.01, 4.78, 3.25, 2.83, 1.32, 0.  , 3.59, 1.81, 0.87, 1.61],\n",
       "       [2.73, 4.01, 1.83, 3.19, 2.69, 3.59, 0.  , 2.05, 3.2 , 2.51],\n",
       "       [0.87, 3.79, 2.07, 1.76, 0.68, 1.81, 2.05, 0.  , 1.5 , 0.64],\n",
       "       [1.76, 5.03, 3.31, 2.8 , 0.97, 0.87, 3.2 , 1.5 , 0.  , 1.61],\n",
       "       [0.84, 3.44, 2.01, 1.47, 0.78, 1.61, 2.51, 0.64, 1.61, 0.  ]])"
      ]
     },
     "execution_count": 26,
     "metadata": {},
     "output_type": "execute_result"
    }
   ],
   "source": [
    "# using euclidean distance\n",
    "from sklearn.metrics.pairwise import euclidean_distances\n",
    "\n",
    "# calculate all pairwise distances between houses\n",
    "dists = euclidean_distances(X_house_norm)\n",
    "\n",
    "np.round(dists,2)"
   ]
  },
  {
   "cell_type": "markdown",
   "metadata": {
    "slideshow": {
     "slide_type": "slide"
    }
   },
   "source": [
    "# Visualizing Distances With a Heatmap"
   ]
  },
  {
   "cell_type": "code",
   "execution_count": 27,
   "metadata": {
    "slideshow": {
     "slide_type": "fragment"
    }
   },
   "outputs": [
    {
     "data": {
      "image/png": "[encoded data removed]",
      "text/plain": [
       "<Figure size 720x720 with 2 Axes>"
      ]
     },
     "metadata": {
      "needs_background": "light"
     },
     "output_type": "display_data"
    }
   ],
   "source": [
    "from mlxtend.plotting import heatmap\n",
    "heatmap(np.round(dists,2),figsize=(10,10));"
   ]
  },
  {
   "cell_type": "markdown",
   "metadata": {
    "slideshow": {
     "slide_type": "slide"
    }
   },
   "source": [
    "# Query For Similarity\n",
    "\n",
    "- Imagine I like house 5\n",
    "- What houses are similar to house 5?"
   ]
  },
  {
   "cell_type": "code",
   "execution_count": 28,
   "metadata": {
    "slideshow": {
     "slide_type": "fragment"
    }
   },
   "outputs": [
    {
     "data": {
      "text/plain": [
       "SqFtTotLiving       930.0\n",
       "SqFtLot            1012.0\n",
       "AdjSalePrice     411781.0\n",
       "Name: 5, dtype: float64"
      ]
     },
     "execution_count": 28,
     "metadata": {},
     "output_type": "execute_result"
    }
   ],
   "source": [
    "query_idx = 5\n",
    "df_house.iloc[query_idx]"
   ]
  },
  {
   "cell_type": "code",
   "execution_count": 29,
   "metadata": {
    "slideshow": {
     "slide_type": "fragment"
    }
   },
   "outputs": [
    {
     "data": {
      "text/plain": [
       "['2.0', '4.8', '3.3', '2.8', '1.3', '0.0', '3.6', '1.8', '0.9', '1.6']"
      ]
     },
     "execution_count": 29,
     "metadata": {},
     "output_type": "execute_result"
    }
   ],
   "source": [
    "# Distances to house 5\n",
    "[f'{x:0.1f}' for x in dists[query_idx]]"
   ]
  },
  {
   "cell_type": "markdown",
   "metadata": {
    "slideshow": {
     "slide_type": "slide"
    }
   },
   "source": [
    "# Query For Similarity Cont.\n"
   ]
  },
  {
   "cell_type": "code",
   "execution_count": 30,
   "metadata": {
    "slideshow": {
     "slide_type": "fragment"
    }
   },
   "outputs": [
    {
     "data": {
      "text/plain": [
       "array([5, 8, 4, 9, 7, 0, 3, 2, 6, 1])"
      ]
     },
     "execution_count": 30,
     "metadata": {},
     "output_type": "execute_result"
    }
   ],
   "source": [
    "# find indexes of best scores (for distances, want ascending)\n",
    "best_idxs_asc = np.argsort(dists[query_idx])\n",
    "best_idxs_asc"
   ]
  },
  {
   "cell_type": "code",
   "execution_count": 31,
   "metadata": {
    "slideshow": {
     "slide_type": "fragment"
    }
   },
   "outputs": [
    {
     "data": {
      "text/plain": [
       "[(5, 0.0),\n",
       " (8, 0.87),\n",
       " (4, 1.32),\n",
       " (9, 1.61),\n",
       " (7, 1.81),\n",
       " (0, 2.01),\n",
       " (3, 2.83),\n",
       " (2, 3.25),\n",
       " (6, 3.59),\n",
       " (1, 4.78)]"
      ]
     },
     "execution_count": 31,
     "metadata": {},
     "output_type": "execute_result"
    }
   ],
   "source": [
    "# the top 10 recommendations with distance\n",
    "list(zip(best_idxs_asc,np.round(dists[query_idx][best_idxs_asc],2)))"
   ]
  },
  {
   "cell_type": "markdown",
   "metadata": {
    "slideshow": {
     "slide_type": "slide"
    }
   },
   "source": [
    "# (User Based) Collaborative Filtering\n",
    "\n",
    "- Recommend things **that people with similar tastes have liked**\n",
    "- Assume: If both you and I like Movie A, and you like Movie B, I'll like movie B\n",
    "- Use similarity of user preferences\n",
    "<br>\n",
    "\n",
    "- Matrix: Users x Items\n",
    "- Values: Rankings\n",
    "\n",
    "<div align=\"center\"><img src=\"images/user-based_collaborative_filtering.png\" width=\"400px\"></div>"
   ]
  },
  {
   "cell_type": "markdown",
   "metadata": {
    "slideshow": {
     "slide_type": "slide"
    }
   },
   "source": [
    "# Example: User Interests\n",
    "<br>\n",
    "Can we recommend topics based on a users existing interests?"
   ]
  },
  {
   "cell_type": "code",
   "execution_count": 32,
   "metadata": {
    "slideshow": {
     "slide_type": "fragment"
    }
   },
   "outputs": [],
   "source": [
    "# from Data Science from Scratch by Joel Grus\n",
    "#https://github.com/joelgrus/data-science-from-scratch.git\n",
    "\n",
    "users_interests = [\n",
    "    [\"Hadoop\", \"Big Data\", \"HBase\", \"Java\", \"Spark\", \"Storm\", \"Cassandra\"],\n",
    "    [\"NoSQL\", \"MongoDB\", \"Cassandra\", \"HBase\", \"Postgres\"],\n",
    "    [\"Python\", \"scikit-learn\", \"scipy\", \"numpy\", \"statsmodels\", \"pandas\"],\n",
    "    [\"R\", \"Python\", \"statistics\", \"regression\", \"probability\"],\n",
    "    [\"machine learning\", \"regression\", \"decision trees\", \"libsvm\"],\n",
    "    [\"Python\", \"R\", \"Java\", \"C++\", \"Haskell\", \"programming languages\"],\n",
    "    [\"statistics\", \"probability\", \"mathematics\", \"theory\"],\n",
    "    [\"machine learning\", \"scikit-learn\", \"Mahout\", \"neural networks\"],\n",
    "    [\"neural networks\", \"deep learning\", \"Big Data\", \"artificial intelligence\"],\n",
    "    [\"Hadoop\", \"Java\", \"MapReduce\", \"Big Data\"],\n",
    "    [\"statistics\", \"R\", \"statsmodels\"],\n",
    "    [\"C++\", \"deep learning\", \"artificial intelligence\", \"probability\"],\n",
    "    [\"pandas\", \"R\", \"Python\"],\n",
    "    [\"databases\", \"HBase\", \"Postgres\", \"MySQL\", \"MongoDB\"],\n",
    "    [\"libsvm\", \"regression\", \"support vector machines\"]\n",
    "]"
   ]
  },
  {
   "cell_type": "code",
   "execution_count": 33,
   "metadata": {
    "slideshow": {
     "slide_type": "fragment"
    }
   },
   "outputs": [
    {
     "data": {
      "text/plain": [
       "['Big Data', 'Cassandra', 'HBase', 'Hadoop', 'Java', 'Spark', 'Storm']"
      ]
     },
     "execution_count": 33,
     "metadata": {},
     "output_type": "execute_result"
    }
   ],
   "source": [
    "# interests of user0\n",
    "sorted(users_interests[0])"
   ]
  },
  {
   "cell_type": "markdown",
   "metadata": {
    "slideshow": {
     "slide_type": "slide"
    }
   },
   "source": [
    "# All Unique Interests"
   ]
  },
  {
   "cell_type": "code",
   "execution_count": 34,
   "metadata": {
    "slideshow": {
     "slide_type": "fragment"
    }
   },
   "outputs": [
    {
     "data": {
      "text/plain": [
       "['Big Data', 'C++', 'Cassandra', 'HBase', 'Hadoop']"
      ]
     },
     "execution_count": 34,
     "metadata": {},
     "output_type": "execute_result"
    }
   ],
   "source": [
    "# get a sorted list of unique interests (here using set)\n",
    "unique_interests = sorted({interest\n",
    "                           for user_interests in users_interests\n",
    "                           for interest in user_interests})\n",
    "\n",
    "# the first 5 unique interests\n",
    "unique_interests[:5]"
   ]
  },
  {
   "cell_type": "markdown",
   "metadata": {
    "slideshow": {
     "slide_type": "slide"
    }
   },
   "source": [
    "# Transform User Interest Matrix"
   ]
  },
  {
   "cell_type": "code",
   "execution_count": 35,
   "metadata": {
    "slideshow": {
     "slide_type": "fragment"
    }
   },
   "outputs": [
    {
     "data": {
      "text/plain": [
       "array([1, 0, 1, 1, 1, 0, 1, 0, 0, 0, 0, 0, 0, 0, 0, 1, 1, 0, 0, 0, 0, 0,\n",
       "       0, 0, 0, 0, 0, 0, 0, 0, 0, 0, 0, 0, 0, 0])"
      ]
     },
     "execution_count": 35,
     "metadata": {},
     "output_type": "execute_result"
    }
   ],
   "source": [
    "# Transform between lists of strings and fixed length lists of ints\n",
    "from sklearn.preprocessing import MultiLabelBinarizer\n",
    "\n",
    "mlb = MultiLabelBinarizer(classes=unique_interests)\n",
    "\n",
    "# a matrix of \"user\" rows and \"interest\" columns\n",
    "user_interest_matrix = mlb.fit_transform(users_interests)\n",
    "\n",
    "# The interests for user0\n",
    "user_interest_matrix[0]"
   ]
  },
  {
   "cell_type": "code",
   "execution_count": 36,
   "metadata": {
    "slideshow": {
     "slide_type": "fragment"
    }
   },
   "outputs": [
    {
     "data": {
      "text/plain": [
       "('Big Data', 'Cassandra', 'HBase', 'Hadoop', 'Java', 'Spark', 'Storm')"
      ]
     },
     "execution_count": 36,
     "metadata": {},
     "output_type": "execute_result"
    }
   ],
   "source": [
    "# transforming back from interest matrix to list of interests\n",
    "mlb.inverse_transform(user_interest_matrix)[0]"
   ]
  },
  {
   "cell_type": "markdown",
   "metadata": {
    "slideshow": {
     "slide_type": "slide"
    }
   },
   "source": [
    "# Calculate Similarity"
   ]
  },
  {
   "cell_type": "code",
   "execution_count": 37,
   "metadata": {
    "slideshow": {
     "slide_type": "fragment"
    }
   },
   "outputs": [
    {
     "data": {
      "text/plain": [
       "array([1.        , 0.3380617 , 0.        , 0.        , 0.        ,\n",
       "       0.15430335, 0.        , 0.        , 0.18898224, 0.56694671,\n",
       "       0.        , 0.        , 0.        , 0.16903085, 0.        ])"
      ]
     },
     "execution_count": 37,
     "metadata": {},
     "output_type": "execute_result"
    }
   ],
   "source": [
    "from sklearn.metrics.pairwise import cosine_similarity\n",
    "\n",
    "# using similarity, higher values are better\n",
    "user_similarities = cosine_similarity(user_interest_matrix)\n",
    "\n",
    "# what are the similarites for user0 to other users?\n",
    "user_similarities[0]"
   ]
  },
  {
   "cell_type": "code",
   "execution_count": 38,
   "metadata": {
    "slideshow": {
     "slide_type": "fragment"
    }
   },
   "outputs": [
    {
     "data": {
      "text/plain": [
       "array([ 0,  1,  5,  8,  9, 13])"
      ]
     },
     "execution_count": 38,
     "metadata": {},
     "output_type": "execute_result"
    }
   ],
   "source": [
    "# what users does user0 share interests with?\n",
    "np.where(user_similarities[0])[0]"
   ]
  },
  {
   "cell_type": "markdown",
   "metadata": {
    "slideshow": {
     "slide_type": "slide"
    }
   },
   "source": [
    "# Find Similar Users"
   ]
  },
  {
   "cell_type": "code",
   "execution_count": 39,
   "metadata": {
    "slideshow": {
     "slide_type": "fragment"
    }
   },
   "outputs": [
    {
     "data": {
      "text/plain": [
       "[(5, 0.1543), (13, 0.169), (8, 0.189), (1, 0.3381), (9, 0.5669)]"
      ]
     },
     "execution_count": 39,
     "metadata": {},
     "output_type": "execute_result"
    }
   ],
   "source": [
    "# return a sorted list of users based on similarity\n",
    "# skip query user and similarity == 0\n",
    "def most_similar_users_to(query_idx):\n",
    "    users_scores = [(idx,np.round(sim,4))\n",
    "                    for idx,sim in enumerate(user_similarities[query_idx])\n",
    "                    if idx != query_idx and sim > 0]\n",
    "    return sorted(users_scores, key=lambda x:x[1])\n",
    "\n",
    "most_similar_users_to(0)"
   ]
  },
  {
   "cell_type": "markdown",
   "metadata": {
    "slideshow": {
     "slide_type": "slide"
    }
   },
   "source": [
    "# Recommend Based On User Similarity\n",
    "\n",
    "- Want to return items sorted by the similarity of other users"
   ]
  },
  {
   "cell_type": "code",
   "execution_count": 40,
   "metadata": {
    "slideshow": {
     "slide_type": "fragment"
    }
   },
   "outputs": [],
   "source": [
    "from collections import defaultdict\n",
    "\n",
    "def user_based_suggestions(user_idx):\n",
    "    suggestions = defaultdict(float)\n",
    "    \n",
    "    # iterate over interests of similar users\n",
    "    for other_idx, sim in most_similar_users_to(user_idx):\n",
    "        for interest in users_interests[other_idx]:\n",
    "            suggestions[interest] += sim\n",
    "            \n",
    "    # sort suggestions based on weight\n",
    "    suggestions = sorted(suggestions.items(),\n",
    "                        key=lambda x:x[1],\n",
    "                        reverse=True)\n",
    "    \n",
    "    # return only new interests\n",
    "    return [(suggestion,weight)\n",
    "            for suggestion,weight in suggestions\n",
    "            if suggestion not in users_interests[user_idx]]"
   ]
  },
  {
   "cell_type": "markdown",
   "metadata": {
    "slideshow": {
     "slide_type": "slide"
    }
   },
   "source": [
    "# Recommend Based On User Similarity"
   ]
  },
  {
   "cell_type": "code",
   "execution_count": 41,
   "metadata": {
    "slideshow": {
     "slide_type": "fragment"
    }
   },
   "outputs": [
    {
     "data": {
      "text/plain": [
       "['Hadoop', 'Big Data', 'HBase', 'Java', 'Spark', 'Storm', 'Cassandra']"
      ]
     },
     "execution_count": 41,
     "metadata": {},
     "output_type": "execute_result"
    }
   ],
   "source": [
    "# reminder: original interests\n",
    "users_interests[0]"
   ]
  },
  {
   "cell_type": "code",
   "execution_count": 42,
   "metadata": {
    "slideshow": {
     "slide_type": "fragment"
    }
   },
   "outputs": [
    {
     "data": {
      "text/plain": [
       "[('MapReduce', 0.5669),\n",
       " ('Postgres', 0.5071),\n",
       " ('MongoDB', 0.5071),\n",
       " ('NoSQL', 0.3381),\n",
       " ('neural networks', 0.189)]"
      ]
     },
     "execution_count": 42,
     "metadata": {},
     "output_type": "execute_result"
    }
   ],
   "source": [
    "# top 5 new recommended interests\n",
    "user_based_suggestions(0)[:5]"
   ]
  },
  {
   "cell_type": "markdown",
   "metadata": {
    "slideshow": {
     "slide_type": "slide"
    }
   },
   "source": [
    "# Issues with Collab. Filtering\n",
    "<br>\n",
    "\n",
    "- **the cold start problem** : What if it's your first time?\n",
    "<br>\n",
    "\n",
    "- **sparcity** : How to recommend movies no one's seen?"
   ]
  },
  {
   "cell_type": "markdown",
   "metadata": {
    "slideshow": {
     "slide_type": "slide"
    }
   },
   "source": [
    "# Evaluating Rec. Systems\n",
    "<br>\n",
    "\n",
    "- **Precision@N**: Out of top N, how many were true?\n",
    "<br>\n",
    "\n",
    "- **Recall@N**: Out of all true, how many were in top N\n",
    "<br>\n",
    "\n",
    "- Surprise/Novelty?\n",
    "<br>\n",
    "\n",
    "- Diversity?"
   ]
  },
  {
   "cell_type": "markdown",
   "metadata": {
    "slideshow": {
     "slide_type": "slide"
    }
   },
   "source": [
    "# Spotify's Recommendation Engine\n",
    "<br>\n",
    "\n",
    "[How Does Spotify Know You So Well?](https://medium.com/s/story/spotifys-discover-weekly-how-machine-learning-finds-your-new-music-19a41ab76efe)\n",
    "<br>\n",
    "\n",
    "<div align=\"center\"><img src=\"images/spotify.png\" width=\"1000px\"></div>"
   ]
  },
  {
   "cell_type": "markdown",
   "metadata": {
    "slideshow": {
     "slide_type": "slide"
    }
   },
   "source": [
    "# Recommendation Engines Review\n",
    "\n",
    "- Content-Based\n",
    "- User-Based Collaborative Filtering\n",
    "- Issues\n",
    "- Evaluating"
   ]
  },
  {
   "cell_type": "markdown",
   "metadata": {
    "slideshow": {
     "slide_type": "slide"
    }
   },
   "source": [
    "<br>\n",
    "<br>\n",
    "\n",
    "# <center>Questions?</center>\n",
    "<br>\n",
    "<br>"
   ]
  },
  {
   "cell_type": "markdown",
   "metadata": {
    "slideshow": {
     "slide_type": "slide"
    }
   },
   "source": [
    "# Time Series\n",
    "<br>\n",
    "\n",
    "- Data ordered in time\n",
    "<br>\n",
    "\n",
    "- Applications\n",
    "  - Financial\n",
    "  - Economic\n",
    "  - Scientific\n",
    "  - etc."
   ]
  },
  {
   "cell_type": "markdown",
   "metadata": {
    "slideshow": {
     "slide_type": "slide"
    }
   },
   "source": [
    "# Time Series Differences\n",
    "<br>\n",
    "\n",
    "- **Non-i.i.d.** :  not independent and identically distributed\n",
    "<br>\n",
    "\n",
    "- not independent\n",
    "  - Ex: Stock price\n",
    "<br>\n",
    "<br>\n",
    "\n",
    "- not-identically distributed\n",
    "  - Ex: Seasonality\n",
    "<br>\n",
    "<br>\n",
    "\n",
    "- Order matters"
   ]
  },
  {
   "cell_type": "markdown",
   "metadata": {
    "slideshow": {
     "slide_type": "slide"
    }
   },
   "source": [
    "# Representing Time in Python\n",
    "\n",
    "- `datetime` library\n",
    "- Pandas `Timestamp`"
   ]
  },
  {
   "cell_type": "markdown",
   "metadata": {
    "slideshow": {
     "slide_type": "slide"
    }
   },
   "source": [
    "# `datetime.date`"
   ]
  },
  {
   "cell_type": "code",
   "execution_count": 43,
   "metadata": {
    "slideshow": {
     "slide_type": "fragment"
    }
   },
   "outputs": [
    {
     "data": {
      "text/plain": [
       "datetime.date(2020, 12, 4)"
      ]
     },
     "execution_count": 43,
     "metadata": {},
     "output_type": "execute_result"
    }
   ],
   "source": [
    "from datetime import date\n",
    "\n",
    "friday = date(2020,12,4) # year,month,day\n",
    "friday"
   ]
  },
  {
   "cell_type": "code",
   "execution_count": 44,
   "metadata": {
    "slideshow": {
     "slide_type": "fragment"
    }
   },
   "outputs": [
    {
     "data": {
      "text/plain": [
       "datetime.date(2020, 11, 30)"
      ]
     },
     "execution_count": 44,
     "metadata": {},
     "output_type": "execute_result"
    }
   ],
   "source": [
    "today = date.today()\n",
    "today"
   ]
  },
  {
   "cell_type": "code",
   "execution_count": 45,
   "metadata": {
    "slideshow": {
     "slide_type": "fragment"
    }
   },
   "outputs": [
    {
     "data": {
      "text/plain": [
       "2020"
      ]
     },
     "execution_count": 45,
     "metadata": {},
     "output_type": "execute_result"
    }
   ],
   "source": [
    "today.year"
   ]
  },
  {
   "cell_type": "markdown",
   "metadata": {
    "slideshow": {
     "slide_type": "slide"
    }
   },
   "source": [
    "# `datetime.time`"
   ]
  },
  {
   "cell_type": "code",
   "execution_count": 46,
   "metadata": {
    "slideshow": {
     "slide_type": "fragment"
    }
   },
   "outputs": [
    {
     "data": {
      "text/plain": [
       "datetime.time(12, 0)"
      ]
     },
     "execution_count": 46,
     "metadata": {},
     "output_type": "execute_result"
    }
   ],
   "source": [
    "from datetime import time\n",
    "\n",
    "noon = time(12,0,0) # hour,minute,second,microsecond \n",
    "noon"
   ]
  },
  {
   "cell_type": "code",
   "execution_count": 47,
   "metadata": {
    "slideshow": {
     "slide_type": "fragment"
    }
   },
   "outputs": [
    {
     "data": {
      "text/plain": [
       "12"
      ]
     },
     "execution_count": 47,
     "metadata": {},
     "output_type": "execute_result"
    }
   ],
   "source": [
    "noon.hour"
   ]
  },
  {
   "cell_type": "markdown",
   "metadata": {
    "slideshow": {
     "slide_type": "slide"
    }
   },
   "source": [
    "# `datetime.datetime`"
   ]
  },
  {
   "cell_type": "code",
   "execution_count": 48,
   "metadata": {
    "slideshow": {
     "slide_type": "fragment"
    }
   },
   "outputs": [
    {
     "data": {
      "text/plain": [
       "datetime.datetime(2020, 11, 30, 19, 10)"
      ]
     },
     "execution_count": 48,
     "metadata": {},
     "output_type": "execute_result"
    }
   ],
   "source": [
    "from datetime import datetime\n",
    "\n",
    "# year,month,day,hour,minute,second,microsecond\n",
    "monday_afternoon = datetime(2020,11,30,19,10)\n",
    "monday_afternoon"
   ]
  },
  {
   "cell_type": "code",
   "execution_count": 49,
   "metadata": {
    "slideshow": {
     "slide_type": "fragment"
    }
   },
   "outputs": [
    {
     "data": {
      "text/plain": [
       "datetime.datetime(2020, 11, 30, 17, 53, 36, 601476)"
      ]
     },
     "execution_count": 49,
     "metadata": {},
     "output_type": "execute_result"
    }
   ],
   "source": [
    "now = datetime.now()\n",
    "now"
   ]
  },
  {
   "cell_type": "markdown",
   "metadata": {
    "slideshow": {
     "slide_type": "slide"
    }
   },
   "source": [
    "# `datetime.timedelta`"
   ]
  },
  {
   "cell_type": "code",
   "execution_count": 50,
   "metadata": {
    "slideshow": {
     "slide_type": "fragment"
    }
   },
   "outputs": [
    {
     "data": {
      "text/plain": [
       "datetime.timedelta(days=1, seconds=3600)"
      ]
     },
     "execution_count": 50,
     "metadata": {},
     "output_type": "execute_result"
    }
   ],
   "source": [
    "diff = datetime(2020,11,30,1) - datetime(2020,11,29,0)\n",
    "diff"
   ]
  },
  {
   "cell_type": "code",
   "execution_count": 51,
   "metadata": {
    "slideshow": {
     "slide_type": "fragment"
    }
   },
   "outputs": [
    {
     "data": {
      "text/plain": [
       "90000.0"
      ]
     },
     "execution_count": 51,
     "metadata": {},
     "output_type": "execute_result"
    }
   ],
   "source": [
    "diff.total_seconds()"
   ]
  },
  {
   "cell_type": "code",
   "execution_count": 52,
   "metadata": {
    "slideshow": {
     "slide_type": "fragment"
    }
   },
   "outputs": [
    {
     "data": {
      "text/plain": [
       "datetime.date(2020, 12, 2)"
      ]
     },
     "execution_count": 52,
     "metadata": {},
     "output_type": "execute_result"
    }
   ],
   "source": [
    "from datetime import timedelta\n",
    "\n",
    "#days,seconds,microseconds,milliseconds,minutes,hours,weeks\n",
    "one_day = timedelta(1)\n",
    "\n",
    "date(2020,11,30) + 2*one_day"
   ]
  },
  {
   "cell_type": "markdown",
   "metadata": {
    "slideshow": {
     "slide_type": "slide"
    }
   },
   "source": [
    "# Printing Datetimes: `strftime()`"
   ]
  },
  {
   "cell_type": "code",
   "execution_count": 53,
   "metadata": {
    "slideshow": {
     "slide_type": "fragment"
    }
   },
   "outputs": [
    {
     "name": "stdout",
     "output_type": "stream",
     "text": [
      "2020-11-30 17:53:36.601476\n"
     ]
    }
   ],
   "source": [
    "print(now)"
   ]
  },
  {
   "cell_type": "code",
   "execution_count": 54,
   "metadata": {
    "slideshow": {
     "slide_type": "fragment"
    }
   },
   "outputs": [
    {
     "data": {
      "text/plain": [
       "'Mon Nov 30, 2020 05:53 PM'"
      ]
     },
     "execution_count": 54,
     "metadata": {},
     "output_type": "execute_result"
    }
   ],
   "source": [
    "now.strftime('%a %h %d, %Y %I:%M %p')"
   ]
  },
  {
   "cell_type": "raw",
   "metadata": {
    "slideshow": {
     "slide_type": "fragment"
    }
   },
   "source": [
    "%Y 4-digit year\n",
    "%y 2-digit year\n",
    "%m 2-digit month\n",
    "%d 2-digit day\n",
    "%H Hour (24-hour)\n",
    "%M 2-digit minute\n",
    "%S 2-digit second"
   ]
  },
  {
   "cell_type": "markdown",
   "metadata": {
    "slideshow": {
     "slide_type": "fragment"
    }
   },
   "source": [
    "See [strftime.org](http://strftime.org)"
   ]
  },
  {
   "cell_type": "markdown",
   "metadata": {
    "slideshow": {
     "slide_type": "slide"
    }
   },
   "source": [
    "# Parsing Datetimes: `pandas.to_datetime()`\n",
    "\n",
    "- `dateutil.parser` available\n",
    "- pandas has parser built in: `pd.to_datetime()`\n",
    "    "
   ]
  },
  {
   "cell_type": "code",
   "execution_count": 55,
   "metadata": {
    "slideshow": {
     "slide_type": "fragment"
    }
   },
   "outputs": [
    {
     "data": {
      "text/plain": [
       "Timestamp('2019-11-22 14:36:00')"
      ]
     },
     "execution_count": 55,
     "metadata": {},
     "output_type": "execute_result"
    }
   ],
   "source": [
    "pd.to_datetime('11/22/2019 2:36pm')"
   ]
  },
  {
   "cell_type": "code",
   "execution_count": 56,
   "metadata": {
    "slideshow": {
     "slide_type": "fragment"
    }
   },
   "outputs": [
    {
     "data": {
      "text/plain": [
       "DatetimeIndex(['2020-11-26', '2020-11-27', '2020-11-28', '2030-11-29',\n",
       "               '2020-11-30', 'NaT'],\n",
       "              dtype='datetime64[ns]', freq=None)"
      ]
     },
     "execution_count": 56,
     "metadata": {},
     "output_type": "execute_result"
    }
   ],
   "source": [
    "dt_index = pd.to_datetime([datetime(2020, 11, 26),\n",
    "                           '27th of November, 2020',\n",
    "                           '2020-Nov-28',\n",
    "                           '11-29-2030',\n",
    "                           '20201130',\n",
    "                           None\n",
    "                          ])\n",
    "dt_index"
   ]
  },
  {
   "cell_type": "markdown",
   "metadata": {
    "slideshow": {
     "slide_type": "slide"
    }
   },
   "source": [
    "# `pandas.Timestamp`\n",
    "\n",
    "- like datetime.datetime\n",
    "- can include **timezone** and **frequency** info\n",
    "- can handle a missing time: `NaT`\n",
    "- can be used anywhere datetime can be used\n",
    "- an array of Timestamps can be used as an index"
   ]
  },
  {
   "cell_type": "code",
   "execution_count": 57,
   "metadata": {
    "slideshow": {
     "slide_type": "fragment"
    }
   },
   "outputs": [
    {
     "data": {
      "text/plain": [
       "Timestamp('2020-11-26 00:00:00')"
      ]
     },
     "execution_count": 57,
     "metadata": {},
     "output_type": "execute_result"
    }
   ],
   "source": [
    "dt_index[0]"
   ]
  },
  {
   "cell_type": "markdown",
   "metadata": {
    "slideshow": {
     "slide_type": "slide"
    }
   },
   "source": [
    "# DateIndex Indexing/Selecting/Slicing"
   ]
  },
  {
   "cell_type": "code",
   "execution_count": 58,
   "metadata": {
    "slideshow": {
     "slide_type": "fragment"
    }
   },
   "outputs": [
    {
     "data": {
      "text/plain": [
       "2019-12-01    101\n",
       "2020-01-01    102\n",
       "2020-02-01    103\n",
       "dtype: int64"
      ]
     },
     "execution_count": 58,
     "metadata": {},
     "output_type": "execute_result"
    }
   ],
   "source": [
    "s = pd.Series([101,102,103],\n",
    "              index=pd.to_datetime(['20191201','20200101','20200201']))\n",
    "s"
   ]
  },
  {
   "cell_type": "code",
   "execution_count": 59,
   "metadata": {
    "slideshow": {
     "slide_type": "fragment"
    }
   },
   "outputs": [
    {
     "data": {
      "text/plain": [
       "2019-12-01    101\n",
       "2020-01-01    102\n",
       "dtype: int64"
      ]
     },
     "execution_count": 59,
     "metadata": {},
     "output_type": "execute_result"
    }
   ],
   "source": [
    "# can index normally using iloc\n",
    "s.iloc[0:2]"
   ]
  },
  {
   "cell_type": "markdown",
   "metadata": {
    "slideshow": {
     "slide_type": "slide"
    }
   },
   "source": [
    "# DateIndex Indexing/Selecting/Slicing Cont."
   ]
  },
  {
   "cell_type": "code",
   "execution_count": 60,
   "metadata": {
    "slideshow": {
     "slide_type": "fragment"
    }
   },
   "outputs": [
    {
     "data": {
      "text/plain": [
       "2020-01-01    102\n",
       "2020-02-01    103\n",
       "dtype: int64"
      ]
     },
     "execution_count": 60,
     "metadata": {},
     "output_type": "execute_result"
    }
   ],
   "source": [
    "# only rows from the year 2020\n",
    "s.loc['2020']"
   ]
  },
  {
   "cell_type": "code",
   "execution_count": 61,
   "metadata": {
    "slideshow": {
     "slide_type": "fragment"
    }
   },
   "outputs": [
    {
     "data": {
      "text/plain": [
       "2020-01-01    102\n",
       "dtype: int64"
      ]
     },
     "execution_count": 61,
     "metadata": {},
     "output_type": "execute_result"
    }
   ],
   "source": [
    "# only rows from January 2020\n",
    "s.loc['2020-01']"
   ]
  },
  {
   "cell_type": "code",
   "execution_count": 62,
   "metadata": {
    "slideshow": {
     "slide_type": "fragment"
    }
   },
   "outputs": [
    {
     "data": {
      "text/plain": [
       "2019-12-01    101\n",
       "2020-01-01    102\n",
       "dtype: int64"
      ]
     },
     "execution_count": 62,
     "metadata": {},
     "output_type": "execute_result"
    }
   ],
   "source": [
    "# only rows between Jan 1st 2019 and Jan 1st 2020, inclusive\n",
    "s.loc['01/01/2019':'01/01/2020']"
   ]
  },
  {
   "cell_type": "code",
   "execution_count": 63,
   "metadata": {
    "slideshow": {
     "slide_type": "fragment"
    }
   },
   "outputs": [
    {
     "data": {
      "text/plain": [
       "2020-01-01    102\n",
       "2020-02-01    103\n",
       "dtype: int64"
      ]
     },
     "execution_count": 63,
     "metadata": {},
     "output_type": "execute_result"
    }
   ],
   "source": [
    "# can use the indexing shortcut\n",
    "s['2020']"
   ]
  },
  {
   "cell_type": "markdown",
   "metadata": {
    "slideshow": {
     "slide_type": "slide"
    }
   },
   "source": [
    "# Datetimes in DataFrames"
   ]
  },
  {
   "cell_type": "code",
   "execution_count": 64,
   "metadata": {
    "slideshow": {
     "slide_type": "fragment"
    }
   },
   "outputs": [
    {
     "data": {
      "text/html": [
       "<div>\n",
       "<style scoped>\n",
       "    .dataframe tbody tr th:only-of-type {\n",
       "        vertical-align: middle;\n",
       "    }\n",
       "\n",
       "    .dataframe tbody tr th {\n",
       "        vertical-align: top;\n",
       "    }\n",
       "\n",
       "    .dataframe thead th {\n",
       "        text-align: right;\n",
       "    }\n",
       "</style>\n",
       "<table border=\"1\" class=\"dataframe\">\n",
       "  <thead>\n",
       "    <tr style=\"text-align: right;\">\n",
       "      <th></th>\n",
       "      <th>col2</th>\n",
       "      <th>col3</th>\n",
       "    </tr>\n",
       "    <tr>\n",
       "      <th>col1</th>\n",
       "      <th></th>\n",
       "      <th></th>\n",
       "    </tr>\n",
       "  </thead>\n",
       "  <tbody>\n",
       "    <tr>\n",
       "      <th>2020-12-01</th>\n",
       "      <td>101</td>\n",
       "      <td>A</td>\n",
       "    </tr>\n",
       "    <tr>\n",
       "      <th>2021-01-01</th>\n",
       "      <td>102</td>\n",
       "      <td>B</td>\n",
       "    </tr>\n",
       "  </tbody>\n",
       "</table>\n",
       "</div>"
      ],
      "text/plain": [
       "            col2 col3\n",
       "col1                 \n",
       "2020-12-01   101    A\n",
       "2021-01-01   102    B"
      ]
     },
     "execution_count": 64,
     "metadata": {},
     "output_type": "execute_result"
    }
   ],
   "source": [
    "df = pd.DataFrame([['12/1/2020',101,'A'],\n",
    "                   ['1/1/2021',102,'B']],columns=['col1','col2','col3'])\n",
    "df.col1 = pd.to_datetime(df.col1)\n",
    "df.set_index('col1',drop=True,inplace=True)\n",
    "df"
   ]
  },
  {
   "cell_type": "code",
   "execution_count": 65,
   "metadata": {
    "slideshow": {
     "slide_type": "fragment"
    }
   },
   "outputs": [
    {
     "data": {
      "text/html": [
       "<div>\n",
       "<style scoped>\n",
       "    .dataframe tbody tr th:only-of-type {\n",
       "        vertical-align: middle;\n",
       "    }\n",
       "\n",
       "    .dataframe tbody tr th {\n",
       "        vertical-align: top;\n",
       "    }\n",
       "\n",
       "    .dataframe thead th {\n",
       "        text-align: right;\n",
       "    }\n",
       "</style>\n",
       "<table border=\"1\" class=\"dataframe\">\n",
       "  <thead>\n",
       "    <tr style=\"text-align: right;\">\n",
       "      <th></th>\n",
       "      <th>col2</th>\n",
       "      <th>col3</th>\n",
       "    </tr>\n",
       "    <tr>\n",
       "      <th>col1</th>\n",
       "      <th></th>\n",
       "      <th></th>\n",
       "    </tr>\n",
       "  </thead>\n",
       "  <tbody>\n",
       "    <tr>\n",
       "      <th>2020-12-01</th>\n",
       "      <td>101</td>\n",
       "      <td>A</td>\n",
       "    </tr>\n",
       "  </tbody>\n",
       "</table>\n",
       "</div>"
      ],
      "text/plain": [
       "            col2 col3\n",
       "col1                 \n",
       "2020-12-01   101    A"
      ]
     },
     "execution_count": 65,
     "metadata": {},
     "output_type": "execute_result"
    }
   ],
   "source": [
    "# only return rows from 2020\n",
    "df.loc['2020']"
   ]
  },
  {
   "cell_type": "markdown",
   "metadata": {
    "slideshow": {
     "slide_type": "slide"
    }
   },
   "source": [
    "# Timestamp Index: Setting Frequency"
   ]
  },
  {
   "cell_type": "code",
   "execution_count": 66,
   "metadata": {
    "slideshow": {
     "slide_type": "fragment"
    }
   },
   "outputs": [
    {
     "data": {
      "text/plain": [
       "2020-12-01    101\n",
       "2020-12-03    103\n",
       "dtype: int64"
      ]
     },
     "execution_count": 66,
     "metadata": {},
     "output_type": "execute_result"
    }
   ],
   "source": [
    "s = pd.Series([101,103],index=pd.to_datetime(['20201201','20201203']))\n",
    "s"
   ]
  },
  {
   "cell_type": "code",
   "execution_count": 67,
   "metadata": {
    "slideshow": {
     "slide_type": "fragment"
    }
   },
   "outputs": [
    {
     "data": {
      "text/plain": [
       "2020-12-01    101.0\n",
       "2020-12-02      NaN\n",
       "2020-12-03    103.0\n",
       "Freq: D, dtype: float64"
      ]
     },
     "execution_count": 67,
     "metadata": {},
     "output_type": "execute_result"
    }
   ],
   "source": [
    "# Use resample() and asfreq() to set frequency\n",
    "s.resample('D').asfreq()"
   ]
  },
  {
   "cell_type": "code",
   "execution_count": 68,
   "metadata": {
    "slideshow": {
     "slide_type": "fragment"
    }
   },
   "outputs": [
    {
     "data": {
      "text/plain": [
       "DatetimeIndex(['2019-12-01', '2019-12-03'], dtype='datetime64[ns]', freq=None)"
      ]
     },
     "execution_count": 68,
     "metadata": {},
     "output_type": "execute_result"
    }
   ],
   "source": [
    "pd.to_datetime(['20191201','20191203'])"
   ]
  },
  {
   "cell_type": "code",
   "execution_count": 69,
   "metadata": {
    "slideshow": {
     "slide_type": "fragment"
    }
   },
   "outputs": [
    {
     "data": {
      "text/plain": [
       "DatetimeIndex(['2019-12-01', '2019-12-02', '2019-12-03'], dtype='datetime64[ns]', freq='D')"
      ]
     },
     "execution_count": 69,
     "metadata": {},
     "output_type": "execute_result"
    }
   ],
   "source": [
    "# Use date_range with freq to get a range of dates of a certain frequency\n",
    "pd.date_range(start='20191201',end='20191203',freq='D')"
   ]
  },
  {
   "cell_type": "markdown",
   "metadata": {
    "slideshow": {
     "slide_type": "slide"
    }
   },
   "source": [
    "# Sample of Available Frequencies"
   ]
  },
  {
   "cell_type": "raw",
   "metadata": {
    "slideshow": {
     "slide_type": "fragment"
    }
   },
   "source": [
    "    B    business day frequency\n",
    "    D    calendar day frequency\n",
    "    W    weekly frequency\n",
    "    M    month end frequency\n",
    "    SM   semi-month end frequency (15th and end of month)\n",
    "    BM   business month end frequency\n",
    "    ...\n",
    "    Q    quarter end frequency\n",
    "    BQ   business quarter end frequency\n",
    "    ...\n",
    "    Y    year end frequency\n",
    "    BY   business year end frequency\n",
    "    ...\n",
    "    BH      business hour frequency\n",
    "    H       hourly frequency\n",
    "    T,min   minutely frequency\n",
    "    S       secondly frequency\n",
    "    L,ms    milliseconds\n",
    "    U,us    microseconds\n",
    "    N       nanoseconds"
   ]
  },
  {
   "cell_type": "markdown",
   "metadata": {
    "slideshow": {
     "slide_type": "fragment"
    }
   },
   "source": [
    "[https://pandas.pydata.org/pandas-docs/stable/user_guide/timeseries.html#timeseries-offset-aliases](https://pandas.pydata.org/pandas-docs/stable/user_guide/timeseries.html#timeseries-offset-aliases)"
   ]
  },
  {
   "cell_type": "markdown",
   "metadata": {
    "slideshow": {
     "slide_type": "slide"
    }
   },
   "source": [
    "# Timezones\n",
    "\n",
    "- Handled by `pytz` library"
   ]
  },
  {
   "cell_type": "code",
   "execution_count": 70,
   "metadata": {
    "slideshow": {
     "slide_type": "fragment"
    }
   },
   "outputs": [
    {
     "data": {
      "text/plain": [
       "['US/Alaska',\n",
       " 'US/Arizona',\n",
       " 'US/Central',\n",
       " 'US/Eastern',\n",
       " 'US/Hawaii',\n",
       " 'US/Mountain',\n",
       " 'US/Pacific',\n",
       " 'UTC']"
      ]
     },
     "execution_count": 70,
     "metadata": {},
     "output_type": "execute_result"
    }
   ],
   "source": [
    "import pytz\n",
    "\n",
    "[x for x in pytz.common_timezones if x.startswith('U')]"
   ]
  },
  {
   "cell_type": "markdown",
   "metadata": {
    "slideshow": {
     "slide_type": "fragment"
    }
   },
   "source": [
    "UTC: coordinated universal time (EST is 5 hours behind, -5:00)"
   ]
  },
  {
   "cell_type": "markdown",
   "metadata": {
    "slideshow": {
     "slide_type": "slide"
    }
   },
   "source": [
    "# Timezones Cont."
   ]
  },
  {
   "cell_type": "code",
   "execution_count": 71,
   "metadata": {
    "slideshow": {
     "slide_type": "fragment"
    }
   },
   "outputs": [
    {
     "data": {
      "text/plain": [
       "DatetimeIndex(['2019-11-02 09:30:00', '2019-11-03 09:30:00'], dtype='datetime64[ns]', freq='D')"
      ]
     },
     "execution_count": 71,
     "metadata": {},
     "output_type": "execute_result"
    }
   ],
   "source": [
    "ts = pd.date_range('11/2/2019 9:30am',periods=2,freq='D')\n",
    "ts"
   ]
  },
  {
   "cell_type": "code",
   "execution_count": 72,
   "metadata": {
    "slideshow": {
     "slide_type": "fragment"
    }
   },
   "outputs": [
    {
     "data": {
      "text/plain": [
       "DatetimeIndex(['2019-11-02 09:30:00+00:00', '2019-11-03 09:30:00+00:00'], dtype='datetime64[ns, UTC]', freq='D')"
      ]
     },
     "execution_count": 72,
     "metadata": {},
     "output_type": "execute_result"
    }
   ],
   "source": [
    "# Set timezone using .localize()\n",
    "ts_utc = ts.tz_localize('UTC')\n",
    "ts_utc"
   ]
  },
  {
   "cell_type": "code",
   "execution_count": 73,
   "metadata": {
    "slideshow": {
     "slide_type": "fragment"
    }
   },
   "outputs": [
    {
     "data": {
      "text/plain": [
       "DatetimeIndex(['2019-11-02 05:30:00-04:00', '2019-11-03 04:30:00-05:00'], dtype='datetime64[ns, US/Eastern]', freq='D')"
      ]
     },
     "execution_count": 73,
     "metadata": {},
     "output_type": "execute_result"
    }
   ],
   "source": [
    "# Change timezones using .tz_convert()\n",
    "ts_utc.tz_convert('US/Eastern')"
   ]
  },
  {
   "cell_type": "markdown",
   "metadata": {
    "slideshow": {
     "slide_type": "slide"
    }
   },
   "source": [
    "# Timeseries in Python so far:\n",
    "<br>\n",
    "\n",
    "- `datetime .date .time .datetime .timedelta`\n",
    "- format with `.strftime()`\n",
    "- parse time with `pd.to_datetime()`\n",
    "- `pandas Timestamp Timedelta DatetimeIndex`\n",
    "- Indexing with `DatetimeIndex`\n",
    "- Frequencies\n",
    "- Timezones\n",
    "<br>\n",
    "\n",
    "Additional pandas functionality we won't discuss:\n",
    "- `Period` and `PeriodIndex`\n",
    "- `Panels`\n",
    "<br>\n",
    "<br>\n",
    "\n",
    "Next: Operations on Time Series data"
   ]
  },
  {
   "cell_type": "markdown",
   "metadata": {
    "slideshow": {
     "slide_type": "slide"
    }
   },
   "source": [
    "# Shifting\n",
    "\n",
    "- Moving data backward or forward in time (lagging/leading)\n",
    "- Ex: calculate percent change"
   ]
  },
  {
   "cell_type": "code",
   "execution_count": 74,
   "metadata": {
    "slideshow": {
     "slide_type": "fragment"
    }
   },
   "outputs": [
    {
     "data": {
      "text/plain": [
       "2019-01-31    1\n",
       "2019-02-28    2\n",
       "2019-03-31    8\n",
       "Freq: M, dtype: int64"
      ]
     },
     "execution_count": 74,
     "metadata": {},
     "output_type": "execute_result"
    }
   ],
   "source": [
    "ts = pd.Series([1,2,8],\n",
    "               index=pd.date_range('1/1/2019',periods=3,freq='M'))\n",
    "ts"
   ]
  },
  {
   "cell_type": "code",
   "execution_count": 75,
   "metadata": {
    "slideshow": {
     "slide_type": "fragment"
    }
   },
   "outputs": [
    {
     "data": {
      "text/plain": [
       "2019-01-31    NaN\n",
       "2019-02-28    1.0\n",
       "2019-03-31    2.0\n",
       "Freq: M, dtype: float64"
      ]
     },
     "execution_count": 75,
     "metadata": {},
     "output_type": "execute_result"
    }
   ],
   "source": [
    "ts.shift(1) # old value"
   ]
  },
  {
   "cell_type": "markdown",
   "metadata": {
    "slideshow": {
     "slide_type": "slide"
    }
   },
   "source": [
    "# Shifting\n",
    "\n",
    "- **percent change** : \n",
    "  - (new_value - old_value) / old_value\n",
    "  - (new_value / old_value) - 1"
   ]
  },
  {
   "cell_type": "code",
   "execution_count": 76,
   "metadata": {
    "slideshow": {
     "slide_type": "fragment"
    }
   },
   "outputs": [
    {
     "data": {
      "text/plain": [
       "2019-01-31      NaN\n",
       "2019-02-28    100.0\n",
       "2019-03-31    300.0\n",
       "Freq: M, dtype: float64"
      ]
     },
     "execution_count": 76,
     "metadata": {},
     "output_type": "execute_result"
    }
   ],
   "source": [
    "#  multiply by 100 to turn into a percent\n",
    "((ts / ts.shift(1)) - 1) * 100"
   ]
  },
  {
   "cell_type": "markdown",
   "metadata": {
    "slideshow": {
     "slide_type": "slide"
    }
   },
   "source": [
    "# Example Dataset: Twitter Stock"
   ]
  },
  {
   "cell_type": "code",
   "execution_count": 77,
   "metadata": {
    "slideshow": {
     "slide_type": "fragment"
    }
   },
   "outputs": [
    {
     "data": {
      "text/html": [
       "<div>\n",
       "<style scoped>\n",
       "    .dataframe tbody tr th:only-of-type {\n",
       "        vertical-align: middle;\n",
       "    }\n",
       "\n",
       "    .dataframe tbody tr th {\n",
       "        vertical-align: top;\n",
       "    }\n",
       "\n",
       "    .dataframe thead th {\n",
       "        text-align: right;\n",
       "    }\n",
       "</style>\n",
       "<table border=\"1\" class=\"dataframe\">\n",
       "  <thead>\n",
       "    <tr style=\"text-align: right;\">\n",
       "      <th></th>\n",
       "      <th>High</th>\n",
       "      <th>Low</th>\n",
       "      <th>Open</th>\n",
       "      <th>Close</th>\n",
       "      <th>Volume</th>\n",
       "      <th>Adj Close</th>\n",
       "    </tr>\n",
       "    <tr>\n",
       "      <th>Date</th>\n",
       "      <th></th>\n",
       "      <th></th>\n",
       "      <th></th>\n",
       "      <th></th>\n",
       "      <th></th>\n",
       "      <th></th>\n",
       "    </tr>\n",
       "  </thead>\n",
       "  <tbody>\n",
       "    <tr>\n",
       "      <th>2015-01-02</th>\n",
       "      <td>36.740002</td>\n",
       "      <td>35.540001</td>\n",
       "      <td>36.230000</td>\n",
       "      <td>36.560001</td>\n",
       "      <td>12062500</td>\n",
       "      <td>36.560001</td>\n",
       "    </tr>\n",
       "    <tr>\n",
       "      <th>2015-01-05</th>\n",
       "      <td>37.110001</td>\n",
       "      <td>35.639999</td>\n",
       "      <td>36.259998</td>\n",
       "      <td>36.380001</td>\n",
       "      <td>15062700</td>\n",
       "      <td>36.380001</td>\n",
       "    </tr>\n",
       "    <tr>\n",
       "      <th>2015-01-06</th>\n",
       "      <td>39.450001</td>\n",
       "      <td>36.040001</td>\n",
       "      <td>36.270000</td>\n",
       "      <td>38.759998</td>\n",
       "      <td>33050800</td>\n",
       "      <td>38.759998</td>\n",
       "    </tr>\n",
       "  </tbody>\n",
       "</table>\n",
       "</div>"
      ],
      "text/plain": [
       "                 High        Low       Open      Close    Volume  Adj Close\n",
       "Date                                                                       \n",
       "2015-01-02  36.740002  35.540001  36.230000  36.560001  12062500  36.560001\n",
       "2015-01-05  37.110001  35.639999  36.259998  36.380001  15062700  36.380001\n",
       "2015-01-06  39.450001  36.040001  36.270000  38.759998  33050800  38.759998"
      ]
     },
     "execution_count": 77,
     "metadata": {},
     "output_type": "execute_result"
    }
   ],
   "source": [
    "# first run: conda install pandas-datareader\n",
    "#from pandas_datareader import data\n",
    "#df_twtr = data.DataReader('TWTR', start='2015', end='2021', data_source='yahoo') \n",
    "df_twtr = pd.read_csv('../data/twtr_2015-2020.csv',parse_dates=['Date'],index_col='Date')\n",
    "df_twtr.head(3)"
   ]
  },
  {
   "cell_type": "code",
   "execution_count": 78,
   "metadata": {
    "slideshow": {
     "slide_type": "fragment"
    }
   },
   "outputs": [
    {
     "data": {
      "image/png": "[encoded data removed]",
      "text/plain": [
       "<Figure size 864x432 with 1 Axes>"
      ]
     },
     "metadata": {
      "needs_background": "light"
     },
     "output_type": "display_data"
    }
   ],
   "source": [
    "fig,ax = plt.subplots(1,1,figsize=(12,6))\n",
    "df_twtr[['Close']].plot(ax=ax);\n",
    "ax.set_ylabel('stock price');"
   ]
  },
  {
   "cell_type": "markdown",
   "metadata": {
    "slideshow": {
     "slide_type": "slide"
    }
   },
   "source": [
    "# Example Dataset: Twitter Stock\n",
    "\n",
    "- Calculate Percent Change of Close"
   ]
  },
  {
   "cell_type": "code",
   "execution_count": 79,
   "metadata": {
    "slideshow": {
     "slide_type": "fragment"
    }
   },
   "outputs": [
    {
     "data": {
      "text/plain": [
       "Date\n",
       "2020-11-23    0.005819\n",
       "2020-11-24    0.006453\n",
       "2020-11-25    0.026531\n",
       "2020-11-27    0.003446\n",
       "2020-11-30   -0.001717\n",
       "Name: Close, dtype: float64"
      ]
     },
     "execution_count": 79,
     "metadata": {},
     "output_type": "execute_result"
    }
   ],
   "source": [
    "(df_twtr.Close / df_twtr.Close.shift(1) - 1).tail(5)"
   ]
  },
  {
   "cell_type": "code",
   "execution_count": 80,
   "metadata": {},
   "outputs": [
    {
     "data": {
      "image/png": "[encoded data removed]",
      "text/plain": [
       "<Figure size 864x432 with 1 Axes>"
      ]
     },
     "metadata": {
      "needs_background": "light"
     },
     "output_type": "display_data"
    }
   ],
   "source": [
    "# plot percent change of close in 2020\n",
    "fig,ax = plt.subplots(1,1,figsize=(12,6))\n",
    "close_2020 = df_twtr.loc['2020','Close']\n",
    "((close_2020 / close_2020.shift(1)) - 1 ).plot(marker='x',ax=ax);\n",
    "ax.set_ylabel('percent change');"
   ]
  },
  {
   "cell_type": "markdown",
   "metadata": {
    "slideshow": {
     "slide_type": "slide"
    }
   },
   "source": [
    "# Resampling\n",
    "\n",
    "- Convert from one frequency to another\n",
    "<br>\n",
    "\n",
    "- Downsampling\n",
    "  - from higher to lower (day to month)\n",
    "  - need to aggregate\n",
    "<br>\n",
    "<br>\n",
    "\n",
    "- Upsampling\n",
    "  - from lower to higher (month to day)\n",
    "  - need to fill missing\n",
    "<br>\n",
    "<br>\n",
    "\n",
    "- Can also be used to set frequency from None"
   ]
  },
  {
   "cell_type": "markdown",
   "metadata": {
    "slideshow": {
     "slide_type": "slide"
    }
   },
   "source": [
    "# Resampling: Initialize Frequency"
   ]
  },
  {
   "cell_type": "code",
   "execution_count": 81,
   "metadata": {
    "slideshow": {
     "slide_type": "fragment"
    }
   },
   "outputs": [
    {
     "data": {
      "text/plain": [
       "DatetimeIndex(['2015-01-02', '2015-01-05', '2015-01-06', '2015-01-07',\n",
       "               '2015-01-08', '2015-01-09', '2015-01-12', '2015-01-13',\n",
       "               '2015-01-14', '2015-01-15',\n",
       "               ...\n",
       "               '2020-11-16', '2020-11-17', '2020-11-18', '2020-11-19',\n",
       "               '2020-11-20', '2020-11-23', '2020-11-24', '2020-11-25',\n",
       "               '2020-11-27', '2020-11-30'],\n",
       "              dtype='datetime64[ns]', name='Date', length=1489, freq=None)"
      ]
     },
     "execution_count": 81,
     "metadata": {},
     "output_type": "execute_result"
    }
   ],
   "source": [
    "df_twtr.index"
   ]
  },
  {
   "cell_type": "code",
   "execution_count": 82,
   "metadata": {
    "slideshow": {
     "slide_type": "fragment"
    }
   },
   "outputs": [
    {
     "data": {
      "text/plain": [
       "DatetimeIndex(['2015-01-02', '2015-01-05', '2015-01-06', '2015-01-07',\n",
       "               '2015-01-08', '2015-01-09', '2015-01-12', '2015-01-13',\n",
       "               '2015-01-14', '2015-01-15',\n",
       "               ...\n",
       "               '2020-11-17', '2020-11-18', '2020-11-19', '2020-11-20',\n",
       "               '2020-11-23', '2020-11-24', '2020-11-25', '2020-11-26',\n",
       "               '2020-11-27', '2020-11-30'],\n",
       "              dtype='datetime64[ns]', name='Date', length=1542, freq='B')"
      ]
     },
     "execution_count": 82,
     "metadata": {},
     "output_type": "execute_result"
    }
   ],
   "source": [
    "df_twtr_B = df_twtr.resample('B').asfreq() # set frequncy to business day\n",
    "df_twtr_B.index"
   ]
  },
  {
   "cell_type": "markdown",
   "metadata": {
    "slideshow": {
     "slide_type": "slide"
    }
   },
   "source": [
    "# Resampling: Downsampling\n",
    "\n",
    "- Go from shorter to longer\n",
    "- Need to aggregate (like groupby)\n",
    "- Example: Downsampling from business day to business quarter\n",
    "    "
   ]
  },
  {
   "cell_type": "code",
   "execution_count": 83,
   "metadata": {
    "slideshow": {
     "slide_type": "fragment"
    }
   },
   "outputs": [
    {
     "data": {
      "text/plain": [
       "<pandas.core.resample.DatetimeIndexResampler object at 0x7fef902311f0>"
      ]
     },
     "execution_count": 83,
     "metadata": {},
     "output_type": "execute_result"
    }
   ],
   "source": [
    "df_twtr_BQ = df_twtr.resample('BQ')\n",
    "df_twtr_BQ"
   ]
  },
  {
   "cell_type": "code",
   "execution_count": 84,
   "metadata": {
    "slideshow": {
     "slide_type": "fragment"
    }
   },
   "outputs": [
    {
     "data": {
      "text/plain": [
       "'DatetimeIndexResampler [freq=<BusinessQuarterEnd: startingMonth=12>, axis=0, closed=right, label=right, convention=start, origin=start_day]'"
      ]
     },
     "execution_count": 84,
     "metadata": {},
     "output_type": "execute_result"
    }
   ],
   "source": [
    "str(df_twtr_BQ)"
   ]
  },
  {
   "cell_type": "code",
   "execution_count": 85,
   "metadata": {
    "slideshow": {
     "slide_type": "fragment"
    }
   },
   "outputs": [
    {
     "data": {
      "text/html": [
       "<div>\n",
       "<style scoped>\n",
       "    .dataframe tbody tr th:only-of-type {\n",
       "        vertical-align: middle;\n",
       "    }\n",
       "\n",
       "    .dataframe tbody tr th {\n",
       "        vertical-align: top;\n",
       "    }\n",
       "\n",
       "    .dataframe thead th {\n",
       "        text-align: right;\n",
       "    }\n",
       "</style>\n",
       "<table border=\"1\" class=\"dataframe\">\n",
       "  <thead>\n",
       "    <tr style=\"text-align: right;\">\n",
       "      <th></th>\n",
       "      <th>High</th>\n",
       "      <th>Low</th>\n",
       "      <th>Open</th>\n",
       "      <th>Close</th>\n",
       "      <th>Volume</th>\n",
       "      <th>Adj Close</th>\n",
       "    </tr>\n",
       "    <tr>\n",
       "      <th>Date</th>\n",
       "      <th></th>\n",
       "      <th></th>\n",
       "      <th></th>\n",
       "      <th></th>\n",
       "      <th></th>\n",
       "      <th></th>\n",
       "    </tr>\n",
       "  </thead>\n",
       "  <tbody>\n",
       "    <tr>\n",
       "      <th>2015-03-31</th>\n",
       "      <td>45.080328</td>\n",
       "      <td>43.552459</td>\n",
       "      <td>44.228688</td>\n",
       "      <td>44.335574</td>\n",
       "      <td>2.084619e+07</td>\n",
       "      <td>44.335574</td>\n",
       "    </tr>\n",
       "    <tr>\n",
       "      <th>2015-06-30</th>\n",
       "      <td>41.634921</td>\n",
       "      <td>40.385079</td>\n",
       "      <td>41.173492</td>\n",
       "      <td>40.874603</td>\n",
       "      <td>2.232030e+07</td>\n",
       "      <td>40.874603</td>\n",
       "    </tr>\n",
       "    <tr>\n",
       "      <th>2015-09-30</th>\n",
       "      <td>30.638281</td>\n",
       "      <td>29.420625</td>\n",
       "      <td>30.047812</td>\n",
       "      <td>30.000625</td>\n",
       "      <td>2.031210e+07</td>\n",
       "      <td>30.000625</td>\n",
       "    </tr>\n",
       "  </tbody>\n",
       "</table>\n",
       "</div>"
      ],
      "text/plain": [
       "                 High        Low       Open      Close        Volume  \\\n",
       "Date                                                                   \n",
       "2015-03-31  45.080328  43.552459  44.228688  44.335574  2.084619e+07   \n",
       "2015-06-30  41.634921  40.385079  41.173492  40.874603  2.232030e+07   \n",
       "2015-09-30  30.638281  29.420625  30.047812  30.000625  2.031210e+07   \n",
       "\n",
       "            Adj Close  \n",
       "Date                   \n",
       "2015-03-31  44.335574  \n",
       "2015-06-30  40.874603  \n",
       "2015-09-30  30.000625  "
      ]
     },
     "execution_count": 85,
     "metadata": {},
     "output_type": "execute_result"
    }
   ],
   "source": [
    "df_twtr_BQ.mean().head(3)"
   ]
  },
  {
   "cell_type": "markdown",
   "metadata": {
    "slideshow": {
     "slide_type": "slide"
    }
   },
   "source": [
    "# Resampling: Downsampling\n",
    "    "
   ]
  },
  {
   "cell_type": "code",
   "execution_count": 86,
   "metadata": {
    "slideshow": {
     "slide_type": "fragment"
    }
   },
   "outputs": [
    {
     "data": {
      "image/png": "[encoded data removed]",
      "text/plain": [
       "<Figure size 864x432 with 1 Axes>"
      ]
     },
     "metadata": {
      "needs_background": "light"
     },
     "output_type": "display_data"
    }
   ],
   "source": [
    "fig,ax = plt.subplots(1,1,figsize=(12,6))\n",
    "df_twtr_B.Close.plot(style='-', label='by B',ax=ax)\n",
    "df_twtr_BQ.Close.mean().plot(style='--',label='by BQ',ax=ax)\n",
    "plt.legend(loc='upper right');"
   ]
  },
  {
   "cell_type": "markdown",
   "metadata": {
    "slideshow": {
     "slide_type": "slide"
    }
   },
   "source": [
    "# Resampling: Upsampling\n",
    "\n",
    "- Go from longer to shorter\n",
    "- Need to decide how to handle missing values\n",
    "- Example: Upsample from business day to hour"
   ]
  },
  {
   "cell_type": "code",
   "execution_count": 87,
   "metadata": {
    "slideshow": {
     "slide_type": "fragment"
    }
   },
   "outputs": [
    {
     "data": {
      "text/plain": [
       "Date\n",
       "2015-01-02 00:00:00    36.560001\n",
       "2015-01-02 01:00:00          NaN\n",
       "2015-01-02 02:00:00          NaN\n",
       "2015-01-02 03:00:00          NaN\n",
       "2015-01-02 04:00:00          NaN\n",
       "2015-01-02 05:00:00          NaN\n",
       "2015-01-02 06:00:00          NaN\n",
       "2015-01-02 07:00:00          NaN\n",
       "2015-01-02 08:00:00          NaN\n",
       "2015-01-02 09:00:00          NaN\n",
       "Freq: H, Name: Close, dtype: float64"
      ]
     },
     "execution_count": 87,
     "metadata": {},
     "output_type": "execute_result"
    }
   ],
   "source": [
    "df_twtr_B.Close.resample('H').asfreq().head(10)"
   ]
  },
  {
   "cell_type": "markdown",
   "metadata": {
    "slideshow": {
     "slide_type": "slide"
    }
   },
   "source": [
    "# Resampling: Upsampling\n",
    "\n",
    "- `ffill()` : Forward Fill"
   ]
  },
  {
   "cell_type": "code",
   "execution_count": 88,
   "metadata": {
    "slideshow": {
     "slide_type": "fragment"
    }
   },
   "outputs": [
    {
     "data": {
      "text/plain": [
       "Date\n",
       "2015-01-02 00:00:00    36.560001\n",
       "2015-01-02 01:00:00    36.560001\n",
       "2015-01-02 02:00:00    36.560001\n",
       "Freq: H, Name: Close, dtype: float64"
      ]
     },
     "execution_count": 88,
     "metadata": {},
     "output_type": "execute_result"
    }
   ],
   "source": [
    "df_twtr_B.Close.resample('H').ffill().head(3)"
   ]
  },
  {
   "cell_type": "markdown",
   "metadata": {
    "slideshow": {
     "slide_type": "fragment"
    }
   },
   "source": [
    "- `bfill()`: Backward Fill\n",
    "    "
   ]
  },
  {
   "cell_type": "code",
   "execution_count": 89,
   "metadata": {
    "slideshow": {
     "slide_type": "fragment"
    }
   },
   "outputs": [
    {
     "data": {
      "text/plain": [
       "Date\n",
       "2015-01-02 00:00:00    36.560001\n",
       "2015-01-02 01:00:00    36.380001\n",
       "2015-01-02 02:00:00    36.380001\n",
       "Freq: H, Name: Close, dtype: float64"
      ]
     },
     "execution_count": 89,
     "metadata": {},
     "output_type": "execute_result"
    }
   ],
   "source": [
    "df_twtr_B.Close.resample('H').bfill().head(3)"
   ]
  },
  {
   "cell_type": "markdown",
   "metadata": {
    "slideshow": {
     "slide_type": "slide"
    }
   },
   "source": [
    "# Moving Windows\n",
    "\n",
    "- Apply function on a fixed window moving accross time\n",
    "- Method of smoothing out the data\n",
    "- **center** : place values at center of window\n",
    "   "
   ]
  },
  {
   "cell_type": "code",
   "execution_count": 90,
   "metadata": {
    "slideshow": {
     "slide_type": "fragment"
    }
   },
   "outputs": [
    {
     "data": {
      "text/plain": [
       "Date\n",
       "2020-11-02    39.470001\n",
       "2020-11-03    41.730000\n",
       "2020-11-04    42.759998\n",
       "2020-11-05    43.709999\n",
       "2020-11-06    43.119999\n",
       "Freq: B, Name: Close, dtype: float64"
      ]
     },
     "execution_count": 90,
     "metadata": {},
     "output_type": "execute_result"
    }
   ],
   "source": [
    "df_twtr_B.Close['2020-11-02':'2020-11-06']"
   ]
  },
  {
   "cell_type": "code",
   "execution_count": 91,
   "metadata": {
    "slideshow": {
     "slide_type": "fragment"
    }
   },
   "outputs": [
    {
     "data": {
      "text/plain": [
       "Rolling [window=5,center=True,axis=0]"
      ]
     },
     "execution_count": 91,
     "metadata": {},
     "output_type": "execute_result"
    }
   ],
   "source": [
    "rolling = df_twtr_B.Close.rolling(5, center=True)\n",
    "rolling"
   ]
  },
  {
   "cell_type": "code",
   "execution_count": 92,
   "metadata": {
    "slideshow": {
     "slide_type": "fragment"
    }
   },
   "outputs": [
    {
     "data": {
      "text/plain": [
       "Date\n",
       "2020-11-02    43.550000\n",
       "2020-11-03    41.806000\n",
       "2020-11-04    42.157999\n",
       "2020-11-05    42.901999\n",
       "2020-11-06    43.037999\n",
       "Freq: B, Name: Close, dtype: float64"
      ]
     },
     "execution_count": 92,
     "metadata": {},
     "output_type": "execute_result"
    }
   ],
   "source": [
    "rolling.mean()['2020-11-02':'2020-11-06']"
   ]
  },
  {
   "cell_type": "markdown",
   "metadata": {
    "slideshow": {
     "slide_type": "slide"
    }
   },
   "source": [
    "# Moving Windows"
   ]
  },
  {
   "cell_type": "code",
   "execution_count": 93,
   "metadata": {
    "slideshow": {
     "slide_type": "fragment"
    }
   },
   "outputs": [
    {
     "data": {
      "image/png": "[encoded data removed]",
      "text/plain": [
       "<Figure size 1152x576 with 1 Axes>"
      ]
     },
     "metadata": {},
     "output_type": "display_data"
    }
   ],
   "source": [
    "sns.set_style(\"whitegrid\")\n",
    "fig,ax = plt.subplots(1,1,figsize=(16,8));\n",
    "df_twtr_B['2020'].Close.plot(style='-',alpha=0.3,label='business day');\n",
    "rolling.mean()['2020'].plot(style='--',label='5 day rolling window mean');\n",
    "(rolling.mean()['2020'] + 2*rolling.std()['2020']).plot(style=':',c='g',label='_nolegend_');\n",
    "(rolling.mean()['2020'] - 2*rolling.std()['2020']).plot(style=':',c='g',label='_nolegend_');\n",
    "ax.legend();"
   ]
  },
  {
   "cell_type": "markdown",
   "metadata": {
    "slideshow": {
     "slide_type": "slide"
    }
   },
   "source": [
    "# Timeseries Operations Review\n",
    "\n",
    "- Shifting\n",
    "- Resampling \n",
    "  - Downsampling\n",
    "  - Upsampling\n",
    "- Moving/Rolling Windows"
   ]
  },
  {
   "cell_type": "markdown",
   "metadata": {
    "slideshow": {
     "slide_type": "slide"
    }
   },
   "source": [
    "<br>\n",
    "<br>\n",
    "\n",
    "# <center>Questions?</center>\n",
    "<br>\n",
    "<br>"
   ]
  }
 ],
 "metadata": {
  "celltoolbar": "Slideshow",
  "kernelspec": {
   "display_name": "eods-f20",
   "language": "python",
   "name": "eods-f20"
  },
  "language_info": {
   "codemirror_mode": {
    "name": "ipython",
    "version": 3
   },
   "file_extension": ".py",
   "mimetype": "text/x-python",
   "name": "python",
   "nbconvert_exporter": "python",
   "pygments_lexer": "ipython3",
   "version": "3.8.5"
  }
 },
 "nbformat": 4,
 "nbformat_minor": 4
}
