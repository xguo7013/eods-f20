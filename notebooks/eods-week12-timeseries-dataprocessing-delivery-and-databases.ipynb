{
 "cells": [
  {
   "cell_type": "markdown",
   "metadata": {
    "slideshow": {
     "slide_type": "slide"
    }
   },
   "source": [
    "## <center>Elements Of Data Science - F2020</center>\n",
    "# <center>Week 12: Time Series, Data Processing, Delivery and Databases<center>\n",
    "### <center>12/7/2020</center>"
   ]
  },
  {
   "cell_type": "code",
   "execution_count": 1,
   "metadata": {
    "slideshow": {
     "slide_type": "skip"
    }
   },
   "outputs": [],
   "source": [
    "import numpy\n",
    "import numpy as np\n",
    "import pandas as pd\n",
    "import matplotlib.pyplot as plt\n",
    "import seaborn as sns\n",
    "\n",
    "from mlxtend.plotting import plot_decision_regions\n",
    "\n",
    "sns.set_style('darkgrid')\n",
    "%matplotlib inline"
   ]
  },
  {
   "cell_type": "markdown",
   "metadata": {
    "slideshow": {
     "slide_type": "slide"
    }
   },
   "source": [
    "# TODOs\n",
    "\n",
    "- Readings:\n",
    "  - Final Review Sheet\n",
    "  \n",
    "<br>\n",
    "\n",
    "- HW4, Due Friday Dec 18th 11:59pm\n",
    "- Final, ??\n",
    "<br>\n",
    "<br>\n",
    "\n",
    "- Answer and submit Quiz 12, **Sunday Dec 13th, 11:59pm ET**"
   ]
  },
  {
   "cell_type": "markdown",
   "metadata": {
    "slideshow": {
     "slide_type": "slide"
    }
   },
   "source": [
    "# Today\n",
    "\n",
    "- Finish Time Series\n",
    "- Data processing and delivery\n",
    "- Connecting to databases with sqlalchemy and pandas"
   ]
  },
  {
   "cell_type": "markdown",
   "metadata": {
    "slideshow": {
     "slide_type": "slide"
    }
   },
   "source": [
    "<br>\n",
    "<br>\n",
    "\n",
    "# <center>Questions?</center>\n",
    "<br>\n",
    "<br>"
   ]
  },
  {
   "cell_type": "markdown",
   "metadata": {
    "slideshow": {
     "slide_type": "slide"
    }
   },
   "source": [
    "# Timeseries in Python so far:\n",
    "<br>\n",
    "\n",
    "- `datetime .date .time .datetime .timedelta`\n",
    "- format with `.strftime()`\n",
    "- parse time with `pd.to_datetime()`\n",
    "- `pandas Timestamp Timedelta DatetimeIndex`\n",
    "- Indexing with `DatetimeIndex`\n",
    "- Frequencies\n",
    "- Timezones\n",
    "<br>\n",
    "\n",
    "Additional pandas functionality we won't discuss:\n",
    "- `Period` and `PeriodIndex`\n",
    "- `Panels`\n",
    "<br>\n",
    "<br>\n",
    "\n",
    "Next: Operations on Time Series data"
   ]
  },
  {
   "cell_type": "markdown",
   "metadata": {
    "slideshow": {
     "slide_type": "slide"
    }
   },
   "source": [
    "# Shifting\n",
    "\n",
    "- Moving data backward or forward in time (lagging/leading)\n",
    "- Ex: calculate percent change"
   ]
  },
  {
   "cell_type": "code",
   "execution_count": 2,
   "metadata": {
    "slideshow": {
     "slide_type": "fragment"
    }
   },
   "outputs": [
    {
     "data": {
      "text/plain": [
       "2019-01-31    1\n",
       "2019-02-28    2\n",
       "2019-03-31    8\n",
       "Freq: M, dtype: int64"
      ]
     },
     "execution_count": 2,
     "metadata": {},
     "output_type": "execute_result"
    }
   ],
   "source": [
    "ts = pd.Series([1,2,8],\n",
    "               index=pd.date_range('1/1/2019',periods=3,freq='M'))\n",
    "ts"
   ]
  },
  {
   "cell_type": "code",
   "execution_count": 3,
   "metadata": {
    "slideshow": {
     "slide_type": "fragment"
    }
   },
   "outputs": [
    {
     "data": {
      "text/plain": [
       "2019-01-31    NaN\n",
       "2019-02-28    1.0\n",
       "2019-03-31    2.0\n",
       "Freq: M, dtype: float64"
      ]
     },
     "execution_count": 3,
     "metadata": {},
     "output_type": "execute_result"
    }
   ],
   "source": [
    "ts.shift(1) # old value"
   ]
  },
  {
   "cell_type": "markdown",
   "metadata": {
    "slideshow": {
     "slide_type": "slide"
    }
   },
   "source": [
    "# Shifting\n",
    "\n",
    "- **percent change** : \n",
    "  - (new_value - old_value) / old_value\n",
    "  - (new_value / old_value) - 1"
   ]
  },
  {
   "cell_type": "code",
   "execution_count": 4,
   "metadata": {
    "slideshow": {
     "slide_type": "fragment"
    }
   },
   "outputs": [
    {
     "data": {
      "text/plain": [
       "2019-01-31      NaN\n",
       "2019-02-28    100.0\n",
       "2019-03-31    300.0\n",
       "Freq: M, dtype: float64"
      ]
     },
     "execution_count": 4,
     "metadata": {},
     "output_type": "execute_result"
    }
   ],
   "source": [
    "#  multiply by 100 to turn into a percent\n",
    "((ts / ts.shift(1)) - 1) * 100"
   ]
  },
  {
   "cell_type": "markdown",
   "metadata": {
    "slideshow": {
     "slide_type": "slide"
    }
   },
   "source": [
    "# Example Dataset: Twitter Stock"
   ]
  },
  {
   "cell_type": "code",
   "execution_count": 5,
   "metadata": {
    "slideshow": {
     "slide_type": "fragment"
    }
   },
   "outputs": [
    {
     "data": {
      "text/html": [
       "<div>\n",
       "<style scoped>\n",
       "    .dataframe tbody tr th:only-of-type {\n",
       "        vertical-align: middle;\n",
       "    }\n",
       "\n",
       "    .dataframe tbody tr th {\n",
       "        vertical-align: top;\n",
       "    }\n",
       "\n",
       "    .dataframe thead th {\n",
       "        text-align: right;\n",
       "    }\n",
       "</style>\n",
       "<table border=\"1\" class=\"dataframe\">\n",
       "  <thead>\n",
       "    <tr style=\"text-align: right;\">\n",
       "      <th></th>\n",
       "      <th>High</th>\n",
       "      <th>Low</th>\n",
       "      <th>Open</th>\n",
       "      <th>Close</th>\n",
       "      <th>Volume</th>\n",
       "      <th>Adj Close</th>\n",
       "    </tr>\n",
       "    <tr>\n",
       "      <th>Date</th>\n",
       "      <th></th>\n",
       "      <th></th>\n",
       "      <th></th>\n",
       "      <th></th>\n",
       "      <th></th>\n",
       "      <th></th>\n",
       "    </tr>\n",
       "  </thead>\n",
       "  <tbody>\n",
       "    <tr>\n",
       "      <th>2015-01-02</th>\n",
       "      <td>36.740002</td>\n",
       "      <td>35.540001</td>\n",
       "      <td>36.230000</td>\n",
       "      <td>36.560001</td>\n",
       "      <td>12062500</td>\n",
       "      <td>36.560001</td>\n",
       "    </tr>\n",
       "    <tr>\n",
       "      <th>2015-01-05</th>\n",
       "      <td>37.110001</td>\n",
       "      <td>35.639999</td>\n",
       "      <td>36.259998</td>\n",
       "      <td>36.380001</td>\n",
       "      <td>15062700</td>\n",
       "      <td>36.380001</td>\n",
       "    </tr>\n",
       "    <tr>\n",
       "      <th>2015-01-06</th>\n",
       "      <td>39.450001</td>\n",
       "      <td>36.040001</td>\n",
       "      <td>36.270000</td>\n",
       "      <td>38.759998</td>\n",
       "      <td>33050800</td>\n",
       "      <td>38.759998</td>\n",
       "    </tr>\n",
       "  </tbody>\n",
       "</table>\n",
       "</div>"
      ],
      "text/plain": [
       "                 High        Low       Open      Close    Volume  Adj Close\n",
       "Date                                                                       \n",
       "2015-01-02  36.740002  35.540001  36.230000  36.560001  12062500  36.560001\n",
       "2015-01-05  37.110001  35.639999  36.259998  36.380001  15062700  36.380001\n",
       "2015-01-06  39.450001  36.040001  36.270000  38.759998  33050800  38.759998"
      ]
     },
     "execution_count": 5,
     "metadata": {},
     "output_type": "execute_result"
    }
   ],
   "source": [
    "# first run: conda install pandas-datareader\n",
    "#from pandas_datareader import data\n",
    "#df_twtr = data.DataReader('TWTR', start='2015', end='2021', data_source='yahoo') \n",
    "df_twtr = pd.read_csv('../data/twtr_2015-2020.csv',parse_dates=['Date'],index_col='Date')\n",
    "df_twtr.head(3)"
   ]
  },
  {
   "cell_type": "code",
   "execution_count": 6,
   "metadata": {
    "slideshow": {
     "slide_type": "fragment"
    }
   },
   "outputs": [
    {
     "data": {
      "image/png": "[encoded data removed]",
      "text/plain": [
       "<Figure size 864x432 with 1 Axes>"
      ]
     },
     "metadata": {
      "needs_background": "light"
     },
     "output_type": "display_data"
    }
   ],
   "source": [
    "fig,ax = plt.subplots(1,1,figsize=(12,6))\n",
    "df_twtr[['Close']].plot(ax=ax);\n",
    "ax.set_ylabel('stock price');"
   ]
  },
  {
   "cell_type": "markdown",
   "metadata": {
    "slideshow": {
     "slide_type": "slide"
    }
   },
   "source": [
    "# Example Dataset: Twitter Stock\n",
    "\n",
    "- Calculate Percent Change of Close"
   ]
  },
  {
   "cell_type": "code",
   "execution_count": 7,
   "metadata": {
    "slideshow": {
     "slide_type": "fragment"
    }
   },
   "outputs": [
    {
     "data": {
      "text/plain": [
       "Date\n",
       "2020-11-23    0.005819\n",
       "2020-11-24    0.006453\n",
       "2020-11-25    0.026531\n",
       "2020-11-27    0.003446\n",
       "2020-11-30   -0.001717\n",
       "Name: Close, dtype: float64"
      ]
     },
     "execution_count": 7,
     "metadata": {},
     "output_type": "execute_result"
    }
   ],
   "source": [
    "(df_twtr.Close / df_twtr.Close.shift(1) - 1).tail(5)"
   ]
  },
  {
   "cell_type": "code",
   "execution_count": 8,
   "metadata": {},
   "outputs": [
    {
     "data": {
      "image/png": "[encoded data removed]",
      "text/plain": [
       "<Figure size 864x432 with 1 Axes>"
      ]
     },
     "metadata": {
      "needs_background": "light"
     },
     "output_type": "display_data"
    }
   ],
   "source": [
    "# plot percent change of close in 2020\n",
    "fig,ax = plt.subplots(1,1,figsize=(12,6))\n",
    "close_2020 = df_twtr.loc['2020','Close']\n",
    "((close_2020 / close_2020.shift(1)) - 1 ).plot(marker='x',ax=ax);\n",
    "ax.set_ylabel('percent change');"
   ]
  },
  {
   "cell_type": "markdown",
   "metadata": {
    "slideshow": {
     "slide_type": "slide"
    }
   },
   "source": [
    "# Resampling\n",
    "\n",
    "- Convert from one frequency to another\n",
    "<br>\n",
    "\n",
    "- Downsampling\n",
    "  - from higher to lower (day to month)\n",
    "  - need to aggregate\n",
    "<br>\n",
    "<br>\n",
    "\n",
    "- Upsampling\n",
    "  - from lower to higher (month to day)\n",
    "  - need to fill missing\n",
    "<br>\n",
    "<br>\n",
    "\n",
    "- Can also be used to set frequency from None"
   ]
  },
  {
   "cell_type": "markdown",
   "metadata": {
    "slideshow": {
     "slide_type": "slide"
    }
   },
   "source": [
    "# Resampling: Initialize Frequency"
   ]
  },
  {
   "cell_type": "code",
   "execution_count": 9,
   "metadata": {
    "slideshow": {
     "slide_type": "fragment"
    }
   },
   "outputs": [
    {
     "data": {
      "text/plain": [
       "DatetimeIndex(['2015-01-02', '2015-01-05', '2015-01-06', '2015-01-07',\n",
       "               '2015-01-08', '2015-01-09', '2015-01-12', '2015-01-13',\n",
       "               '2015-01-14', '2015-01-15',\n",
       "               ...\n",
       "               '2020-11-16', '2020-11-17', '2020-11-18', '2020-11-19',\n",
       "               '2020-11-20', '2020-11-23', '2020-11-24', '2020-11-25',\n",
       "               '2020-11-27', '2020-11-30'],\n",
       "              dtype='datetime64[ns]', name='Date', length=1489, freq=None)"
      ]
     },
     "execution_count": 9,
     "metadata": {},
     "output_type": "execute_result"
    }
   ],
   "source": [
    "df_twtr.index"
   ]
  },
  {
   "cell_type": "code",
   "execution_count": 10,
   "metadata": {
    "slideshow": {
     "slide_type": "fragment"
    }
   },
   "outputs": [
    {
     "data": {
      "text/plain": [
       "DatetimeIndex(['2015-01-02', '2015-01-05', '2015-01-06', '2015-01-07',\n",
       "               '2015-01-08', '2015-01-09', '2015-01-12', '2015-01-13',\n",
       "               '2015-01-14', '2015-01-15',\n",
       "               ...\n",
       "               '2020-11-17', '2020-11-18', '2020-11-19', '2020-11-20',\n",
       "               '2020-11-23', '2020-11-24', '2020-11-25', '2020-11-26',\n",
       "               '2020-11-27', '2020-11-30'],\n",
       "              dtype='datetime64[ns]', name='Date', length=1542, freq='B')"
      ]
     },
     "execution_count": 10,
     "metadata": {},
     "output_type": "execute_result"
    }
   ],
   "source": [
    "df_twtr_B = df_twtr.resample('B').asfreq() # set frequncy to business day\n",
    "df_twtr_B.index"
   ]
  },
  {
   "cell_type": "markdown",
   "metadata": {
    "slideshow": {
     "slide_type": "slide"
    }
   },
   "source": [
    "# Resampling: Downsampling\n",
    "\n",
    "- Go from shorter to longer\n",
    "- Need to aggregate (like groupby)\n",
    "- Example: Downsampling from business day to business quarter\n",
    "    "
   ]
  },
  {
   "cell_type": "code",
   "execution_count": 11,
   "metadata": {
    "slideshow": {
     "slide_type": "fragment"
    }
   },
   "outputs": [
    {
     "data": {
      "text/plain": [
       "<pandas.core.resample.DatetimeIndexResampler object at 0x7fd4ce120c10>"
      ]
     },
     "execution_count": 11,
     "metadata": {},
     "output_type": "execute_result"
    }
   ],
   "source": [
    "df_twtr_BQ = df_twtr.resample('BQ')\n",
    "df_twtr_BQ"
   ]
  },
  {
   "cell_type": "code",
   "execution_count": 12,
   "metadata": {
    "slideshow": {
     "slide_type": "fragment"
    }
   },
   "outputs": [
    {
     "data": {
      "text/plain": [
       "'DatetimeIndexResampler [freq=<BusinessQuarterEnd: startingMonth=12>, axis=0, closed=right, label=right, convention=start, origin=start_day]'"
      ]
     },
     "execution_count": 12,
     "metadata": {},
     "output_type": "execute_result"
    }
   ],
   "source": [
    "str(df_twtr_BQ)"
   ]
  },
  {
   "cell_type": "code",
   "execution_count": 13,
   "metadata": {
    "slideshow": {
     "slide_type": "fragment"
    }
   },
   "outputs": [
    {
     "data": {
      "text/html": [
       "<div>\n",
       "<style scoped>\n",
       "    .dataframe tbody tr th:only-of-type {\n",
       "        vertical-align: middle;\n",
       "    }\n",
       "\n",
       "    .dataframe tbody tr th {\n",
       "        vertical-align: top;\n",
       "    }\n",
       "\n",
       "    .dataframe thead th {\n",
       "        text-align: right;\n",
       "    }\n",
       "</style>\n",
       "<table border=\"1\" class=\"dataframe\">\n",
       "  <thead>\n",
       "    <tr style=\"text-align: right;\">\n",
       "      <th></th>\n",
       "      <th>High</th>\n",
       "      <th>Low</th>\n",
       "      <th>Open</th>\n",
       "      <th>Close</th>\n",
       "      <th>Volume</th>\n",
       "      <th>Adj Close</th>\n",
       "    </tr>\n",
       "    <tr>\n",
       "      <th>Date</th>\n",
       "      <th></th>\n",
       "      <th></th>\n",
       "      <th></th>\n",
       "      <th></th>\n",
       "      <th></th>\n",
       "      <th></th>\n",
       "    </tr>\n",
       "  </thead>\n",
       "  <tbody>\n",
       "    <tr>\n",
       "      <th>2015-03-31</th>\n",
       "      <td>45.080328</td>\n",
       "      <td>43.552459</td>\n",
       "      <td>44.228688</td>\n",
       "      <td>44.335574</td>\n",
       "      <td>2.084619e+07</td>\n",
       "      <td>44.335574</td>\n",
       "    </tr>\n",
       "    <tr>\n",
       "      <th>2015-06-30</th>\n",
       "      <td>41.634921</td>\n",
       "      <td>40.385079</td>\n",
       "      <td>41.173492</td>\n",
       "      <td>40.874603</td>\n",
       "      <td>2.232030e+07</td>\n",
       "      <td>40.874603</td>\n",
       "    </tr>\n",
       "    <tr>\n",
       "      <th>2015-09-30</th>\n",
       "      <td>30.638281</td>\n",
       "      <td>29.420625</td>\n",
       "      <td>30.047812</td>\n",
       "      <td>30.000625</td>\n",
       "      <td>2.031210e+07</td>\n",
       "      <td>30.000625</td>\n",
       "    </tr>\n",
       "  </tbody>\n",
       "</table>\n",
       "</div>"
      ],
      "text/plain": [
       "                 High        Low       Open      Close        Volume  \\\n",
       "Date                                                                   \n",
       "2015-03-31  45.080328  43.552459  44.228688  44.335574  2.084619e+07   \n",
       "2015-06-30  41.634921  40.385079  41.173492  40.874603  2.232030e+07   \n",
       "2015-09-30  30.638281  29.420625  30.047812  30.000625  2.031210e+07   \n",
       "\n",
       "            Adj Close  \n",
       "Date                   \n",
       "2015-03-31  44.335574  \n",
       "2015-06-30  40.874603  \n",
       "2015-09-30  30.000625  "
      ]
     },
     "execution_count": 13,
     "metadata": {},
     "output_type": "execute_result"
    }
   ],
   "source": [
    "df_twtr_BQ.mean().head(3)"
   ]
  },
  {
   "cell_type": "markdown",
   "metadata": {
    "slideshow": {
     "slide_type": "slide"
    }
   },
   "source": [
    "# Resampling: Downsampling\n",
    "    "
   ]
  },
  {
   "cell_type": "code",
   "execution_count": 14,
   "metadata": {
    "slideshow": {
     "slide_type": "fragment"
    }
   },
   "outputs": [
    {
     "data": {
      "image/png": "[encoded data removed]",
      "text/plain": [
       "<Figure size 864x432 with 1 Axes>"
      ]
     },
     "metadata": {
      "needs_background": "light"
     },
     "output_type": "display_data"
    }
   ],
   "source": [
    "fig,ax = plt.subplots(1,1,figsize=(12,6))\n",
    "df_twtr_B.Close.plot(style='-', label='by B',ax=ax)\n",
    "df_twtr_BQ.Close.mean().plot(style='--',label='by BQ',ax=ax)\n",
    "plt.legend(loc='upper right');"
   ]
  },
  {
   "cell_type": "markdown",
   "metadata": {
    "slideshow": {
     "slide_type": "slide"
    }
   },
   "source": [
    "# Resampling: Upsampling\n",
    "\n",
    "- Go from longer to shorter\n",
    "- Need to decide how to handle missing values\n",
    "- Example: Upsample from business day to hour"
   ]
  },
  {
   "cell_type": "code",
   "execution_count": 15,
   "metadata": {
    "slideshow": {
     "slide_type": "fragment"
    }
   },
   "outputs": [
    {
     "data": {
      "text/plain": [
       "Date\n",
       "2015-01-02 00:00:00    36.560001\n",
       "2015-01-02 01:00:00          NaN\n",
       "2015-01-02 02:00:00          NaN\n",
       "2015-01-02 03:00:00          NaN\n",
       "2015-01-02 04:00:00          NaN\n",
       "2015-01-02 05:00:00          NaN\n",
       "2015-01-02 06:00:00          NaN\n",
       "2015-01-02 07:00:00          NaN\n",
       "2015-01-02 08:00:00          NaN\n",
       "2015-01-02 09:00:00          NaN\n",
       "Freq: H, Name: Close, dtype: float64"
      ]
     },
     "execution_count": 15,
     "metadata": {},
     "output_type": "execute_result"
    }
   ],
   "source": [
    "df_twtr_B.Close.resample('H').asfreq().head(10)"
   ]
  },
  {
   "cell_type": "markdown",
   "metadata": {
    "slideshow": {
     "slide_type": "slide"
    }
   },
   "source": [
    "# Resampling: Upsampling\n",
    "\n",
    "- `ffill()` : Forward Fill"
   ]
  },
  {
   "cell_type": "code",
   "execution_count": 16,
   "metadata": {
    "slideshow": {
     "slide_type": "fragment"
    }
   },
   "outputs": [
    {
     "data": {
      "text/plain": [
       "Date\n",
       "2015-01-02 00:00:00    36.560001\n",
       "2015-01-02 01:00:00    36.560001\n",
       "2015-01-02 02:00:00    36.560001\n",
       "Freq: H, Name: Close, dtype: float64"
      ]
     },
     "execution_count": 16,
     "metadata": {},
     "output_type": "execute_result"
    }
   ],
   "source": [
    "df_twtr_B.Close.resample('H').ffill().head(3)"
   ]
  },
  {
   "cell_type": "markdown",
   "metadata": {
    "slideshow": {
     "slide_type": "fragment"
    }
   },
   "source": [
    "- `bfill()`: Backward Fill\n",
    "    "
   ]
  },
  {
   "cell_type": "code",
   "execution_count": 17,
   "metadata": {
    "slideshow": {
     "slide_type": "fragment"
    }
   },
   "outputs": [
    {
     "data": {
      "text/plain": [
       "Date\n",
       "2015-01-02 00:00:00    36.560001\n",
       "2015-01-02 01:00:00    36.380001\n",
       "2015-01-02 02:00:00    36.380001\n",
       "Freq: H, Name: Close, dtype: float64"
      ]
     },
     "execution_count": 17,
     "metadata": {},
     "output_type": "execute_result"
    }
   ],
   "source": [
    "df_twtr_B.Close.resample('H').bfill().head(3)"
   ]
  },
  {
   "cell_type": "markdown",
   "metadata": {
    "slideshow": {
     "slide_type": "slide"
    }
   },
   "source": [
    "# Moving Windows\n",
    "\n",
    "- Apply function on a fixed window moving accross time\n",
    "- Method of smoothing out the data\n",
    "- **center** : place values at center of window\n",
    "   "
   ]
  },
  {
   "cell_type": "code",
   "execution_count": 18,
   "metadata": {
    "slideshow": {
     "slide_type": "fragment"
    }
   },
   "outputs": [
    {
     "data": {
      "text/plain": [
       "Date\n",
       "2020-11-02    39.470001\n",
       "2020-11-03    41.730000\n",
       "2020-11-04    42.759998\n",
       "2020-11-05    43.709999\n",
       "2020-11-06    43.119999\n",
       "Freq: B, Name: Close, dtype: float64"
      ]
     },
     "execution_count": 18,
     "metadata": {},
     "output_type": "execute_result"
    }
   ],
   "source": [
    "df_twtr_B.Close['2020-11-02':'2020-11-06']"
   ]
  },
  {
   "cell_type": "code",
   "execution_count": 19,
   "metadata": {
    "slideshow": {
     "slide_type": "fragment"
    }
   },
   "outputs": [
    {
     "data": {
      "text/plain": [
       "Rolling [window=5,center=True,axis=0]"
      ]
     },
     "execution_count": 19,
     "metadata": {},
     "output_type": "execute_result"
    }
   ],
   "source": [
    "rolling = df_twtr_B.Close.rolling(5, center=True)\n",
    "rolling"
   ]
  },
  {
   "cell_type": "code",
   "execution_count": 20,
   "metadata": {
    "slideshow": {
     "slide_type": "fragment"
    }
   },
   "outputs": [
    {
     "data": {
      "text/plain": [
       "Date\n",
       "2020-11-02    43.550000\n",
       "2020-11-03    41.806000\n",
       "2020-11-04    42.157999\n",
       "2020-11-05    42.901999\n",
       "2020-11-06    43.037999\n",
       "Freq: B, Name: Close, dtype: float64"
      ]
     },
     "execution_count": 20,
     "metadata": {},
     "output_type": "execute_result"
    }
   ],
   "source": [
    "rolling.mean()['2020-11-02':'2020-11-06']"
   ]
  },
  {
   "cell_type": "markdown",
   "metadata": {
    "slideshow": {
     "slide_type": "slide"
    }
   },
   "source": [
    "# Moving Windows"
   ]
  },
  {
   "cell_type": "code",
   "execution_count": 21,
   "metadata": {
    "slideshow": {
     "slide_type": "fragment"
    }
   },
   "outputs": [
    {
     "data": {
      "image/png": "[encoded data removed]",
      "text/plain": [
       "<Figure size 1152x576 with 1 Axes>"
      ]
     },
     "metadata": {},
     "output_type": "display_data"
    }
   ],
   "source": [
    "sns.set_style(\"whitegrid\")\n",
    "fig,ax = plt.subplots(1,1,figsize=(16,8));\n",
    "df_twtr_B['2020'].Close.plot(style='-',alpha=0.3,label='business day');\n",
    "rolling.mean()['2020'].plot(style='--',label='5 day rolling window mean');\n",
    "(rolling.mean()['2020'] + 2*rolling.std()['2020']).plot(style=':',c='g',label='_nolegend_');\n",
    "(rolling.mean()['2020'] - 2*rolling.std()['2020']).plot(style=':',c='g',label='_nolegend_');\n",
    "ax.legend();"
   ]
  },
  {
   "cell_type": "markdown",
   "metadata": {
    "slideshow": {
     "slide_type": "slide"
    }
   },
   "source": [
    "# Timeseries Operations Review\n",
    "\n",
    "- Shifting\n",
    "- Resampling \n",
    "  - Downsampling\n",
    "  - Upsampling\n",
    "- Moving/Rolling Windows"
   ]
  },
  {
   "cell_type": "markdown",
   "metadata": {
    "slideshow": {
     "slide_type": "slide"
    }
   },
   "source": [
    "<br>\n",
    "<br>\n",
    "\n",
    "# <center>Questions?</center>\n",
    "<br>\n",
    "<br>"
   ]
  },
  {
   "cell_type": "markdown",
   "metadata": {
    "slideshow": {
     "slide_type": "slide"
    }
   },
   "source": [
    "# Data Processing and Delivery: ETL\n",
    "\n",
    "- **E**xtract **T**ransform **L**oad\n",
    "<br>\n",
    "\n",
    "- Extract: Reading in data\n",
    "- Transform: Transforming data\n",
    "- Load: Delivering data"
   ]
  },
  {
   "cell_type": "markdown",
   "metadata": {
    "slideshow": {
     "slide_type": "slide"
    }
   },
   "source": [
    "# Extract: Various Data Sources\n",
    "\n",
    "- flatfiles (csv, excel)\n",
    "- semi-structured documents (json, html)\n",
    "- unstructured documents\n",
    "- data + schema (dataframe, parquet)\n",
    "- APIs (wikipedia, twitter, spotify, etc.)\n",
    "- databases\n",
    "<br>\n",
    "<br>\n",
    "\n",
    "- Pandas to the rescue!\n",
    "+ Plus other specialized libraries"
   ]
  },
  {
   "cell_type": "markdown",
   "metadata": {
    "slideshow": {
     "slide_type": "slide"
    }
   },
   "source": [
    "# Extracting Data with Pandas\n",
    "\n",
    "- read_csv\n",
    "- read_parquet\n",
    "- read_excel\n",
    "- read_table\n",
    "<br>\n",
    "\n",
    "- read_json\n",
    "- read_html\n",
    "<br>\n",
    "\n",
    "- read_sql\n",
    "- read_clipboard\n",
    "- ..."
   ]
  },
  {
   "cell_type": "markdown",
   "metadata": {
    "slideshow": {
     "slide_type": "slide"
    }
   },
   "source": [
    "# Extract Data: CSV\n",
    "\n",
    "Comma Separated Values"
   ]
  },
  {
   "cell_type": "code",
   "execution_count": 22,
   "metadata": {
    "slideshow": {
     "slide_type": "fragment"
    }
   },
   "outputs": [
    {
     "name": "stdout",
     "output_type": "stream",
     "text": [
      "Year,Make,Model,Description,Price\r\n",
      "1997,Ford,E350,\"ac, abs, moon\",3000.00\r\n",
      "1999,Chevy,\"Venture Extended Edition\",\"\",4900.00\r\n",
      "1999,Chevy,\"Venture Extended Edition, Very Large\",,5000.00\r\n",
      "1996,Jeep,Grand Cherokee,\"MUST SELL! air, moon roof, loaded\",4799.00\r\n"
     ]
    }
   ],
   "source": [
    "%cat ../data/example.csv"
   ]
  },
  {
   "cell_type": "code",
   "execution_count": 23,
   "metadata": {
    "slideshow": {
     "slide_type": "fragment"
    }
   },
   "outputs": [
    {
     "data": {
      "text/html": [
       "<div>\n",
       "<style scoped>\n",
       "    .dataframe tbody tr th:only-of-type {\n",
       "        vertical-align: middle;\n",
       "    }\n",
       "\n",
       "    .dataframe tbody tr th {\n",
       "        vertical-align: top;\n",
       "    }\n",
       "\n",
       "    .dataframe thead th {\n",
       "        text-align: right;\n",
       "    }\n",
       "</style>\n",
       "<table border=\"1\" class=\"dataframe\">\n",
       "  <thead>\n",
       "    <tr style=\"text-align: right;\">\n",
       "      <th></th>\n",
       "      <th>Year</th>\n",
       "      <th>Make</th>\n",
       "      <th>Model</th>\n",
       "      <th>Description</th>\n",
       "      <th>Price</th>\n",
       "    </tr>\n",
       "  </thead>\n",
       "  <tbody>\n",
       "    <tr>\n",
       "      <th>0</th>\n",
       "      <td>1997</td>\n",
       "      <td>Ford</td>\n",
       "      <td>E350</td>\n",
       "      <td>ac, abs, moon</td>\n",
       "      <td>3000.0</td>\n",
       "    </tr>\n",
       "    <tr>\n",
       "      <th>1</th>\n",
       "      <td>1999</td>\n",
       "      <td>Chevy</td>\n",
       "      <td>Venture Extended Edition</td>\n",
       "      <td>NaN</td>\n",
       "      <td>4900.0</td>\n",
       "    </tr>\n",
       "    <tr>\n",
       "      <th>2</th>\n",
       "      <td>1999</td>\n",
       "      <td>Chevy</td>\n",
       "      <td>Venture Extended Edition, Very Large</td>\n",
       "      <td>NaN</td>\n",
       "      <td>5000.0</td>\n",
       "    </tr>\n",
       "    <tr>\n",
       "      <th>3</th>\n",
       "      <td>1996</td>\n",
       "      <td>Jeep</td>\n",
       "      <td>Grand Cherokee</td>\n",
       "      <td>MUST SELL! air, moon roof, loaded</td>\n",
       "      <td>4799.0</td>\n",
       "    </tr>\n",
       "  </tbody>\n",
       "</table>\n",
       "</div>"
      ],
      "text/plain": [
       "   Year   Make                                 Model  \\\n",
       "0  1997   Ford                                  E350   \n",
       "1  1999  Chevy              Venture Extended Edition   \n",
       "2  1999  Chevy  Venture Extended Edition, Very Large   \n",
       "3  1996   Jeep                        Grand Cherokee   \n",
       "\n",
       "                         Description   Price  \n",
       "0                      ac, abs, moon  3000.0  \n",
       "1                                NaN  4900.0  \n",
       "2                                NaN  5000.0  \n",
       "3  MUST SELL! air, moon roof, loaded  4799.0  "
      ]
     },
     "execution_count": 23,
     "metadata": {},
     "output_type": "execute_result"
    }
   ],
   "source": [
    "df = pd.read_csv('../data/example.csv',header=0,sep=',')\n",
    "df"
   ]
  },
  {
   "cell_type": "markdown",
   "metadata": {
    "slideshow": {
     "slide_type": "slide"
    }
   },
   "source": [
    "# Extract Data: Excel\n",
    "<br>\n",
    "\n",
    "<div align=\"center\"><img src=\"images/excel_example.png\"></div>"
   ]
  },
  {
   "cell_type": "code",
   "execution_count": 24,
   "metadata": {
    "slideshow": {
     "slide_type": "fragment"
    }
   },
   "outputs": [
    {
     "data": {
      "text/html": [
       "<div>\n",
       "<style scoped>\n",
       "    .dataframe tbody tr th:only-of-type {\n",
       "        vertical-align: middle;\n",
       "    }\n",
       "\n",
       "    .dataframe tbody tr th {\n",
       "        vertical-align: top;\n",
       "    }\n",
       "\n",
       "    .dataframe thead th {\n",
       "        text-align: right;\n",
       "    }\n",
       "</style>\n",
       "<table border=\"1\" class=\"dataframe\">\n",
       "  <thead>\n",
       "    <tr style=\"text-align: right;\">\n",
       "      <th></th>\n",
       "      <th>Year</th>\n",
       "      <th>Make</th>\n",
       "      <th>Model</th>\n",
       "      <th>Description</th>\n",
       "      <th>Price</th>\n",
       "    </tr>\n",
       "  </thead>\n",
       "  <tbody>\n",
       "    <tr>\n",
       "      <th>0</th>\n",
       "      <td>1997</td>\n",
       "      <td>Ford</td>\n",
       "      <td>E350</td>\n",
       "      <td>ac, abs, moon</td>\n",
       "      <td>3000</td>\n",
       "    </tr>\n",
       "    <tr>\n",
       "      <th>1</th>\n",
       "      <td>1999</td>\n",
       "      <td>Chevy</td>\n",
       "      <td>Venture Extended Edition</td>\n",
       "      <td>NaN</td>\n",
       "      <td>4900</td>\n",
       "    </tr>\n",
       "    <tr>\n",
       "      <th>2</th>\n",
       "      <td>1999</td>\n",
       "      <td>Chevy</td>\n",
       "      <td>Venture Extended Edition, Very Large</td>\n",
       "      <td>NaN</td>\n",
       "      <td>5000</td>\n",
       "    </tr>\n",
       "    <tr>\n",
       "      <th>3</th>\n",
       "      <td>1996</td>\n",
       "      <td>Jeep</td>\n",
       "      <td>Grand Cherokee</td>\n",
       "      <td>MUST SELL! air, moon roof, loaded</td>\n",
       "      <td>4799</td>\n",
       "    </tr>\n",
       "  </tbody>\n",
       "</table>\n",
       "</div>"
      ],
      "text/plain": [
       "   Year   Make                                 Model  \\\n",
       "0  1997   Ford                                  E350   \n",
       "1  1999  Chevy              Venture Extended Edition   \n",
       "2  1999  Chevy  Venture Extended Edition, Very Large   \n",
       "3  1996   Jeep                        Grand Cherokee   \n",
       "\n",
       "                         Description  Price  \n",
       "0                      ac, abs, moon   3000  \n",
       "1                                NaN   4900  \n",
       "2                                NaN   5000  \n",
       "3  MUST SELL! air, moon roof, loaded   4799  "
      ]
     },
     "execution_count": 24,
     "metadata": {},
     "output_type": "execute_result"
    }
   ],
   "source": [
    "# first run: conda install -n eods-f20 xlrd\n",
    "pd.read_excel('../data/example.xlsx',sheet_name='Sheet1')"
   ]
  },
  {
   "cell_type": "markdown",
   "metadata": {
    "slideshow": {
     "slide_type": "slide"
    }
   },
   "source": [
    "# Extract Data: Parquet\n",
    "\n",
    "- open source column-oriented data storage\n",
    "- part of the Apache Hadoop ecosystem\n",
    "- often used when working with Spark\n",
    "- requires additional parsing engine eg `pyarrow`\n",
    "- includes both data and **schema**\n",
    "- **Schema** : metadata about the dataset (column names, datatypes, etc.)"
   ]
  },
  {
   "cell_type": "markdown",
   "metadata": {
    "slideshow": {
     "slide_type": "slide"
    }
   },
   "source": [
    "# Extract Data: JSON\n",
    "\n",
    "- **J**ava**S**cript **O**bject **N**otation\n",
    "- often seen as return from api call\n",
    "- looks like a dictionary or list of dictionaries\n",
    "- pretty print using json.loads(json_string)\n",
    "\n",
    "```\n",
    "{\n",
    "  \"firstName\": \"John\",\n",
    "  \"lastName\": \"Smith\",\n",
    "  \"isAlive\": true,\n",
    "  \"age\": 27,\n",
    "  \"phoneNumbers\": [\n",
    "    {\n",
    "      \"type\": \"home\",\n",
    "      \"number\": \"212 555-1234\"\n",
    "    },\n",
    "    {\n",
    "      \"type\": \"office\",\n",
    "      \"number\": \"646 555-4567\"\n",
    "    },\n",
    "  ],\n",
    "  \"children\": [],\n",
    "  \"spouse\": null\n",
    "}\n",
    "```"
   ]
  },
  {
   "cell_type": "markdown",
   "metadata": {
    "slideshow": {
     "slide_type": "slide"
    }
   },
   "source": [
    "# Extract Data: JSON\n"
   ]
  },
  {
   "cell_type": "code",
   "execution_count": 25,
   "metadata": {
    "slideshow": {
     "slide_type": "fragment"
    }
   },
   "outputs": [],
   "source": [
    "json = \"\"\"\n",
    "{\"0\": {\"Year\": 1997,\n",
    "  \"Make\": \"Ford\",\n",
    "  \"Model\": \"E350\",\n",
    "  \"Description\": \"ac, abs, moon\",\n",
    "  \"Price\": 3000.0},\n",
    " \"1\": {\"Year\": 1999,\n",
    "  \"Make\": \"Chevy\",\n",
    "  \"Model\": \"Venture Extended Edition\",\n",
    "  \"Description\": null,\n",
    "  \"Price\": 4900.0},\n",
    " \"2\": {\"Year\": 1999,\n",
    "  \"Make\": \"Chevy\",\n",
    "  \"Model\": \"Venture Extended Edition, Very Large\",\n",
    "  \"Description\": null,\n",
    "  \"Price\": 5000.0},\n",
    " \"3\": {\"Year\": 1996,\n",
    "  \"Make\": \"Jeep\",\n",
    "  \"Model\": \"Grand Cherokee\",\n",
    "  \"Description\": \"MUST SELL! air, moon roof, loaded\",\n",
    "  \"Price\": 4799.0}}\n",
    "\"\"\""
   ]
  },
  {
   "cell_type": "code",
   "execution_count": 26,
   "metadata": {
    "slideshow": {
     "slide_type": "fragment"
    }
   },
   "outputs": [
    {
     "data": {
      "text/html": [
       "<div>\n",
       "<style scoped>\n",
       "    .dataframe tbody tr th:only-of-type {\n",
       "        vertical-align: middle;\n",
       "    }\n",
       "\n",
       "    .dataframe tbody tr th {\n",
       "        vertical-align: top;\n",
       "    }\n",
       "\n",
       "    .dataframe thead th {\n",
       "        text-align: right;\n",
       "    }\n",
       "</style>\n",
       "<table border=\"1\" class=\"dataframe\">\n",
       "  <thead>\n",
       "    <tr style=\"text-align: right;\">\n",
       "      <th></th>\n",
       "      <th>Year</th>\n",
       "      <th>Make</th>\n",
       "      <th>Model</th>\n",
       "      <th>Description</th>\n",
       "      <th>Price</th>\n",
       "    </tr>\n",
       "  </thead>\n",
       "  <tbody>\n",
       "    <tr>\n",
       "      <th>0</th>\n",
       "      <td>1997</td>\n",
       "      <td>Ford</td>\n",
       "      <td>E350</td>\n",
       "      <td>ac, abs, moon</td>\n",
       "      <td>3000</td>\n",
       "    </tr>\n",
       "    <tr>\n",
       "      <th>1</th>\n",
       "      <td>1999</td>\n",
       "      <td>Chevy</td>\n",
       "      <td>Venture Extended Edition</td>\n",
       "      <td>None</td>\n",
       "      <td>4900</td>\n",
       "    </tr>\n",
       "    <tr>\n",
       "      <th>2</th>\n",
       "      <td>1999</td>\n",
       "      <td>Chevy</td>\n",
       "      <td>Venture Extended Edition, Very Large</td>\n",
       "      <td>None</td>\n",
       "      <td>5000</td>\n",
       "    </tr>\n",
       "    <tr>\n",
       "      <th>3</th>\n",
       "      <td>1996</td>\n",
       "      <td>Jeep</td>\n",
       "      <td>Grand Cherokee</td>\n",
       "      <td>MUST SELL! air, moon roof, loaded</td>\n",
       "      <td>4799</td>\n",
       "    </tr>\n",
       "  </tbody>\n",
       "</table>\n",
       "</div>"
      ],
      "text/plain": [
       "   Year   Make                                 Model  \\\n",
       "0  1997   Ford                                  E350   \n",
       "1  1999  Chevy              Venture Extended Edition   \n",
       "2  1999  Chevy  Venture Extended Edition, Very Large   \n",
       "3  1996   Jeep                        Grand Cherokee   \n",
       "\n",
       "                         Description  Price  \n",
       "0                      ac, abs, moon   3000  \n",
       "1                               None   4900  \n",
       "2                               None   5000  \n",
       "3  MUST SELL! air, moon roof, loaded   4799  "
      ]
     },
     "execution_count": 26,
     "metadata": {},
     "output_type": "execute_result"
    }
   ],
   "source": [
    "pd.read_json(json,orient='index')"
   ]
  },
  {
   "cell_type": "markdown",
   "metadata": {
    "slideshow": {
     "slide_type": "slide"
    }
   },
   "source": [
    "# Extract Data: HTML\n",
    "\n",
    "- **H**yper**T**ext **M**arkup **L**anguage\n",
    "- Parse with BeautifulSoup"
   ]
  },
  {
   "cell_type": "code",
   "execution_count": 27,
   "metadata": {
    "slideshow": {
     "slide_type": "fragment"
    }
   },
   "outputs": [
    {
     "data": {
      "text/plain": [
       "['Example text!', 'And More!']"
      ]
     },
     "execution_count": 27,
     "metadata": {},
     "output_type": "execute_result"
    }
   ],
   "source": [
    "html = \"\"\"\n",
    "<html>\n",
    "    <head>\n",
    "        <title>Example</title>\n",
    "    </head>\n",
    "    <body>\n",
    "        <p id=\"first\" class=\"example\"><strong>Example text!</strong></p>\n",
    "        <p id=\"second\" class=\"example\">And More!</p>\n",
    "    </body>\n",
    "</html>\n",
    "\"\"\"\n",
    "\n",
    "from bs4 import BeautifulSoup\n",
    "\n",
    "soup = BeautifulSoup(html)\n",
    "[p.text for p in soup('p')]"
   ]
  },
  {
   "cell_type": "markdown",
   "metadata": {
    "slideshow": {
     "slide_type": "slide"
    }
   },
   "source": [
    "# Extract Data: APIs\n",
    "    \n",
    "- **A**pplication **P**rogramming **I**nterface\n",
    "- defines interactions between software components and resourses\n",
    "- most datasources have an API\n",
    "- some require authentication\n",
    "- python libraries exist for most common APIs\n",
    "<br>\n",
    "<br>\n",
    "\n",
    "- **requests**: library for making web requests and accessing the results"
   ]
  },
  {
   "cell_type": "markdown",
   "metadata": {
    "slideshow": {
     "slide_type": "slide"
    }
   },
   "source": [
    "# API Example: Wikipedia"
   ]
  },
  {
   "cell_type": "code",
   "execution_count": 28,
   "metadata": {
    "slideshow": {
     "slide_type": "fragment"
    }
   },
   "outputs": [
    {
     "name": "stdout",
     "output_type": "stream",
     "text": [
      "http://en.wikipedia.org/w/api.php?action=query&prop=info&format=json&titles=Data%20Science\n"
     ]
    }
   ],
   "source": [
    "import requests\n",
    "url = 'http://en.wikipedia.org/w/api.php?action=query&prop=info&format=json&titles='\n",
    "title = 'Data Science'\n",
    "title = title.replace(' ','%20')\n",
    "print(url+title)"
   ]
  },
  {
   "cell_type": "code",
   "execution_count": 29,
   "metadata": {
    "slideshow": {
     "slide_type": "fragment"
    }
   },
   "outputs": [
    {
     "data": {
      "text/plain": [
       "{'batchcomplete': '',\n",
       " 'query': {'pages': {'49495124': {'pageid': 49495124,\n",
       "    'ns': 0,\n",
       "    'title': 'Data Science',\n",
       "    'contentmodel': 'wikitext',\n",
       "    'pagelanguage': 'en',\n",
       "    'pagelanguagehtmlcode': 'en',\n",
       "    'pagelanguagedir': 'ltr',\n",
       "    'touched': '2020-12-01T22:30:17Z',\n",
       "    'lastrevid': 706007296,\n",
       "    'length': 26,\n",
       "    'redirect': '',\n",
       "    'new': ''}}}}"
      ]
     },
     "execution_count": 29,
     "metadata": {},
     "output_type": "execute_result"
    }
   ],
   "source": [
    "resp = requests.get(url+title)\n",
    "resp.json()"
   ]
  },
  {
   "cell_type": "markdown",
   "metadata": {
    "slideshow": {
     "slide_type": "slide"
    }
   },
   "source": [
    "# API Example: Twitter\n",
    "\n",
    "1. [Apply for Twitter developer account](https://projects.raspberrypi.org/en/projects/getting-started-with-the-twitter-api/2)\n",
    "2. [Create a Twitter application to generate tokens and secrets](https://projects.raspberrypi.org/en/projects/getting-started-with-the-twitter-api/3)"
   ]
  },
  {
   "cell_type": "code",
   "execution_count": 30,
   "metadata": {
    "slideshow": {
     "slide_type": "fragment"
    }
   },
   "outputs": [],
   "source": [
    "with open('/home/bgibson/proj/twitter/twitter_consumer_key.txt') as f:\n",
    "    consumer_key = f.read().strip()\n",
    "with open('/home/bgibson/proj/twitter/twitter_consumer_secret.txt') as f:\n",
    "    consumer_secret = f.read().strip()\n",
    "with open('/home/bgibson/proj/twitter/twitter_access_token.txt') as f:\n",
    "    access_token = f.read().strip()\n",
    "with open('/home/bgibson/proj/twitter/twitter_access_token_secret.txt') as f:\n",
    "    access_token_secret = f.read().strip()\n",
    " \n",
    "# need to run: conda install -n eods-f20 twython\n",
    "from twython import Twython\n",
    "twitter = Twython(consumer_key,consumer_secret,access_token,access_token_secret)"
   ]
  },
  {
   "cell_type": "code",
   "execution_count": 31,
   "metadata": {
    "slideshow": {
     "slide_type": "fragment"
    }
   },
   "outputs": [
    {
     "name": "stdout",
     "output_type": "stream",
     "text": [
      "-------\n",
      "Escuchen radio columbia con @zoilarosavolio 👍🏽\n",
      "-------\n",
      "RT @GamecockWBB: For those asking about LeLe, she's back in Columbia recovering from a head injury. We're hoping she'll be back soon!\n",
      "-------\n",
      "RT @BreeNewsome: “It’s fair to ask if we need more police at this moment,” said Jeffrey Fagan, a leading expert on policing and crime at Co…\n"
     ]
    }
   ],
   "source": [
    "public_tweets = twitter.search(q='columbia')['statuses']\n",
    "for status in public_tweets[:3]:\n",
    "    print('-------')\n",
    "    print(status[\"text\"])"
   ]
  },
  {
   "cell_type": "markdown",
   "metadata": {
    "slideshow": {
     "slide_type": "slide"
    }
   },
   "source": [
    "# Transforming Data\n",
    "\n",
    "- Standardization\n",
    "- Creating dummy variables\n",
    "- Filling missing data\n",
    "- One-Hot-Encoding\n",
    "- Binning\n",
    "- Parsing natural language\n",
    "- Dimensionality reduction\n",
    "- etc..."
   ]
  },
  {
   "cell_type": "markdown",
   "metadata": {
    "slideshow": {
     "slide_type": "slide"
    }
   },
   "source": [
    "# Transform: Pipeline Example 1"
   ]
  },
  {
   "cell_type": "code",
   "execution_count": 32,
   "metadata": {
    "slideshow": {
     "slide_type": "fragment"
    }
   },
   "outputs": [
    {
     "data": {
      "text/plain": [
       "(500, 5)"
      ]
     },
     "execution_count": 32,
     "metadata": {},
     "output_type": "execute_result"
    }
   ],
   "source": [
    "from sklearn.datasets import make_classification\n",
    "from sklearn.model_selection import train_test_split\n",
    "\n",
    "# generate some data to play with\n",
    "X, y = make_classification(n_samples=500,\n",
    "                           n_features=5,\n",
    "                           n_informative=2, # number of informative features\n",
    "                           random_state=42)\n",
    "X.shape"
   ]
  },
  {
   "cell_type": "code",
   "execution_count": 33,
   "metadata": {
    "slideshow": {
     "slide_type": "fragment"
    }
   },
   "outputs": [
    {
     "data": {
      "text/plain": [
       "array([[-0.18,  0.3 , -0.02, -0.3 , -0.39],\n",
       "       [-0.33,  0.33, -0.01, -0.38, -0.46]])"
      ]
     },
     "execution_count": 33,
     "metadata": {},
     "output_type": "execute_result"
    }
   ],
   "source": [
    "X_train,X_test,y_train,y_test = train_test_split(X,y,stratify=y,test_size=.1)\n",
    "\n",
    "X_train[:2].round(2)"
   ]
  },
  {
   "cell_type": "code",
   "execution_count": 34,
   "metadata": {
    "slideshow": {
     "slide_type": "fragment"
    }
   },
   "outputs": [
    {
     "data": {
      "text/plain": [
       "1    226\n",
       "0    224\n",
       "dtype: int64"
      ]
     },
     "execution_count": 34,
     "metadata": {},
     "output_type": "execute_result"
    }
   ],
   "source": [
    "pd.Series(y_train).value_counts()"
   ]
  },
  {
   "cell_type": "markdown",
   "metadata": {
    "slideshow": {
     "slide_type": "slide"
    }
   },
   "source": [
    "# Transform: Pipeline Example 1 Cont."
   ]
  },
  {
   "cell_type": "code",
   "execution_count": 35,
   "metadata": {
    "slideshow": {
     "slide_type": "fragment"
    }
   },
   "outputs": [
    {
     "data": {
      "text/plain": [
       "Pipeline(steps=[('select', SelectKBest(k=2)),\n",
       "                ('svc', SVC(C=0.1, kernel='linear'))])"
      ]
     },
     "execution_count": 35,
     "metadata": {},
     "output_type": "execute_result"
    }
   ],
   "source": [
    "from sklearn.feature_selection import SelectKBest,f_classif\n",
    "from sklearn.svm import SVC\n",
    "from sklearn.pipeline import Pipeline\n",
    "\n",
    "feature_filter = SelectKBest(f_classif, k=2)\n",
    "clf = SVC(kernel='linear')\n",
    "pipeline = Pipeline([('select', feature_filter), ('svc', clf)])\n",
    "pipeline.set_params(svc__C=.1).fit(X_train, y_train)"
   ]
  },
  {
   "cell_type": "code",
   "execution_count": 36,
   "metadata": {
    "slideshow": {
     "slide_type": "fragment"
    }
   },
   "outputs": [
    {
     "data": {
      "text/plain": [
       "0.88"
      ]
     },
     "execution_count": 36,
     "metadata": {},
     "output_type": "execute_result"
    }
   ],
   "source": [
    "pipeline.score(X_test,y_test)"
   ]
  },
  {
   "cell_type": "code",
   "execution_count": 37,
   "metadata": {
    "slideshow": {
     "slide_type": "fragment"
    }
   },
   "outputs": [
    {
     "data": {
      "text/plain": [
       "array([0, 2])"
      ]
     },
     "execution_count": 37,
     "metadata": {},
     "output_type": "execute_result"
    }
   ],
   "source": [
    "np.where(pipeline['select'].get_support())[0]"
   ]
  },
  {
   "cell_type": "markdown",
   "metadata": {
    "slideshow": {
     "slide_type": "slide"
    }
   },
   "source": [
    "# Transform: Pipeline Example 2"
   ]
  },
  {
   "cell_type": "code",
   "execution_count": 38,
   "metadata": {
    "slideshow": {
     "slide_type": "fragment"
    }
   },
   "outputs": [],
   "source": [
    "from sklearn.pipeline import Pipeline\n",
    "from sklearn.impute import SimpleImputer\n",
    "from sklearn.preprocessing import StandardScaler, OneHotEncoder\n",
    "from sklearn.linear_model import LogisticRegression\n",
    "\n",
    "# from https://scikit-learn.org/stable/auto_examples/compose/plot_column_transformer_mixed_types.html#sphx-glr-auto-examples-compose-plot-column-transformer-mixed-types-py\n",
    "# Read data from Titanic dataset.\n",
    "titanic_url = ('https://raw.githubusercontent.com/amueller/'\n",
    "               'scipy-2017-sklearn/091d371/notebooks/datasets/titanic3.csv')\n",
    "df_titanic = pd.read_csv(titanic_url)[['age','fare','embarked','sex','pclass','survived']]\n",
    "\n",
    "# Numeric Features:\n",
    "# - age: float.\n",
    "# - fare: float.\n",
    "# Categorical Features:\n",
    "# - embarked: categories encoded as strings {'C', 'S', 'Q'}.\n",
    "# - sex: categories encoded as strings {'female', 'male'}.\n",
    "# - pclass: ordinal integers {1, 2, 3}."
   ]
  },
  {
   "cell_type": "code",
   "execution_count": 39,
   "metadata": {
    "slideshow": {
     "slide_type": "fragment"
    }
   },
   "outputs": [
    {
     "data": {
      "text/html": [
       "<div>\n",
       "<style scoped>\n",
       "    .dataframe tbody tr th:only-of-type {\n",
       "        vertical-align: middle;\n",
       "    }\n",
       "\n",
       "    .dataframe tbody tr th {\n",
       "        vertical-align: top;\n",
       "    }\n",
       "\n",
       "    .dataframe thead th {\n",
       "        text-align: right;\n",
       "    }\n",
       "</style>\n",
       "<table border=\"1\" class=\"dataframe\">\n",
       "  <thead>\n",
       "    <tr style=\"text-align: right;\">\n",
       "      <th></th>\n",
       "      <th>age</th>\n",
       "      <th>fare</th>\n",
       "      <th>embarked</th>\n",
       "      <th>sex</th>\n",
       "      <th>pclass</th>\n",
       "      <th>survived</th>\n",
       "    </tr>\n",
       "  </thead>\n",
       "  <tbody>\n",
       "    <tr>\n",
       "      <th>0</th>\n",
       "      <td>29.0000</td>\n",
       "      <td>211.3375</td>\n",
       "      <td>S</td>\n",
       "      <td>female</td>\n",
       "      <td>1</td>\n",
       "      <td>1</td>\n",
       "    </tr>\n",
       "    <tr>\n",
       "      <th>1</th>\n",
       "      <td>0.9167</td>\n",
       "      <td>151.5500</td>\n",
       "      <td>S</td>\n",
       "      <td>male</td>\n",
       "      <td>1</td>\n",
       "      <td>1</td>\n",
       "    </tr>\n",
       "    <tr>\n",
       "      <th>2</th>\n",
       "      <td>2.0000</td>\n",
       "      <td>151.5500</td>\n",
       "      <td>S</td>\n",
       "      <td>female</td>\n",
       "      <td>1</td>\n",
       "      <td>0</td>\n",
       "    </tr>\n",
       "  </tbody>\n",
       "</table>\n",
       "</div>"
      ],
      "text/plain": [
       "       age      fare embarked     sex  pclass  survived\n",
       "0  29.0000  211.3375        S  female       1         1\n",
       "1   0.9167  151.5500        S    male       1         1\n",
       "2   2.0000  151.5500        S  female       1         0"
      ]
     },
     "execution_count": 39,
     "metadata": {},
     "output_type": "execute_result"
    }
   ],
   "source": [
    "df_titanic.head(3)"
   ]
  },
  {
   "cell_type": "markdown",
   "metadata": {
    "slideshow": {
     "slide_type": "slide"
    }
   },
   "source": [
    "# ColumnTransformer\n",
    "\n",
    "- Transform set of columns differently as part of a pipeline"
   ]
  },
  {
   "cell_type": "code",
   "execution_count": 40,
   "metadata": {
    "slideshow": {
     "slide_type": "fragment"
    }
   },
   "outputs": [],
   "source": [
    "from sklearn.compose import ColumnTransformer\n",
    "\n",
    "numeric_features = ['age', 'fare']\n",
    "numeric_transformer = Pipeline(steps=[\n",
    "    ('imputer', SimpleImputer(strategy='median')), # fill missing values with median\n",
    "    ('scaler', StandardScaler())])                 # scale features"
   ]
  },
  {
   "cell_type": "code",
   "execution_count": 41,
   "metadata": {
    "slideshow": {
     "slide_type": "fragment"
    }
   },
   "outputs": [],
   "source": [
    "categorical_features = ['embarked', 'sex', 'pclass']\n",
    "categorical_transformer = Pipeline(steps=[\n",
    "    ('imputer', SimpleImputer(strategy='constant', fill_value='missing')), # fill missing value with 'missing'\n",
    "    ('onehot', OneHotEncoder(handle_unknown='ignore'))])                   # one hot encode"
   ]
  },
  {
   "cell_type": "code",
   "execution_count": 42,
   "metadata": {
    "slideshow": {
     "slide_type": "fragment"
    }
   },
   "outputs": [],
   "source": [
    "preprocessor = ColumnTransformer(\n",
    "    transformers=[\n",
    "        ('num', numeric_transformer, numeric_features),\n",
    "        ('cat', categorical_transformer, categorical_features)])"
   ]
  },
  {
   "cell_type": "code",
   "execution_count": 43,
   "metadata": {
    "slideshow": {
     "slide_type": "fragment"
    }
   },
   "outputs": [],
   "source": [
    "clf = Pipeline(steps=[('preprocessor', preprocessor),\n",
    "                      ('classifier', LogisticRegression(solver='lbfgs', random_state=42))])"
   ]
  },
  {
   "cell_type": "markdown",
   "metadata": {
    "slideshow": {
     "slide_type": "slide"
    }
   },
   "source": [
    "# Transform: Pipeline Example 2 Cont."
   ]
  },
  {
   "cell_type": "code",
   "execution_count": 44,
   "metadata": {
    "slideshow": {
     "slide_type": "fragment"
    }
   },
   "outputs": [
    {
     "name": "stdout",
     "output_type": "stream",
     "text": [
      "train set score: 0.784\n",
      "test set score : 0.771\n"
     ]
    }
   ],
   "source": [
    "X = df_titanic.drop('survived', axis=1)\n",
    "y = df_titanic['survived']\n",
    "\n",
    "X_train, X_test, y_train, y_test = train_test_split(X, y, test_size=0.2, random_state=42)\n",
    "clf.fit(X_train, y_train)\n",
    "print(f\"train set score: {clf.score(X_train, y_train):.3f}\")\n",
    "print(f\"test set score : {clf.score(X_test, y_test):.3f}\")"
   ]
  },
  {
   "cell_type": "code",
   "execution_count": 45,
   "metadata": {
    "slideshow": {
     "slide_type": "fragment"
    }
   },
   "outputs": [
    {
     "name": "stdout",
     "output_type": "stream",
     "text": [
      "best test set score from grid search: 0.771\n",
      "best parameter settings: {'classifier__C': 100, 'preprocessor__num__imputer__strategy': 'median'}\n"
     ]
    }
   ],
   "source": [
    "from sklearn.model_selection import GridSearchCV\n",
    "\n",
    "# grid search deep inside the pipeline\n",
    "param_grid = {\n",
    "    'preprocessor__num__imputer__strategy': ['mean', 'median'],\n",
    "    'classifier__C': [0.1, 1.0, 10, 100],\n",
    "}\n",
    "\n",
    "gs_pipeline = GridSearchCV(clf, param_grid, cv=3)\n",
    "gs_pipeline.fit(X_train, y_train)\n",
    "print(\"best test set score from grid search: {:.3f}\".format(gs_pipeline.score(X_test, y_test)))\n",
    "print(\"best parameter settings: {}\".format(gs_pipeline.best_params_))"
   ]
  },
  {
   "cell_type": "markdown",
   "metadata": {
    "slideshow": {
     "slide_type": "slide"
    }
   },
   "source": [
    "# Loading Data with pandas\n",
    "\n",
    "- to_csv\n",
    "- to excel\n",
    "- to_json\n",
    "- to_html\n",
    "- to_parquet\n",
    "<br>\n",
    "\n",
    "- to_sql\n",
    "- to_clipboard\n",
    "<br>\n",
    "\n",
    "- to_pickle"
   ]
  },
  {
   "cell_type": "markdown",
   "metadata": {
    "slideshow": {
     "slide_type": "slide"
    }
   },
   "source": [
    "# Delivering Data With Flask"
   ]
  },
  {
   "cell_type": "markdown",
   "metadata": {
    "slideshow": {
     "slide_type": "fragment"
    }
   },
   "source": [
    "- Flask : lightweight web server\n",
    "- can be used to create a small API to:\n",
    "\n",
    "  - return transformed data\n",
    "  - return predictions\n",
    "  - return datasets\n",
    "  - ...\n"
   ]
  },
  {
   "cell_type": "markdown",
   "metadata": {
    "slideshow": {
     "slide_type": "slide"
    }
   },
   "source": [
    "# Aside: Running python scripts from the command line"
   ]
  },
  {
   "cell_type": "code",
   "execution_count": 46,
   "metadata": {
    "slideshow": {
     "slide_type": "fragment"
    }
   },
   "outputs": [
    {
     "name": "stdout",
     "output_type": "stream",
     "text": [
      "# import necessary libraries and function\r\n",
      "from datetime import datetime\r\n",
      "\r\n",
      "# python as usual\r\n",
      "# will run as script or on import\r\n",
      "run_or_imported_at = datetime.now()\r\n",
      "print(f\"this was run or imported at {run_or_imported_at}\")\r\n",
      "print(f\"{__name__ = :s}\")\r\n",
      "\r\n",
      "if __name__ == \"__main__\":\r\n",
      "    # will only run if this is a script\r\n",
      "    # won't be run if imported\r\n",
      "    print(\"running as a script\")\r\n"
     ]
    }
   ],
   "source": [
    "!cat ../src/sample_script.py"
   ]
  },
  {
   "cell_type": "code",
   "execution_count": 47,
   "metadata": {
    "slideshow": {
     "slide_type": "fragment"
    }
   },
   "outputs": [
    {
     "name": "stdout",
     "output_type": "stream",
     "text": [
      "this was run or imported at 2020-12-07 12:26:06.134512\n",
      "__name__ = sample_script\n"
     ]
    }
   ],
   "source": [
    "import sys\n",
    "sys.path.append('../src/')\n",
    "\n",
    "import sample_script"
   ]
  },
  {
   "cell_type": "code",
   "execution_count": 48,
   "metadata": {
    "slideshow": {
     "slide_type": "fragment"
    }
   },
   "outputs": [
    {
     "name": "stdout",
     "output_type": "stream",
     "text": [
      "2020-12-07 12:26:06.134512\n"
     ]
    }
   ],
   "source": [
    "print(sample_script.run_or_imported_at)"
   ]
  },
  {
   "cell_type": "markdown",
   "metadata": {
    "slideshow": {
     "slide_type": "slide"
    }
   },
   "source": [
    "# Aside: Function Decorators\n",
    "    \n",
    "- act like wrappers around functions\n",
    "- decorators are prefixed by the \"@\" symbol\n",
    "- placed above the function to be wrapped"
   ]
  },
  {
   "cell_type": "code",
   "execution_count": 49,
   "metadata": {
    "slideshow": {
     "slide_type": "fragment"
    }
   },
   "outputs": [
    {
     "name": "stdout",
     "output_type": "stream",
     "text": [
      "Happens before the function is called.\n",
      "Hello\n",
      "Happens after the function is called.\n"
     ]
    }
   ],
   "source": [
    "def my_decorator(func):\n",
    "    def wrapper():\n",
    "        print(\"Happens before the function is called.\")\n",
    "        func()\n",
    "        print(\"Happens after the function is called.\")\n",
    "    return wrapper\n",
    "\n",
    "@my_decorator\n",
    "def say_hello():\n",
    "    print(\"Hello\")\n",
    "    \n",
    "say_hello()"
   ]
  },
  {
   "cell_type": "markdown",
   "metadata": {
    "slideshow": {
     "slide_type": "slide"
    }
   },
   "source": [
    "# Creating APIs: Flask\n",
    "\n",
    "Need to run: `conda install -n  eods-f20 flask`"
   ]
  },
  {
   "cell_type": "code",
   "execution_count": 50,
   "metadata": {
    "slideshow": {
     "slide_type": "fragment"
    }
   },
   "outputs": [
    {
     "name": "stdout",
     "output_type": "stream",
     "text": [
      "from flask import Flask, escape, request\r\n",
      "\r\n",
      "app = Flask(__name__)\r\n",
      "\r\n",
      "@app.route('/')\r\n",
      "def hello():\r\n",
      "    name = request.args.get(\"name\", \"World\")\r\n",
      "    return f'Hello, {escape(name)}!\\n'\r\n",
      "\r\n",
      "if __name__ == '__main__':\r\n",
      "    app.run()\r\n"
     ]
    }
   ],
   "source": [
    "!cat ../src/hello_flask.py"
   ]
  },
  {
   "cell_type": "markdown",
   "metadata": {
    "slideshow": {
     "slide_type": "fragment"
    }
   },
   "source": [
    "1. at command line, run: `$ python hello_flask.py`\n",
    "\n",
    "2. in ipython (or notebook)\n",
    "\n",
    "\n",
    "    import requests\n",
    "    r = requests.get('http://127.0.0.1:5000/?name=Bryan')\n",
    "    print(r.text)"
   ]
  },
  {
   "cell_type": "markdown",
   "metadata": {
    "slideshow": {
     "slide_type": "slide"
    }
   },
   "source": [
    "# Creating APIs: Flask with Multiple Routes"
   ]
  },
  {
   "cell_type": "code",
   "execution_count": 51,
   "metadata": {
    "slideshow": {
     "slide_type": "fragment"
    }
   },
   "outputs": [
    {
     "name": "stdout",
     "output_type": "stream",
     "text": [
      "import numpy as np\r\n",
      "from flask import Flask, request, jsonify\r\n",
      "\r\n",
      "app = Flask(__name__)\r\n",
      "\r\n",
      "@app.route(\"/\")\r\n",
      "def help():\r\n",
      "    return \"Give the number of sides the die should have.\\n\"\r\n",
      "\r\n",
      "@app.route(\"/<int:sides>\")\r\n",
      "def roll_die(sides):\r\n",
      "    return str(np.random.randint(1,sides+1))\r\n",
      "\r\n",
      "@app.route(\"/json/<int:sides>\")\r\n",
      "def roll_die_json(sides):\r\n",
      "    return jsonify({'sides': sides,'roll': np.random.randint(1,sides+1)})\r\n",
      "\r\n",
      "if __name__ == '__main__':\r\n",
      "    app.run()\r\n"
     ]
    }
   ],
   "source": [
    "!cat ../src/die_flask.py"
   ]
  },
  {
   "cell_type": "markdown",
   "metadata": {
    "slideshow": {
     "slide_type": "slide"
    }
   },
   "source": [
    "# GET vs POST\n",
    "\n",
    "- **GET** : pass information in the url\n",
    "```\n",
    "127.0.0.1:5000/?firstname=Bryan&lastname=Gibson\n",
    "```\n",
    "\n",
    "- **POST** : pass information as additional http request (often JSON)\n",
    "\n",
    "```\n",
    "127.0.0.1:5000/\n",
    "{'firstname':'Bryan','lastname':'Gibson'}\n",
    "```"
   ]
  },
  {
   "cell_type": "markdown",
   "metadata": {
    "slideshow": {
     "slide_type": "slide"
    }
   },
   "source": [
    "# Creating APIs: Flask\n",
    "\n",
    "- Export trained models (and other data structures) using `pickle`"
   ]
  },
  {
   "cell_type": "code",
   "execution_count": 52,
   "metadata": {
    "slideshow": {
     "slide_type": "fragment"
    }
   },
   "outputs": [],
   "source": [
    "import pickle as pkl\n",
    "with open('../src/titanic_pipeline_clf.pkl','wb') as f:\n",
    "    pkl.dump(gs_pipeline,f)"
   ]
  },
  {
   "cell_type": "markdown",
   "metadata": {
    "slideshow": {
     "slide_type": "slide"
    }
   },
   "source": [
    "# Creating APIs: Deliver Predictions Using Flask"
   ]
  },
  {
   "cell_type": "markdown",
   "metadata": {
    "slideshow": {
     "slide_type": "fragment"
    }
   },
   "source": [
    "```python\n",
    "from flask import Flask, escape, request, jsonify\n",
    "import pickle as pkl\n",
    "import pandas as pd\n",
    "\n",
    "# need to train and pickle classifier first\n",
    "with open('./titanic_clf.pkl','rb') as f:\n",
    "    clf = pkl.load(f)\n",
    "    \n",
    "app = Flask(__name__)\n",
    "\n",
    "@app.route('/',methods=['POST'])\n",
    "def predict():\n",
    "    prediction = None\n",
    "    query = pd.DataFrame(request.form,index=[0])\n",
    "    print(query,flush=True)\n",
    "    if query is not None:\n",
    "        prediction = clf.predict(query)\n",
    "    if prediction:\n",
    "        return jsonify([str(x) for x in prediction])\n",
    "    else:\n",
    "        return 'no predictions made'\n",
    "    \n",
    "if __name__ == '__main__':\n",
    "    app.run()\n",
    "```"
   ]
  },
  {
   "cell_type": "markdown",
   "metadata": {
    "slideshow": {
     "slide_type": "slide"
    }
   },
   "source": [
    "# Creating APIs: Deliver Predictions Using Flask Cont."
   ]
  },
  {
   "cell_type": "code",
   "execution_count": 53,
   "metadata": {
    "slideshow": {
     "slide_type": "fragment"
    }
   },
   "outputs": [],
   "source": [
    "query_label = df_titanic.iloc[0].loc['survived']"
   ]
  },
  {
   "cell_type": "code",
   "execution_count": 54,
   "metadata": {
    "slideshow": {
     "slide_type": "fragment"
    }
   },
   "outputs": [
    {
     "data": {
      "text/plain": [
       "{'age': 29.0, 'fare': 211.3375, 'embarked': 'S', 'sex': 'female', 'pclass': 1}"
      ]
     },
     "execution_count": 54,
     "metadata": {},
     "output_type": "execute_result"
    }
   ],
   "source": [
    "query = df_titanic.iloc[0,:-1].to_dict()\n",
    "query"
   ]
  },
  {
   "cell_type": "code",
   "execution_count": 55,
   "metadata": {
    "slideshow": {
     "slide_type": "fragment"
    }
   },
   "outputs": [
    {
     "data": {
      "text/plain": [
       "1"
      ]
     },
     "execution_count": 55,
     "metadata": {},
     "output_type": "execute_result"
    }
   ],
   "source": [
    "query_label"
   ]
  },
  {
   "cell_type": "code",
   "execution_count": 56,
   "metadata": {
    "slideshow": {
     "slide_type": "fragment"
    }
   },
   "outputs": [],
   "source": [
    "# requests.post('http://127.0.0.1:5000/', data=query).text"
   ]
  },
  {
   "cell_type": "markdown",
   "metadata": {
    "slideshow": {
     "slide_type": "slide"
    }
   },
   "source": [
    "# Data Processing Summary\n",
    "\n",
    "- ETL\n",
    "- reading datafiles using pandas\n",
    "- website scraping (requests,BeautifulSoup)\n",
    "- accessing data via API\n",
    "- Tranforming data with Pipelines\n",
    "- Exposing data via API (Flask)\n"
   ]
  },
  {
   "cell_type": "markdown",
   "metadata": {
    "slideshow": {
     "slide_type": "slide"
    }
   },
   "source": [
    "<br>\n",
    "<br>\n",
    "\n",
    "# <center>Questions?</center>\n",
    "<br>\n",
    "<br>"
   ]
  },
  {
   "cell_type": "markdown",
   "metadata": {
    "slideshow": {
     "slide_type": "slide"
    }
   },
   "source": [
    "# Accessing Databases with Python\n",
    "\n",
    "- databases vs flat-files\n",
    "- Relational Databases and SQL\n",
    "- NoSQL databases"
   ]
  },
  {
   "cell_type": "markdown",
   "metadata": {},
   "source": [
    "# Flat Files\n",
    "\n",
    "<div align=\"center\"><img src=\"images/unnormalized.png\"></div>\n",
    "\n",
    "- csv, json, etc\n",
    "<br>\n",
    "\n",
    "- Pros\n",
    "  - Ease of access\n",
    "  - Simple to transport\n",
    "<br>\n",
    "\n",
    "- Cons\n",
    "  - May include redundant information\n",
    "  - Slow to search\n",
    "  - No integity checks"
   ]
  },
  {
   "cell_type": "markdown",
   "metadata": {
    "slideshow": {
     "slide_type": "slide"
    }
   },
   "source": [
    "# Relational Databases\n",
    "\n",
    "- Data stored in **tables** (rows/columns)\n",
    "- Table columns have well defined datatype requirements\n",
    "- Complex **indexes** can be set up over often used data/searches\n",
    "- Row level security, separate from the operating system\n",
    "- Related data is stored in separate tables, referenced by **keys**\n",
    "- Business logic in **stored procedures** and **views**\n",
    "<br>\n",
    "\n",
    "- Many commonly used Relation Databases\n",
    "  - sqlite (small footprint db, might already have it installed)\n",
    "  - Mysql\n",
    "  - PostgreSQL\n",
    "  - Microsoft SQL Server\n",
    "  - Oracle"
   ]
  },
  {
   "cell_type": "markdown",
   "metadata": {
    "slideshow": {
     "slide_type": "slide"
    }
   },
   "source": [
    "# Database Normalization\n",
    "\n",
    "- Organize data in accordance with **normal forms**\n",
    "<br>\n",
    "\n",
    "- Rules designed to:\n",
    "  - reduce data redundancy\n",
    "  - improve data integrity\n",
    "<br>\n",
    "<br>\n",
    "\n",
    "- Rules like:\n",
    "  - Has Primary Key\n",
    "  - No repeating groups\n",
    "  - Cells have single values\n",
    "  - No partial dependencies on keys (use whole key)\n",
    "  - ..."
   ]
  },
  {
   "cell_type": "markdown",
   "metadata": {
    "slideshow": {
     "slide_type": "slide"
    }
   },
   "source": [
    "# Database Normalization\n",
    "<br>\n",
    "\n",
    "<div align=\"center\"><img src=\"images/database_normalization.jpeg\"></div>\n",
    "\n",
    "From [https://www.minigranth.com/dbms-tutorial/database-normalization-dbms/](from https://www.minigranth.com/dbms-tutorial/database-normalization-dbms/)"
   ]
  },
  {
   "cell_type": "markdown",
   "metadata": {
    "slideshow": {
     "slide_type": "slide"
    }
   },
   "source": [
    "# De-Normalization\n",
    "<br>\n",
    "\n",
    "- But we want a single table/dataframe!\n",
    "- Very often need to denormalize\n",
    "- .. using joins! (see more later)"
   ]
  },
  {
   "cell_type": "markdown",
   "metadata": {
    "slideshow": {
     "slide_type": "slide"
    }
   },
   "source": [
    "# Structured Query Language (SQL)\n",
    "\n",
    "- (Semi) standard language for querying, transforming and returning data\n",
    "- Notable characteristics:\n",
    "  - generally case independent\n",
    "  - white-space is ignored\n",
    "  - strings denoted with single quotes\n",
    "  - comments start with double-dash \"--\"\n",
    "  \n",
    "```sql\n",
    "SELECT \n",
    "    client_id\n",
    "    ,lastname\n",
    "FROM\n",
    "    company_db.bi.clients --usually database.schema.table\n",
    "WHERE\n",
    "    lastname LIKE 'Gi%'   --only include rows with lastname starting with Gi\n",
    "LIMIT 10\n",
    "```"
   ]
  },
  {
   "cell_type": "markdown",
   "metadata": {
    "slideshow": {
     "slide_type": "slide"
    }
   },
   "source": [
    "# Small but Powerful DB: SQLite3\n",
    "\n",
    "- likely already have it installed\n",
    "- many programs use it to store configurations, history, etc\n",
    "- good place to play around with sql\n",
    "\n",
    "```\n",
    "bgibson@civet:~$ sqlite3\n",
    "SQLite version 3.22.0 2018-01-22 18:45:57\n",
    "Enter \".help\" for usage hints.\n",
    "Connected to a transient in-memory database.\n",
    "Use \".open FILENAME\" to reopen on a persistent database.\n",
    "sqlite> \n",
    "```"
   ]
  },
  {
   "cell_type": "markdown",
   "metadata": {
    "slideshow": {
     "slide_type": "slide"
    }
   },
   "source": [
    "# Accessing Relational DBs: `sqlalchemy`\n",
    "\n",
    "- flexible library for accessing a variety of sql dbs\n",
    "- can use to query through pandas itself to retrieve a dataframe"
   ]
  },
  {
   "cell_type": "raw",
   "metadata": {
    "slideshow": {
     "slide_type": "skip"
    }
   },
   "source": [
    "# need to first run: conda install -n eods-f20 sqlalchemy\n",
    "import sqlalchemy\n",
    "\n",
    "df = pd.read_csv('../data/example.csv',header=0,sep=',',na_values='None')\n",
    "engine = sqlalchemy.create_engine('sqlite:///../data/autos.sqlite')\n",
    "df.to_sql('sales',engine,if_exists='replace',index_label=\"ID\")"
   ]
  },
  {
   "cell_type": "raw",
   "metadata": {
    "slideshow": {
     "slide_type": "skip"
    }
   },
   "source": [
    "# need to first run: conda install -n eods-f20 sqlalchemy\n",
    "import sqlalchemy\n",
    "\n",
    "# sqlite sqlalchemy relative path syntax: 'sqlite:///[path to database file]'\n",
    "engine = sqlalchemy.create_engine('sqlite:///../data/autos.sqlite')\n",
    "\n",
    "# read all records from the table sales\n",
    "sql = \"\"\"\n",
    "SELECT\n",
    "    *\n",
    "FROM\n",
    "    sales\n",
    "\"\"\"\n",
    "\n",
    "pd.read_sql(sql,engine,index_col=\"ID\")"
   ]
  },
  {
   "cell_type": "raw",
   "metadata": {
    "slideshow": {
     "slide_type": "skip"
    }
   },
   "source": [
    "import sqlalchemy\n",
    "\n",
    "clients = pd.DataFrame([],columns=['client_id', 'firstname', 'lastname', 'home_address_id'])\n",
    "clients['client_id'] = pd.to_numeric(clients.client_id)\n",
    "clients['home_address_id'] = pd.to_numeric(clients.home_address_id)\n",
    "data = [[102,'Mikel','Rouse',1002],\n",
    "        [103,'Laura','Gibson',1003],\n",
    "        [104,None,'Hurst',1003]]\n",
    "for idx,row in enumerate(data):\n",
    "    clients.loc[idx] = row\n",
    "\n",
    "addresses = pd.DataFrame([[1002,'1 First Ave.'],[1003,'2 Second Ave.']],\n",
    "                         columns=['address_id','address'])\n",
    "\n",
    "engine = sqlalchemy.create_engine('sqlite:///../data/example_business.sqlite')\n",
    "clients.to_sql('clients',engine,if_exists='replace',index=False)\n",
    "addresses.to_sql('addresses',engine,if_exists='replace',index=False)"
   ]
  },
  {
   "cell_type": "code",
   "execution_count": 57,
   "metadata": {
    "slideshow": {
     "slide_type": "fragment"
    }
   },
   "outputs": [
    {
     "data": {
      "text/html": [
       "<div>\n",
       "<style scoped>\n",
       "    .dataframe tbody tr th:only-of-type {\n",
       "        vertical-align: middle;\n",
       "    }\n",
       "\n",
       "    .dataframe tbody tr th {\n",
       "        vertical-align: top;\n",
       "    }\n",
       "\n",
       "    .dataframe thead th {\n",
       "        text-align: right;\n",
       "    }\n",
       "</style>\n",
       "<table border=\"1\" class=\"dataframe\">\n",
       "  <thead>\n",
       "    <tr style=\"text-align: right;\">\n",
       "      <th></th>\n",
       "      <th>client_id</th>\n",
       "      <th>firstname</th>\n",
       "      <th>lastname</th>\n",
       "      <th>home_address_id</th>\n",
       "    </tr>\n",
       "  </thead>\n",
       "  <tbody>\n",
       "    <tr>\n",
       "      <th>0</th>\n",
       "      <td>102</td>\n",
       "      <td>Mikel</td>\n",
       "      <td>Rouse</td>\n",
       "      <td>1002</td>\n",
       "    </tr>\n",
       "    <tr>\n",
       "      <th>1</th>\n",
       "      <td>103</td>\n",
       "      <td>Laura</td>\n",
       "      <td>Gibson</td>\n",
       "      <td>1003</td>\n",
       "    </tr>\n",
       "    <tr>\n",
       "      <th>2</th>\n",
       "      <td>104</td>\n",
       "      <td>None</td>\n",
       "      <td>Hurst</td>\n",
       "      <td>1003</td>\n",
       "    </tr>\n",
       "  </tbody>\n",
       "</table>\n",
       "</div>"
      ],
      "text/plain": [
       "   client_id firstname lastname  home_address_id\n",
       "0        102     Mikel    Rouse             1002\n",
       "1        103     Laura   Gibson             1003\n",
       "2        104      None    Hurst             1003"
      ]
     },
     "execution_count": 57,
     "metadata": {},
     "output_type": "execute_result"
    }
   ],
   "source": [
    "import sqlalchemy\n",
    "\n",
    "# sqlite sqlalchemy relative path syntax: 'sqlite:///[path to database file]'\n",
    "engine = sqlalchemy.create_engine('sqlite:///../data/example_business.sqlite')\n",
    "\n",
    "# read all records from the table sales\n",
    "sql = \"\"\"\n",
    "SELECT\n",
    "    *\n",
    "FROM\n",
    "    clients\n",
    "\"\"\"\n",
    "\n",
    "pd.read_sql(sql,engine)"
   ]
  },
  {
   "cell_type": "markdown",
   "metadata": {
    "slideshow": {
     "slide_type": "slide"
    }
   },
   "source": [
    "# SQL: SELECT"
   ]
  },
  {
   "cell_type": "code",
   "execution_count": 58,
   "metadata": {
    "slideshow": {
     "slide_type": "fragment"
    }
   },
   "outputs": [
    {
     "data": {
      "text/html": [
       "<div>\n",
       "<style scoped>\n",
       "    .dataframe tbody tr th:only-of-type {\n",
       "        vertical-align: middle;\n",
       "    }\n",
       "\n",
       "    .dataframe tbody tr th {\n",
       "        vertical-align: top;\n",
       "    }\n",
       "\n",
       "    .dataframe thead th {\n",
       "        text-align: right;\n",
       "    }\n",
       "</style>\n",
       "<table border=\"1\" class=\"dataframe\">\n",
       "  <thead>\n",
       "    <tr style=\"text-align: right;\">\n",
       "      <th></th>\n",
       "      <th>client_id</th>\n",
       "      <th>lastname</th>\n",
       "    </tr>\n",
       "  </thead>\n",
       "  <tbody>\n",
       "    <tr>\n",
       "      <th>0</th>\n",
       "      <td>102</td>\n",
       "      <td>Rouse</td>\n",
       "    </tr>\n",
       "    <tr>\n",
       "      <th>1</th>\n",
       "      <td>103</td>\n",
       "      <td>Gibson</td>\n",
       "    </tr>\n",
       "    <tr>\n",
       "      <th>2</th>\n",
       "      <td>104</td>\n",
       "      <td>Hurst</td>\n",
       "    </tr>\n",
       "  </tbody>\n",
       "</table>\n",
       "</div>"
      ],
      "text/plain": [
       "   client_id lastname\n",
       "0        102    Rouse\n",
       "1        103   Gibson\n",
       "2        104    Hurst"
      ]
     },
     "execution_count": 58,
     "metadata": {},
     "output_type": "execute_result"
    }
   ],
   "source": [
    "sql=\"\"\"\n",
    "SELECT \n",
    "    client_id\n",
    "    ,lastname\n",
    "FROM\n",
    "    clients\n",
    "\"\"\"\n",
    "\n",
    "pd.read_sql(sql,engine)"
   ]
  },
  {
   "cell_type": "markdown",
   "metadata": {
    "slideshow": {
     "slide_type": "slide"
    }
   },
   "source": [
    "# SQL: AS alias"
   ]
  },
  {
   "cell_type": "code",
   "execution_count": 59,
   "metadata": {
    "slideshow": {
     "slide_type": "fragment"
    }
   },
   "outputs": [
    {
     "data": {
      "text/html": [
       "<div>\n",
       "<style scoped>\n",
       "    .dataframe tbody tr th:only-of-type {\n",
       "        vertical-align: middle;\n",
       "    }\n",
       "\n",
       "    .dataframe tbody tr th {\n",
       "        vertical-align: top;\n",
       "    }\n",
       "\n",
       "    .dataframe thead th {\n",
       "        text-align: right;\n",
       "    }\n",
       "</style>\n",
       "<table border=\"1\" class=\"dataframe\">\n",
       "  <thead>\n",
       "    <tr style=\"text-align: right;\">\n",
       "      <th></th>\n",
       "      <th>cid</th>\n",
       "      <th>lastname</th>\n",
       "    </tr>\n",
       "  </thead>\n",
       "  <tbody>\n",
       "    <tr>\n",
       "      <th>0</th>\n",
       "      <td>102</td>\n",
       "      <td>Rouse</td>\n",
       "    </tr>\n",
       "    <tr>\n",
       "      <th>1</th>\n",
       "      <td>103</td>\n",
       "      <td>Gibson</td>\n",
       "    </tr>\n",
       "    <tr>\n",
       "      <th>2</th>\n",
       "      <td>104</td>\n",
       "      <td>Hurst</td>\n",
       "    </tr>\n",
       "  </tbody>\n",
       "</table>\n",
       "</div>"
      ],
      "text/plain": [
       "   cid lastname\n",
       "0  102    Rouse\n",
       "1  103   Gibson\n",
       "2  104    Hurst"
      ]
     },
     "execution_count": 59,
     "metadata": {},
     "output_type": "execute_result"
    }
   ],
   "source": [
    "sql=\"\"\"\n",
    "SELECT \n",
    "    client_id AS cid\n",
    "    ,lastname\n",
    "FROM\n",
    "    clients\n",
    "\"\"\"\n",
    "\n",
    "pd.read_sql(sql,engine)"
   ]
  },
  {
   "cell_type": "markdown",
   "metadata": {
    "slideshow": {
     "slide_type": "slide"
    }
   },
   "source": [
    "# SQL: * (wildcard)"
   ]
  },
  {
   "cell_type": "code",
   "execution_count": 60,
   "metadata": {
    "slideshow": {
     "slide_type": "fragment"
    }
   },
   "outputs": [
    {
     "data": {
      "text/html": [
       "<div>\n",
       "<style scoped>\n",
       "    .dataframe tbody tr th:only-of-type {\n",
       "        vertical-align: middle;\n",
       "    }\n",
       "\n",
       "    .dataframe tbody tr th {\n",
       "        vertical-align: top;\n",
       "    }\n",
       "\n",
       "    .dataframe thead th {\n",
       "        text-align: right;\n",
       "    }\n",
       "</style>\n",
       "<table border=\"1\" class=\"dataframe\">\n",
       "  <thead>\n",
       "    <tr style=\"text-align: right;\">\n",
       "      <th></th>\n",
       "      <th>client_id</th>\n",
       "      <th>firstname</th>\n",
       "      <th>lastname</th>\n",
       "      <th>home_address_id</th>\n",
       "    </tr>\n",
       "  </thead>\n",
       "  <tbody>\n",
       "    <tr>\n",
       "      <th>0</th>\n",
       "      <td>102</td>\n",
       "      <td>Mikel</td>\n",
       "      <td>Rouse</td>\n",
       "      <td>1002</td>\n",
       "    </tr>\n",
       "    <tr>\n",
       "      <th>1</th>\n",
       "      <td>103</td>\n",
       "      <td>Laura</td>\n",
       "      <td>Gibson</td>\n",
       "      <td>1003</td>\n",
       "    </tr>\n",
       "    <tr>\n",
       "      <th>2</th>\n",
       "      <td>104</td>\n",
       "      <td>None</td>\n",
       "      <td>Hurst</td>\n",
       "      <td>1003</td>\n",
       "    </tr>\n",
       "  </tbody>\n",
       "</table>\n",
       "</div>"
      ],
      "text/plain": [
       "   client_id firstname lastname  home_address_id\n",
       "0        102     Mikel    Rouse             1002\n",
       "1        103     Laura   Gibson             1003\n",
       "2        104      None    Hurst             1003"
      ]
     },
     "execution_count": 60,
     "metadata": {},
     "output_type": "execute_result"
    }
   ],
   "source": [
    "sql=\"\"\"\n",
    "SELECT \n",
    "    *\n",
    "FROM\n",
    "    clients\n",
    "\"\"\"\n",
    "\n",
    "pd.read_sql(sql,engine)"
   ]
  },
  {
   "cell_type": "markdown",
   "metadata": {
    "slideshow": {
     "slide_type": "slide"
    }
   },
   "source": [
    "# SQL: WHERE"
   ]
  },
  {
   "cell_type": "code",
   "execution_count": 61,
   "metadata": {
    "slideshow": {
     "slide_type": "fragment"
    }
   },
   "outputs": [
    {
     "data": {
      "text/html": [
       "<div>\n",
       "<style scoped>\n",
       "    .dataframe tbody tr th:only-of-type {\n",
       "        vertical-align: middle;\n",
       "    }\n",
       "\n",
       "    .dataframe tbody tr th {\n",
       "        vertical-align: top;\n",
       "    }\n",
       "\n",
       "    .dataframe thead th {\n",
       "        text-align: right;\n",
       "    }\n",
       "</style>\n",
       "<table border=\"1\" class=\"dataframe\">\n",
       "  <thead>\n",
       "    <tr style=\"text-align: right;\">\n",
       "      <th></th>\n",
       "      <th>client_id</th>\n",
       "      <th>firstname</th>\n",
       "      <th>lastname</th>\n",
       "      <th>home_address_id</th>\n",
       "    </tr>\n",
       "  </thead>\n",
       "  <tbody>\n",
       "    <tr>\n",
       "      <th>0</th>\n",
       "      <td>103</td>\n",
       "      <td>Laura</td>\n",
       "      <td>Gibson</td>\n",
       "      <td>1003</td>\n",
       "    </tr>\n",
       "    <tr>\n",
       "      <th>1</th>\n",
       "      <td>104</td>\n",
       "      <td>None</td>\n",
       "      <td>Hurst</td>\n",
       "      <td>1003</td>\n",
       "    </tr>\n",
       "  </tbody>\n",
       "</table>\n",
       "</div>"
      ],
      "text/plain": [
       "   client_id firstname lastname  home_address_id\n",
       "0        103     Laura   Gibson             1003\n",
       "1        104      None    Hurst             1003"
      ]
     },
     "execution_count": 61,
     "metadata": {},
     "output_type": "execute_result"
    }
   ],
   "source": [
    "sql = \"\"\"\n",
    "SELECT\n",
    "    *\n",
    "FROM\n",
    "    clients\n",
    "WHERE home_address_id = 1003\n",
    "\"\"\"\n",
    "\n",
    "pd.read_sql(sql,engine)"
   ]
  },
  {
   "cell_type": "code",
   "execution_count": 62,
   "metadata": {
    "slideshow": {
     "slide_type": "fragment"
    }
   },
   "outputs": [
    {
     "data": {
      "text/html": [
       "<div>\n",
       "<style scoped>\n",
       "    .dataframe tbody tr th:only-of-type {\n",
       "        vertical-align: middle;\n",
       "    }\n",
       "\n",
       "    .dataframe tbody tr th {\n",
       "        vertical-align: top;\n",
       "    }\n",
       "\n",
       "    .dataframe thead th {\n",
       "        text-align: right;\n",
       "    }\n",
       "</style>\n",
       "<table border=\"1\" class=\"dataframe\">\n",
       "  <thead>\n",
       "    <tr style=\"text-align: right;\">\n",
       "      <th></th>\n",
       "      <th>client_id</th>\n",
       "      <th>firstname</th>\n",
       "      <th>lastname</th>\n",
       "      <th>home_address_id</th>\n",
       "    </tr>\n",
       "  </thead>\n",
       "  <tbody>\n",
       "    <tr>\n",
       "      <th>0</th>\n",
       "      <td>103</td>\n",
       "      <td>Laura</td>\n",
       "      <td>Gibson</td>\n",
       "      <td>1003</td>\n",
       "    </tr>\n",
       "  </tbody>\n",
       "</table>\n",
       "</div>"
      ],
      "text/plain": [
       "   client_id firstname lastname  home_address_id\n",
       "0        103     Laura   Gibson             1003"
      ]
     },
     "execution_count": 62,
     "metadata": {},
     "output_type": "execute_result"
    }
   ],
   "source": [
    "sql = \"\"\"\n",
    "SELECT\n",
    "    *\n",
    "FROM\n",
    "    clients\n",
    "WHERE home_address_id = 1003 AND lastname LIKE 'Gi%'\n",
    "\"\"\"\n",
    "\n",
    "pd.read_sql(sql,engine)"
   ]
  },
  {
   "cell_type": "markdown",
   "metadata": {
    "slideshow": {
     "slide_type": "slide"
    }
   },
   "source": [
    "# NoSQL\n",
    "\n",
    "- Anything that isn't traditional SQL/RDBMS\n",
    "  - key-value (Redis,Berkely DB)\n",
    "  - document store (MongoDB, DocumentDB)\n",
    "  - wide column (Cassandra, HBase, DynamoDB)\n",
    "  - graph (Neo4j)\n",
    "<br>\n",
    "<br>\n",
    "\n",
    "- Rapidly growing field to fit needs\n",
    "- Probably more as we speak"
   ]
  },
  {
   "cell_type": "markdown",
   "metadata": {
    "slideshow": {
     "slide_type": "slide"
    }
   },
   "source": [
    "# Example: Mongo\n",
    "<br>\n",
    "\n",
    "- records represented as documents (think json)\n",
    "- very flexible structure\n",
    "- great way to store semi-structure data\n",
    "- a lot of processing needed to turn into feature vectors\n",
    "<br>\n",
    "\n",
    "- contains databases (db)\n",
    "  - which contain collections (like tables)\n",
    "  - which you then do finds on"
   ]
  },
  {
   "cell_type": "markdown",
   "metadata": {
    "slideshow": {
     "slide_type": "slide"
    }
   },
   "source": [
    "# Example: Mongo\n",
    "\n",
    "- Need to have Mongo running on your local machine with a 'twitter_db' database"
   ]
  },
  {
   "cell_type": "code",
   "execution_count": 63,
   "metadata": {
    "slideshow": {
     "slide_type": "fragment"
    }
   },
   "outputs": [],
   "source": [
    "# conda install -n eods-f20 pymongo\n",
    "import pymongo\n",
    "\n",
    "# start up our client, defaults to the local machine\n",
    "mdb = pymongo.MongoClient()\n",
    "\n",
    "# get a connection to a database\n",
    "db = mdb.twitter_db\n",
    "\n",
    "# get a connection to a collection in that database\n",
    "coll = db.twitter_collection"
   ]
  },
  {
   "cell_type": "markdown",
   "metadata": {
    "slideshow": {
     "slide_type": "slide"
    }
   },
   "source": [
    "# Example: Mongo"
   ]
  },
  {
   "cell_type": "code",
   "execution_count": 65,
   "metadata": {
    "slideshow": {
     "slide_type": "fragment"
    }
   },
   "outputs": [],
   "source": [
    "# get one record\n",
    "coll.find_one()\n",
    "\n",
    "example_output = \"\"\"\n",
    " '_id': ObjectId('59c95e2c2471847a9783c400'),\n",
    " 'created_at': 'Mon Sep 25 19:51:08 +0000 2017',\n",
    " 'id': 912404120484511749,\n",
    " 'id_str': '912404120484511749',\n",
    " 'text': 'RT @YarmolukDan: Waste Management Just Got Cleaner and More Efficient https://t.co/HtaXzfxbrA #DataScience #DataScientist #BigData #AI #IoT…',\n",
    " 'source': '<a href=\"http://twitter.com/download/android\" rel=\"nofollow\">Twitter for Android</a>',\n",
    " 'truncated': False,\n",
    " 'in_reply_to_status_id': None,\n",
    " 'in_reply_to_status_id_str': None,\n",
    " 'in_reply_to_user_id': None,\n",
    " 'in_reply_to_user_id_str': None,\n",
    " 'in_reply_to_screen_name': None,\n",
    " 'user': {'id': 912391257430794241,\n",
    "  'id_str': '912391257430794241',\n",
    "  'name': 'Roxane Wattenbarger',\n",
    "  'screen_name': 'roxanewattenba6',\n",
    "  'location': None,\n",
    "  'url': None,\n",
    "  'description': 'l',\n",
    "  'translator_type': 'none',\n",
    "  ...'\n",
    "\"\"\"\n"
   ]
  },
  {
   "cell_type": "markdown",
   "metadata": {
    "slideshow": {
     "slide_type": "slide"
    }
   },
   "source": [
    "<br>\n",
    "<br>\n",
    "\n",
    "# <center>Questions?</center>\n",
    "<br>\n",
    "<br>"
   ]
  }
 ],
 "metadata": {
  "celltoolbar": "Slideshow",
  "kernelspec": {
   "display_name": "eods-f20",
   "language": "python",
   "name": "eods-f20"
  },
  "language_info": {
   "codemirror_mode": {
    "name": "ipython",
    "version": 3
   },
   "file_extension": ".py",
   "mimetype": "text/x-python",
   "name": "python",
   "nbconvert_exporter": "python",
   "pygments_lexer": "ipython3",
   "version": "3.8.5"
  }
 },
 "nbformat": 4,
 "nbformat_minor": 4
}
